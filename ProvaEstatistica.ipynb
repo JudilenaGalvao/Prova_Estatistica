{
  "nbformat": 4,
  "nbformat_minor": 0,
  "metadata": {
    "colab": {
      "provenance": []
    },
    "kernelspec": {
      "name": "python3",
      "display_name": "Python 3"
    },
    "language_info": {
      "name": "python"
    }
  },
  "cells": [
    {
      "cell_type": "markdown",
      "source": [
        "###Importes e leitura do arquivo\n",
        "\n",
        "---\n",
        "\n"
      ],
      "metadata": {
        "id": "bzwTV0ZJWSGx"
      }
    },
    {
      "cell_type": "code",
      "source": [
        "import pandas as pd\n",
        "import numpy as np\n",
        "import matplotlib.pyplot as plt\n",
        "import statistics\n",
        "import seaborn as sn\n",
        "from sklearn import linear_model\n",
        "from sklearn.linear_model import LinearRegression\n",
        "from scipy import stats\n",
        "\n",
        "arqv = pd.read_csv('BDAgro.csv')\n",
        "arqv\n",
        "\n",
        "arqv.head()"
      ],
      "metadata": {
        "id": "vFcB-yxUWX02",
        "colab": {
          "base_uri": "https://localhost:8080/",
          "height": 392
        },
        "outputId": "a4e3e2fe-1c3c-45ca-ce5d-9744888d2b90"
      },
      "execution_count": 2,
      "outputs": [
        {
          "output_type": "execute_result",
          "data": {
            "text/plain": [
              "                 CNPJ                   Nome  UF MetdCult  NMaquinas  \\\n",
              "0  01.001.001/0001-13      Agrarian Ventures  RN   DIRETO          3   \n",
              "1  01.001.001/0001-57          Agrarian Vent  RN   DIRETO          9   \n",
              "2  01.001.001/0001-38  Agrarian Ventures Co.  RN    PALHA          0   \n",
              "3  01.001.001/0001-82  Agrarian Ventures Co2  RN    PALHA          3   \n",
              "4  01.001.001/0001-23            AgriConnect  RN   DIRETO          7   \n",
              "\n",
              "   NTrabalhadores  Espacamen  PsMedBd  PsMedBi  BrixBd  BrixBi  temp  umidade  \\\n",
              "0              58        1.0       30       19      53      32    24       80   \n",
              "1              62        0.5       56       28      59      38    66       54   \n",
              "2              53        1.5       44       23      57      35    25       84   \n",
              "3              25        1.0       72       35      64      41    27       66   \n",
              "4              32        1.5       37       20      54      33    23       93   \n",
              "\n",
              "   prec  ProdBd  ProdBi  \n",
              "0   488    5722    1425  \n",
              "1   120    2000    1000  \n",
              "2   350   12719    2123  \n",
              "3   301   26610    3451  \n",
              "4   335    7251    1719  "
            ],
            "text/html": [
              "\n",
              "  <div id=\"df-e65b8150-ccbc-416a-84a3-d804d9fcb502\">\n",
              "    <div class=\"colab-df-container\">\n",
              "      <div>\n",
              "<style scoped>\n",
              "    .dataframe tbody tr th:only-of-type {\n",
              "        vertical-align: middle;\n",
              "    }\n",
              "\n",
              "    .dataframe tbody tr th {\n",
              "        vertical-align: top;\n",
              "    }\n",
              "\n",
              "    .dataframe thead th {\n",
              "        text-align: right;\n",
              "    }\n",
              "</style>\n",
              "<table border=\"1\" class=\"dataframe\">\n",
              "  <thead>\n",
              "    <tr style=\"text-align: right;\">\n",
              "      <th></th>\n",
              "      <th>CNPJ</th>\n",
              "      <th>Nome</th>\n",
              "      <th>UF</th>\n",
              "      <th>MetdCult</th>\n",
              "      <th>NMaquinas</th>\n",
              "      <th>NTrabalhadores</th>\n",
              "      <th>Espacamen</th>\n",
              "      <th>PsMedBd</th>\n",
              "      <th>PsMedBi</th>\n",
              "      <th>BrixBd</th>\n",
              "      <th>BrixBi</th>\n",
              "      <th>temp</th>\n",
              "      <th>umidade</th>\n",
              "      <th>prec</th>\n",
              "      <th>ProdBd</th>\n",
              "      <th>ProdBi</th>\n",
              "    </tr>\n",
              "  </thead>\n",
              "  <tbody>\n",
              "    <tr>\n",
              "      <th>0</th>\n",
              "      <td>01.001.001/0001-13</td>\n",
              "      <td>Agrarian Ventures</td>\n",
              "      <td>RN</td>\n",
              "      <td>DIRETO</td>\n",
              "      <td>3</td>\n",
              "      <td>58</td>\n",
              "      <td>1.0</td>\n",
              "      <td>30</td>\n",
              "      <td>19</td>\n",
              "      <td>53</td>\n",
              "      <td>32</td>\n",
              "      <td>24</td>\n",
              "      <td>80</td>\n",
              "      <td>488</td>\n",
              "      <td>5722</td>\n",
              "      <td>1425</td>\n",
              "    </tr>\n",
              "    <tr>\n",
              "      <th>1</th>\n",
              "      <td>01.001.001/0001-57</td>\n",
              "      <td>Agrarian Vent</td>\n",
              "      <td>RN</td>\n",
              "      <td>DIRETO</td>\n",
              "      <td>9</td>\n",
              "      <td>62</td>\n",
              "      <td>0.5</td>\n",
              "      <td>56</td>\n",
              "      <td>28</td>\n",
              "      <td>59</td>\n",
              "      <td>38</td>\n",
              "      <td>66</td>\n",
              "      <td>54</td>\n",
              "      <td>120</td>\n",
              "      <td>2000</td>\n",
              "      <td>1000</td>\n",
              "    </tr>\n",
              "    <tr>\n",
              "      <th>2</th>\n",
              "      <td>01.001.001/0001-38</td>\n",
              "      <td>Agrarian Ventures Co.</td>\n",
              "      <td>RN</td>\n",
              "      <td>PALHA</td>\n",
              "      <td>0</td>\n",
              "      <td>53</td>\n",
              "      <td>1.5</td>\n",
              "      <td>44</td>\n",
              "      <td>23</td>\n",
              "      <td>57</td>\n",
              "      <td>35</td>\n",
              "      <td>25</td>\n",
              "      <td>84</td>\n",
              "      <td>350</td>\n",
              "      <td>12719</td>\n",
              "      <td>2123</td>\n",
              "    </tr>\n",
              "    <tr>\n",
              "      <th>3</th>\n",
              "      <td>01.001.001/0001-82</td>\n",
              "      <td>Agrarian Ventures Co2</td>\n",
              "      <td>RN</td>\n",
              "      <td>PALHA</td>\n",
              "      <td>3</td>\n",
              "      <td>25</td>\n",
              "      <td>1.0</td>\n",
              "      <td>72</td>\n",
              "      <td>35</td>\n",
              "      <td>64</td>\n",
              "      <td>41</td>\n",
              "      <td>27</td>\n",
              "      <td>66</td>\n",
              "      <td>301</td>\n",
              "      <td>26610</td>\n",
              "      <td>3451</td>\n",
              "    </tr>\n",
              "    <tr>\n",
              "      <th>4</th>\n",
              "      <td>01.001.001/0001-23</td>\n",
              "      <td>AgriConnect</td>\n",
              "      <td>RN</td>\n",
              "      <td>DIRETO</td>\n",
              "      <td>7</td>\n",
              "      <td>32</td>\n",
              "      <td>1.5</td>\n",
              "      <td>37</td>\n",
              "      <td>20</td>\n",
              "      <td>54</td>\n",
              "      <td>33</td>\n",
              "      <td>23</td>\n",
              "      <td>93</td>\n",
              "      <td>335</td>\n",
              "      <td>7251</td>\n",
              "      <td>1719</td>\n",
              "    </tr>\n",
              "  </tbody>\n",
              "</table>\n",
              "</div>\n",
              "      <button class=\"colab-df-convert\" onclick=\"convertToInteractive('df-e65b8150-ccbc-416a-84a3-d804d9fcb502')\"\n",
              "              title=\"Convert this dataframe to an interactive table.\"\n",
              "              style=\"display:none;\">\n",
              "        \n",
              "  <svg xmlns=\"http://www.w3.org/2000/svg\" height=\"24px\"viewBox=\"0 0 24 24\"\n",
              "       width=\"24px\">\n",
              "    <path d=\"M0 0h24v24H0V0z\" fill=\"none\"/>\n",
              "    <path d=\"M18.56 5.44l.94 2.06.94-2.06 2.06-.94-2.06-.94-.94-2.06-.94 2.06-2.06.94zm-11 1L8.5 8.5l.94-2.06 2.06-.94-2.06-.94L8.5 2.5l-.94 2.06-2.06.94zm10 10l.94 2.06.94-2.06 2.06-.94-2.06-.94-.94-2.06-.94 2.06-2.06.94z\"/><path d=\"M17.41 7.96l-1.37-1.37c-.4-.4-.92-.59-1.43-.59-.52 0-1.04.2-1.43.59L10.3 9.45l-7.72 7.72c-.78.78-.78 2.05 0 2.83L4 21.41c.39.39.9.59 1.41.59.51 0 1.02-.2 1.41-.59l7.78-7.78 2.81-2.81c.8-.78.8-2.07 0-2.86zM5.41 20L4 18.59l7.72-7.72 1.47 1.35L5.41 20z\"/>\n",
              "  </svg>\n",
              "      </button>\n",
              "      \n",
              "  <style>\n",
              "    .colab-df-container {\n",
              "      display:flex;\n",
              "      flex-wrap:wrap;\n",
              "      gap: 12px;\n",
              "    }\n",
              "\n",
              "    .colab-df-convert {\n",
              "      background-color: #E8F0FE;\n",
              "      border: none;\n",
              "      border-radius: 50%;\n",
              "      cursor: pointer;\n",
              "      display: none;\n",
              "      fill: #1967D2;\n",
              "      height: 32px;\n",
              "      padding: 0 0 0 0;\n",
              "      width: 32px;\n",
              "    }\n",
              "\n",
              "    .colab-df-convert:hover {\n",
              "      background-color: #E2EBFA;\n",
              "      box-shadow: 0px 1px 2px rgba(60, 64, 67, 0.3), 0px 1px 3px 1px rgba(60, 64, 67, 0.15);\n",
              "      fill: #174EA6;\n",
              "    }\n",
              "\n",
              "    [theme=dark] .colab-df-convert {\n",
              "      background-color: #3B4455;\n",
              "      fill: #D2E3FC;\n",
              "    }\n",
              "\n",
              "    [theme=dark] .colab-df-convert:hover {\n",
              "      background-color: #434B5C;\n",
              "      box-shadow: 0px 1px 3px 1px rgba(0, 0, 0, 0.15);\n",
              "      filter: drop-shadow(0px 1px 2px rgba(0, 0, 0, 0.3));\n",
              "      fill: #FFFFFF;\n",
              "    }\n",
              "  </style>\n",
              "\n",
              "      <script>\n",
              "        const buttonEl =\n",
              "          document.querySelector('#df-e65b8150-ccbc-416a-84a3-d804d9fcb502 button.colab-df-convert');\n",
              "        buttonEl.style.display =\n",
              "          google.colab.kernel.accessAllowed ? 'block' : 'none';\n",
              "\n",
              "        async function convertToInteractive(key) {\n",
              "          const element = document.querySelector('#df-e65b8150-ccbc-416a-84a3-d804d9fcb502');\n",
              "          const dataTable =\n",
              "            await google.colab.kernel.invokeFunction('convertToInteractive',\n",
              "                                                     [key], {});\n",
              "          if (!dataTable) return;\n",
              "\n",
              "          const docLinkHtml = 'Like what you see? Visit the ' +\n",
              "            '<a target=\"_blank\" href=https://colab.research.google.com/notebooks/data_table.ipynb>data table notebook</a>'\n",
              "            + ' to learn more about interactive tables.';\n",
              "          element.innerHTML = '';\n",
              "          dataTable['output_type'] = 'display_data';\n",
              "          await google.colab.output.renderOutput(dataTable, element);\n",
              "          const docLink = document.createElement('div');\n",
              "          docLink.innerHTML = docLinkHtml;\n",
              "          element.appendChild(docLink);\n",
              "        }\n",
              "      </script>\n",
              "    </div>\n",
              "  </div>\n",
              "  "
            ]
          },
          "metadata": {},
          "execution_count": 2
        }
      ]
    },
    {
      "cell_type": "code",
      "source": [
        "arqv.tail()"
      ],
      "metadata": {
        "colab": {
          "base_uri": "https://localhost:8080/",
          "height": 357
        },
        "id": "nDXLq5bcV8JL",
        "outputId": "71616038-94cc-454a-c0a4-ebc9d110f774"
      },
      "execution_count": 3,
      "outputs": [
        {
          "output_type": "execute_result",
          "data": {
            "text/plain": [
              "                   CNPJ                   Nome  UF MetdCult  NMaquinas  \\\n",
              "295  01.001.001/0001-30      Sunflower Meadows  RN    PALHA          4   \n",
              "296  01.001.001/0001-74     Sunflower Meadows2  RN    PALHA          6   \n",
              "297  01.001.001/0001-20  Sustainable AgroTech1  RN    PALHA          5   \n",
              "298  01.001.001/0001-64  Sustainable AgroTech2  RN    PALHA          6   \n",
              "299  01.001.001/0001-85             TerraVerde  RN   DIRETO          5   \n",
              "\n",
              "     NTrabalhadores  Espacamen  PsMedBd  PsMedBi  BrixBd  BrixBi  temp  \\\n",
              "295              66        0.5       41       22      56      34    28   \n",
              "296              23        1.5       67       32      63      40    28   \n",
              "297              36        1.5       34       19      53      33    29   \n",
              "298              50        1.0       61       30      61      39    28   \n",
              "299              30        1.0       74       36      64      42    31   \n",
              "\n",
              "     umidade  prec  ProdBd  ProdBi  \n",
              "295       82   407    9767    1960  \n",
              "296       83   407   24686    3285  \n",
              "297       85   306    6848    1678  \n",
              "298       88   295   21662    2909  \n",
              "299       94   276   26890    3502  "
            ],
            "text/html": [
              "\n",
              "  <div id=\"df-6e3bd16e-b677-43f6-a58a-8040c54f3f51\">\n",
              "    <div class=\"colab-df-container\">\n",
              "      <div>\n",
              "<style scoped>\n",
              "    .dataframe tbody tr th:only-of-type {\n",
              "        vertical-align: middle;\n",
              "    }\n",
              "\n",
              "    .dataframe tbody tr th {\n",
              "        vertical-align: top;\n",
              "    }\n",
              "\n",
              "    .dataframe thead th {\n",
              "        text-align: right;\n",
              "    }\n",
              "</style>\n",
              "<table border=\"1\" class=\"dataframe\">\n",
              "  <thead>\n",
              "    <tr style=\"text-align: right;\">\n",
              "      <th></th>\n",
              "      <th>CNPJ</th>\n",
              "      <th>Nome</th>\n",
              "      <th>UF</th>\n",
              "      <th>MetdCult</th>\n",
              "      <th>NMaquinas</th>\n",
              "      <th>NTrabalhadores</th>\n",
              "      <th>Espacamen</th>\n",
              "      <th>PsMedBd</th>\n",
              "      <th>PsMedBi</th>\n",
              "      <th>BrixBd</th>\n",
              "      <th>BrixBi</th>\n",
              "      <th>temp</th>\n",
              "      <th>umidade</th>\n",
              "      <th>prec</th>\n",
              "      <th>ProdBd</th>\n",
              "      <th>ProdBi</th>\n",
              "    </tr>\n",
              "  </thead>\n",
              "  <tbody>\n",
              "    <tr>\n",
              "      <th>295</th>\n",
              "      <td>01.001.001/0001-30</td>\n",
              "      <td>Sunflower Meadows</td>\n",
              "      <td>RN</td>\n",
              "      <td>PALHA</td>\n",
              "      <td>4</td>\n",
              "      <td>66</td>\n",
              "      <td>0.5</td>\n",
              "      <td>41</td>\n",
              "      <td>22</td>\n",
              "      <td>56</td>\n",
              "      <td>34</td>\n",
              "      <td>28</td>\n",
              "      <td>82</td>\n",
              "      <td>407</td>\n",
              "      <td>9767</td>\n",
              "      <td>1960</td>\n",
              "    </tr>\n",
              "    <tr>\n",
              "      <th>296</th>\n",
              "      <td>01.001.001/0001-74</td>\n",
              "      <td>Sunflower Meadows2</td>\n",
              "      <td>RN</td>\n",
              "      <td>PALHA</td>\n",
              "      <td>6</td>\n",
              "      <td>23</td>\n",
              "      <td>1.5</td>\n",
              "      <td>67</td>\n",
              "      <td>32</td>\n",
              "      <td>63</td>\n",
              "      <td>40</td>\n",
              "      <td>28</td>\n",
              "      <td>83</td>\n",
              "      <td>407</td>\n",
              "      <td>24686</td>\n",
              "      <td>3285</td>\n",
              "    </tr>\n",
              "    <tr>\n",
              "      <th>297</th>\n",
              "      <td>01.001.001/0001-20</td>\n",
              "      <td>Sustainable AgroTech1</td>\n",
              "      <td>RN</td>\n",
              "      <td>PALHA</td>\n",
              "      <td>5</td>\n",
              "      <td>36</td>\n",
              "      <td>1.5</td>\n",
              "      <td>34</td>\n",
              "      <td>19</td>\n",
              "      <td>53</td>\n",
              "      <td>33</td>\n",
              "      <td>29</td>\n",
              "      <td>85</td>\n",
              "      <td>306</td>\n",
              "      <td>6848</td>\n",
              "      <td>1678</td>\n",
              "    </tr>\n",
              "    <tr>\n",
              "      <th>298</th>\n",
              "      <td>01.001.001/0001-64</td>\n",
              "      <td>Sustainable AgroTech2</td>\n",
              "      <td>RN</td>\n",
              "      <td>PALHA</td>\n",
              "      <td>6</td>\n",
              "      <td>50</td>\n",
              "      <td>1.0</td>\n",
              "      <td>61</td>\n",
              "      <td>30</td>\n",
              "      <td>61</td>\n",
              "      <td>39</td>\n",
              "      <td>28</td>\n",
              "      <td>88</td>\n",
              "      <td>295</td>\n",
              "      <td>21662</td>\n",
              "      <td>2909</td>\n",
              "    </tr>\n",
              "    <tr>\n",
              "      <th>299</th>\n",
              "      <td>01.001.001/0001-85</td>\n",
              "      <td>TerraVerde</td>\n",
              "      <td>RN</td>\n",
              "      <td>DIRETO</td>\n",
              "      <td>5</td>\n",
              "      <td>30</td>\n",
              "      <td>1.0</td>\n",
              "      <td>74</td>\n",
              "      <td>36</td>\n",
              "      <td>64</td>\n",
              "      <td>42</td>\n",
              "      <td>31</td>\n",
              "      <td>94</td>\n",
              "      <td>276</td>\n",
              "      <td>26890</td>\n",
              "      <td>3502</td>\n",
              "    </tr>\n",
              "  </tbody>\n",
              "</table>\n",
              "</div>\n",
              "      <button class=\"colab-df-convert\" onclick=\"convertToInteractive('df-6e3bd16e-b677-43f6-a58a-8040c54f3f51')\"\n",
              "              title=\"Convert this dataframe to an interactive table.\"\n",
              "              style=\"display:none;\">\n",
              "        \n",
              "  <svg xmlns=\"http://www.w3.org/2000/svg\" height=\"24px\"viewBox=\"0 0 24 24\"\n",
              "       width=\"24px\">\n",
              "    <path d=\"M0 0h24v24H0V0z\" fill=\"none\"/>\n",
              "    <path d=\"M18.56 5.44l.94 2.06.94-2.06 2.06-.94-2.06-.94-.94-2.06-.94 2.06-2.06.94zm-11 1L8.5 8.5l.94-2.06 2.06-.94-2.06-.94L8.5 2.5l-.94 2.06-2.06.94zm10 10l.94 2.06.94-2.06 2.06-.94-2.06-.94-.94-2.06-.94 2.06-2.06.94z\"/><path d=\"M17.41 7.96l-1.37-1.37c-.4-.4-.92-.59-1.43-.59-.52 0-1.04.2-1.43.59L10.3 9.45l-7.72 7.72c-.78.78-.78 2.05 0 2.83L4 21.41c.39.39.9.59 1.41.59.51 0 1.02-.2 1.41-.59l7.78-7.78 2.81-2.81c.8-.78.8-2.07 0-2.86zM5.41 20L4 18.59l7.72-7.72 1.47 1.35L5.41 20z\"/>\n",
              "  </svg>\n",
              "      </button>\n",
              "      \n",
              "  <style>\n",
              "    .colab-df-container {\n",
              "      display:flex;\n",
              "      flex-wrap:wrap;\n",
              "      gap: 12px;\n",
              "    }\n",
              "\n",
              "    .colab-df-convert {\n",
              "      background-color: #E8F0FE;\n",
              "      border: none;\n",
              "      border-radius: 50%;\n",
              "      cursor: pointer;\n",
              "      display: none;\n",
              "      fill: #1967D2;\n",
              "      height: 32px;\n",
              "      padding: 0 0 0 0;\n",
              "      width: 32px;\n",
              "    }\n",
              "\n",
              "    .colab-df-convert:hover {\n",
              "      background-color: #E2EBFA;\n",
              "      box-shadow: 0px 1px 2px rgba(60, 64, 67, 0.3), 0px 1px 3px 1px rgba(60, 64, 67, 0.15);\n",
              "      fill: #174EA6;\n",
              "    }\n",
              "\n",
              "    [theme=dark] .colab-df-convert {\n",
              "      background-color: #3B4455;\n",
              "      fill: #D2E3FC;\n",
              "    }\n",
              "\n",
              "    [theme=dark] .colab-df-convert:hover {\n",
              "      background-color: #434B5C;\n",
              "      box-shadow: 0px 1px 3px 1px rgba(0, 0, 0, 0.15);\n",
              "      filter: drop-shadow(0px 1px 2px rgba(0, 0, 0, 0.3));\n",
              "      fill: #FFFFFF;\n",
              "    }\n",
              "  </style>\n",
              "\n",
              "      <script>\n",
              "        const buttonEl =\n",
              "          document.querySelector('#df-6e3bd16e-b677-43f6-a58a-8040c54f3f51 button.colab-df-convert');\n",
              "        buttonEl.style.display =\n",
              "          google.colab.kernel.accessAllowed ? 'block' : 'none';\n",
              "\n",
              "        async function convertToInteractive(key) {\n",
              "          const element = document.querySelector('#df-6e3bd16e-b677-43f6-a58a-8040c54f3f51');\n",
              "          const dataTable =\n",
              "            await google.colab.kernel.invokeFunction('convertToInteractive',\n",
              "                                                     [key], {});\n",
              "          if (!dataTable) return;\n",
              "\n",
              "          const docLinkHtml = 'Like what you see? Visit the ' +\n",
              "            '<a target=\"_blank\" href=https://colab.research.google.com/notebooks/data_table.ipynb>data table notebook</a>'\n",
              "            + ' to learn more about interactive tables.';\n",
              "          element.innerHTML = '';\n",
              "          dataTable['output_type'] = 'display_data';\n",
              "          await google.colab.output.renderOutput(dataTable, element);\n",
              "          const docLink = document.createElement('div');\n",
              "          docLink.innerHTML = docLinkHtml;\n",
              "          element.appendChild(docLink);\n",
              "        }\n",
              "      </script>\n",
              "    </div>\n",
              "  </div>\n",
              "  "
            ]
          },
          "metadata": {},
          "execution_count": 3
        }
      ]
    },
    {
      "cell_type": "markdown",
      "source": [
        "Q1)  Calcule medidas de tendência central, como a média, mediana e moda. Calcule Medidas de\n",
        "dispersão para entender a variabilidade dos dados. Isso pode incluir o desvio padrão, a variância\n",
        "e a amplitude."
      ],
      "metadata": {
        "id": "YHnsQPPSYPVC"
      }
    },
    {
      "cell_type": "markdown",
      "source": [
        "Número de Máquinas no campo:"
      ],
      "metadata": {
        "id": "_upnfYjSiRcx"
      }
    },
    {
      "cell_type": "code",
      "source": [
        "media = arqv['NMaquinas'].mean()\n",
        "mediana = arqv['NMaquinas'].median()\n",
        "quartil = arqv['NMaquinas'].quantile(q=0.25)\n",
        "moda = arqv['NMaquinas'].mode()\n",
        "desv_pad = arqv['NMaquinas'].std()\n",
        "variancia = arqv['NMaquinas'].var()\n",
        "amplitude = arqv['NMaquinas'].max() - arqv['NMaquinas'].min()\n",
        "coef_Variacao = desv_pad / media\n",
        "\n",
        "\n",
        "print('Média: ', media)\n",
        "print('Mediana: ', mediana)\n",
        "print('Quartil: ', quartil)\n",
        "print('Moda: ', moda)\n",
        "print('Desvio Padrão: ', desv_pad)\n",
        "print('Variância: ', variancia)\n",
        "print('Amplitude: ', amplitude)\n",
        "print('Coeficiente de Variacao: ', coef_Variacao)"
      ],
      "metadata": {
        "id": "UZU0M21nh2Oh",
        "colab": {
          "base_uri": "https://localhost:8080/"
        },
        "outputId": "d9090d6a-5b24-4a31-b35b-07a63b0383cf"
      },
      "execution_count": 4,
      "outputs": [
        {
          "output_type": "stream",
          "name": "stdout",
          "text": [
            "Média:  5.036666666666667\n",
            "Mediana:  5.0\n",
            "Quartil:  2.0\n",
            "Moda:  0    9\n",
            "Name: NMaquinas, dtype: int64\n",
            "Desvio Padrão:  3.167876316516272\n",
            "Variância:  10.035440356744704\n",
            "Amplitude:  10\n",
            "Coeficiente de Variacao:  0.628962868931093\n"
          ]
        }
      ]
    },
    {
      "cell_type": "markdown",
      "source": [
        "Números de Trabalhadores:"
      ],
      "metadata": {
        "id": "LV9N0eZOmCNu"
      }
    },
    {
      "cell_type": "code",
      "source": [
        "media = arqv['NTrabalhadores'].mean()\n",
        "mediana = arqv['NTrabalhadores'].median()\n",
        "quartil = arqv['NTrabalhadores'].quantile(q=0.25)\n",
        "moda = arqv['NTrabalhadores'].mode()\n",
        "desv_pad = arqv['NTrabalhadores'].std()\n",
        "variancia = arqv['NTrabalhadores'].var()\n",
        "amplitude = arqv['NTrabalhadores'].max() - arqv['NTrabalhadores'].min()\n",
        "coef_Variacao = desv_pad / media\n",
        "\n",
        "\n",
        "print('Média: ', media)\n",
        "print('Mediana: ', mediana)\n",
        "print('Quartil: ', quartil)\n",
        "print('Moda: ', moda)\n",
        "print('Desvio Padrão: ', desv_pad)\n",
        "print('Variância: ', variancia)\n",
        "print('Amplitude: ', amplitude)\n",
        "print('Coeficiente de Variacao: ', coef_Variacao)"
      ],
      "metadata": {
        "id": "FXRmekzYmQzy",
        "outputId": "23b9e4be-a2e9-4e9c-feb5-d063677dff54",
        "colab": {
          "base_uri": "https://localhost:8080/"
        }
      },
      "execution_count": 5,
      "outputs": [
        {
          "output_type": "stream",
          "name": "stdout",
          "text": [
            "Média:  39.96666666666667\n",
            "Mediana:  41.0\n",
            "Quartil:  26.0\n",
            "Moda:  0    44\n",
            "Name: NTrabalhadores, dtype: int64\n",
            "Desvio Padrão:  16.121784288690225\n",
            "Variância:  259.91192865105904\n",
            "Amplitude:  55\n",
            "Coeficiente de Variacao:  0.4033807578487963\n"
          ]
        }
      ]
    },
    {
      "cell_type": "markdown",
      "source": [
        "Espacamento do plantio:"
      ],
      "metadata": {
        "id": "poTQ2jWvmh6K"
      }
    },
    {
      "cell_type": "code",
      "source": [
        "media = arqv['Espacamen'].mean()\n",
        "mediana = arqv['Espacamen'].median()\n",
        "quartil = arqv['Espacamen'].quantile(q=0.25)\n",
        "moda = arqv['Espacamen'].mode()\n",
        "desv_pad = arqv['Espacamen'].std()\n",
        "variancia = arqv['Espacamen'].var()\n",
        "amplitude = arqv['Espacamen'].max() - arqv['Espacamen'].min()\n",
        "coef_Variacao = desv_pad / media\n",
        "\n",
        "\n",
        "print('Média: ', media)\n",
        "print('Mediana: ', mediana)\n",
        "print('Quartil: ', quartil)\n",
        "print('Moda: ', moda)\n",
        "print('Desvio Padrão: ', desv_pad)\n",
        "print('Variância: ', variancia)\n",
        "print('Amplitude: ', amplitude)\n",
        "print('Coeficiente de Variacao: ', coef_Variacao)"
      ],
      "metadata": {
        "id": "Mmy1k8IrnY40",
        "outputId": "283948f8-999e-4fd7-a0cc-31854e6b3e22",
        "colab": {
          "base_uri": "https://localhost:8080/"
        }
      },
      "execution_count": 6,
      "outputs": [
        {
          "output_type": "stream",
          "name": "stdout",
          "text": [
            "Média:  1.0\n",
            "Mediana:  1.0\n",
            "Quartil:  0.5\n",
            "Moda:  0    0.5\n",
            "1    1.0\n",
            "2    1.5\n",
            "Name: Espacamen, dtype: float64\n",
            "Desvio Padrão:  0.4089304100547653\n",
            "Variância:  0.16722408026755853\n",
            "Amplitude:  1.0\n",
            "Coeficiente de Variacao:  0.4089304100547653\n"
          ]
        }
      ]
    },
    {
      "cell_type": "markdown",
      "source": [
        "Peso médio da batata doce (gramas):"
      ],
      "metadata": {
        "id": "rTyk70O6vPkB"
      }
    },
    {
      "cell_type": "code",
      "source": [
        "media = arqv['PsMedBd'].mean()\n",
        "mediana = arqv['PsMedBd'].median()\n",
        "quartil = arqv['PsMedBd'].quantile(q=0.25)\n",
        "moda = arqv['PsMedBd'].mode()\n",
        "desv_pad = arqv['PsMedBd'].std()\n",
        "variancia = arqv['PsMedBd'].var()\n",
        "amplitude = arqv['PsMedBd'].max() - arqv['PsMedBd'].min()\n",
        "coef_Variacao = desv_pad / media\n",
        "\n",
        "\n",
        "print('Média: ', media)\n",
        "print('Mediana: ', mediana)\n",
        "print('Quartil: ', quartil)\n",
        "print('Moda: ', moda)\n",
        "print('Desvio Padrão: ', desv_pad)\n",
        "print('Variância: ', variancia)\n",
        "print('Amplitude: ', amplitude)\n",
        "print('Coeficiente de Variacao: ', coef_Variacao)"
      ],
      "metadata": {
        "id": "soG5chzpvThh",
        "outputId": "eb019958-5a74-4562-9e65-bb46be683081",
        "colab": {
          "base_uri": "https://localhost:8080/"
        }
      },
      "execution_count": 7,
      "outputs": [
        {
          "output_type": "stream",
          "name": "stdout",
          "text": [
            "Média:  118.99\n",
            "Mediana:  117.0\n",
            "Quartil:  67.75\n",
            "Moda:  0    102\n",
            "Name: PsMedBd, dtype: int64\n",
            "Desvio Padrão:  58.34142874229519\n",
            "Variância:  3403.722307692308\n",
            "Amplitude:  200\n",
            "Coeficiente de Variacao:  0.4903053092049348\n"
          ]
        }
      ]
    },
    {
      "cell_type": "markdown",
      "source": [
        "Peso médio da batata inglesa (gramas):"
      ],
      "metadata": {
        "id": "0t1QTpOEvqpd"
      }
    },
    {
      "cell_type": "code",
      "source": [
        "media = arqv['PsMedBi'].mean()\n",
        "mediana = arqv['PsMedBi'].median()\n",
        "quartil = arqv['PsMedBi'].quantile(q=0.25)\n",
        "moda = arqv['PsMedBi'].mode()\n",
        "desv_pad = arqv['PsMedBi'].std()\n",
        "variancia = arqv['PsMedBi'].var()\n",
        "amplitude = arqv['PsMedBi'].max() - arqv['PsMedBi'].min()\n",
        "coef_Variacao = desv_pad / media\n",
        "\n",
        "\n",
        "print('Média: ', media)\n",
        "print('Mediana: ', mediana)\n",
        "print('Quartil: ', quartil)\n",
        "print('Moda: ', moda)\n",
        "print('Desvio Padrão: ', desv_pad)\n",
        "print('Variância: ', variancia)\n",
        "print('Amplitude: ', amplitude)\n",
        "print('Coeficiente de Variacao: ', coef_Variacao)"
      ],
      "metadata": {
        "id": "EnU1IgXQvtyU",
        "outputId": "8ada4e67-c27b-4cd9-efe5-bcba01f6b886",
        "colab": {
          "base_uri": "https://localhost:8080/"
        }
      },
      "execution_count": 8,
      "outputs": [
        {
          "output_type": "stream",
          "name": "stdout",
          "text": [
            "Média:  52.696666666666665\n",
            "Mediana:  53.0\n",
            "Quartil:  33.5\n",
            "Moda:  0    84\n",
            "Name: PsMedBi, dtype: int64\n",
            "Desvio Padrão:  22.538662187440366\n",
            "Variância:  507.9912931995541\n",
            "Amplitude:  75\n",
            "Coeficiente de Variacao:  0.4277056522380992\n"
          ]
        }
      ]
    },
    {
      "cell_type": "markdown",
      "source": [
        "Teor de sólidos solúveis batata doce: a quantidade de açúcares e outros\n",
        "compostos solúveis nos frutos, expressa em graus Brix."
      ],
      "metadata": {
        "id": "9Cta0tsAwKK8"
      }
    },
    {
      "cell_type": "code",
      "source": [
        "media = arqv['BrixBd'].mean()\n",
        "mediana = arqv['BrixBd'].median()\n",
        "quartil = arqv['BrixBd'].quantile(q=0.25)\n",
        "moda = arqv['BrixBd'].mode()\n",
        "desv_pad = arqv['BrixBd'].std()\n",
        "variancia = arqv['BrixBd'].var()\n",
        "amplitude = arqv['BrixBd'].max() - arqv['BrixBd'].min()\n",
        "coef_Variacao = desv_pad / media\n",
        "\n",
        "\n",
        "print('Média: ', media)\n",
        "print('Mediana: ', mediana)\n",
        "print('Quartil: ', quartil)\n",
        "print('Moda: ', moda)\n",
        "print('Desvio Padrão: ', desv_pad)\n",
        "print('Variância: ', variancia)\n",
        "print('Amplitude: ', amplitude)\n",
        "print('Coeficiente de Variacao: ', coef_Variacao)"
      ],
      "metadata": {
        "id": "gaoC0J1IwL9Y",
        "outputId": "87343b24-5196-4188-901c-95b8867cc1a4",
        "colab": {
          "base_uri": "https://localhost:8080/"
        }
      },
      "execution_count": 9,
      "outputs": [
        {
          "output_type": "stream",
          "name": "stdout",
          "text": [
            "Média:  75.65666666666667\n",
            "Mediana:  77.0\n",
            "Quartil:  63.0\n",
            "Moda:  0    75\n",
            "1    81\n",
            "2    85\n",
            "3    87\n",
            "Name: BrixBd, dtype: int64\n",
            "Desvio Padrão:  14.19803046620504\n",
            "Variância:  201.5840691192865\n",
            "Amplitude:  50\n",
            "Coeficiente de Variacao:  0.18766397056269604\n"
          ]
        }
      ]
    },
    {
      "cell_type": "markdown",
      "source": [
        "Teor de sólidos solúveis batata inglesa: a quantidade de açúcares e outros\n",
        "compostos solúveis nos frutos, expressa em graus Brix."
      ],
      "metadata": {
        "id": "pubP816KwsyT"
      }
    },
    {
      "cell_type": "code",
      "source": [
        "media = arqv['BrixBi'].mean()\n",
        "mediana = arqv['BrixBi'].median()\n",
        "quartil = arqv['BrixBi'].quantile(q=0.25)\n",
        "moda = arqv['BrixBi'].mode()\n",
        "desv_pad = arqv['BrixBi'].std()\n",
        "variancia = arqv['BrixBi'].var()\n",
        "amplitude = arqv['BrixBi'].max() - arqv['BrixBi'].min()\n",
        "coef_Variacao = desv_pad / media\n",
        "\n",
        "\n",
        "print('Média: ', media)\n",
        "print('Mediana: ', mediana)\n",
        "print('Quartil: ', quartil)\n",
        "print('Moda: ', moda)\n",
        "print('Desvio Padrão: ', desv_pad)\n",
        "print('Variância: ', variancia)\n",
        "print('Amplitude: ', amplitude)\n",
        "print('Coeficiente de Variacao: ', coef_Variacao)"
      ],
      "metadata": {
        "id": "XGpZ25LAxVKp",
        "outputId": "1d0e316b-ec30-4060-e85e-94aab417fb8b",
        "colab": {
          "base_uri": "https://localhost:8080/"
        }
      },
      "execution_count": 10,
      "outputs": [
        {
          "output_type": "stream",
          "name": "stdout",
          "text": [
            "Média:  50.626666666666665\n",
            "Mediana:  50.0\n",
            "Quartil:  40.0\n",
            "Moda:  0    64\n",
            "Name: BrixBi, dtype: int64\n",
            "Desvio Padrão:  11.937152406701733\n",
            "Variância:  142.49560758082498\n",
            "Amplitude:  40\n",
            "Coeficiente de Variacao:  0.2357878405326916\n"
          ]
        }
      ]
    },
    {
      "cell_type": "markdown",
      "source": [
        "Temperatura:"
      ],
      "metadata": {
        "id": "sjRA0k-Rx4Bw"
      }
    },
    {
      "cell_type": "code",
      "source": [
        "media = arqv['temp'].mean()\n",
        "mediana = arqv['temp'].median()\n",
        "quartil = arqv['temp'].quantile(q=0.25)\n",
        "moda = arqv['temp'].mode()\n",
        "desv_pad = arqv['temp'].std()\n",
        "variancia = arqv['temp'].var()\n",
        "amplitude = arqv['temp'].max() - arqv['temp'].min()\n",
        "coef_Variacao = desv_pad / media\n",
        "\n",
        "\n",
        "print('Média: ', media)\n",
        "print('Mediana: ', mediana)\n",
        "print('Quartil: ', quartil)\n",
        "print('Moda: ', moda)\n",
        "print('Desvio Padrão: ', desv_pad)\n",
        "print('Variância: ', variancia)\n",
        "print('Amplitude: ', amplitude)\n",
        "print('Coeficiente de Variacao: ', coef_Variacao)"
      ],
      "metadata": {
        "id": "Ow6xFfaex58L",
        "outputId": "15183694-ee03-486e-81a5-3aa25490e3cb",
        "colab": {
          "base_uri": "https://localhost:8080/"
        }
      },
      "execution_count": 11,
      "outputs": [
        {
          "output_type": "stream",
          "name": "stdout",
          "text": [
            "Média:  27.266666666666666\n",
            "Mediana:  27.0\n",
            "Quartil:  25.0\n",
            "Moda:  0    30\n",
            "Name: temp, dtype: int64\n",
            "Desvio Padrão:  4.031094304677026\n",
            "Variância:  16.249721293199556\n",
            "Amplitude:  54\n",
            "Coeficiente de Variacao:  0.14783964442580783\n"
          ]
        }
      ]
    },
    {
      "cell_type": "markdown",
      "source": [
        "Umidade"
      ],
      "metadata": {
        "id": "EkcGSYDazL0s"
      }
    },
    {
      "cell_type": "code",
      "source": [
        "media = arqv['umidade'].mean()\n",
        "mediana = arqv['umidade'].median()\n",
        "quartil = arqv['umidade'].quantile(q=0.25)\n",
        "moda = arqv['umidade'].mode()\n",
        "desv_pad = arqv['umidade'].std()\n",
        "variancia = arqv['umidade'].var()\n",
        "amplitude = arqv['umidade'].max() - arqv['umidade'].min()\n",
        "coef_Variacao = desv_pad / media\n",
        "\n",
        "\n",
        "print('Média: ', media)\n",
        "print('Mediana: ', mediana)\n",
        "print('Quartil: ', quartil)\n",
        "print('Moda: ', moda)\n",
        "print('Desvio Padrão: ', desv_pad)\n",
        "print('Variância: ', variancia)\n",
        "print('Amplitude: ', amplitude)\n",
        "print('Coeficiente de Variacao: ', coef_Variacao)"
      ],
      "metadata": {
        "id": "AKrJB6ruzP0k",
        "outputId": "f6b2ccdb-d0e8-4666-f6a3-d4ce0bf603f0",
        "colab": {
          "base_uri": "https://localhost:8080/"
        }
      },
      "execution_count": 12,
      "outputs": [
        {
          "output_type": "stream",
          "name": "stdout",
          "text": [
            "Média:  86.90333333333334\n",
            "Mediana:  86.5\n",
            "Quartil:  83.0\n",
            "Moda:  0    84\n",
            "Name: umidade, dtype: int64\n",
            "Desvio Padrão:  5.5259184580398255\n",
            "Variância:  30.53577480490524\n",
            "Amplitude:  46\n",
            "Coeficiente de Variacao:  0.0635869562890548\n"
          ]
        }
      ]
    },
    {
      "cell_type": "markdown",
      "source": [
        "Precipitação (trimeste/mm)"
      ],
      "metadata": {
        "id": "qNKHBw6azhwS"
      }
    },
    {
      "cell_type": "code",
      "source": [
        "media = arqv['prec'].mean()\n",
        "mediana = arqv['prec'].median()\n",
        "quartil = arqv['prec'].quantile(q=0.25)\n",
        "moda = arqv['prec'].mode()\n",
        "desv_pad = arqv['prec'].std()\n",
        "variancia = arqv['prec'].var()\n",
        "amplitude = arqv['prec'].max() - arqv['prec'].min()\n",
        "coef_Variacao = desv_pad / media\n",
        "\n",
        "\n",
        "print('Média: ', media)\n",
        "print('Mediana: ', mediana)\n",
        "print('Quartil: ', quartil)\n",
        "print('Moda: ', moda)\n",
        "print('Desvio Padrão: ', desv_pad)\n",
        "print('Variância: ', variancia)\n",
        "print('Amplitude: ', amplitude)\n",
        "print('Coeficiente de Variacao: ', coef_Variacao)"
      ],
      "metadata": {
        "id": "tJ8-IOUSzm24",
        "outputId": "3f07bac0-aef3-4633-9d87-2d5f4faba8d3",
        "colab": {
          "base_uri": "https://localhost:8080/"
        }
      },
      "execution_count": 13,
      "outputs": [
        {
          "output_type": "stream",
          "name": "stdout",
          "text": [
            "Média:  403.56333333333333\n",
            "Mediana:  402.5\n",
            "Quartil:  326.0\n",
            "Moda:  0    546\n",
            "Name: prec, dtype: int64\n",
            "Desvio Padrão:  89.71832168724966\n",
            "Variância:  8049.377246376812\n",
            "Amplitude:  589\n",
            "Coeficiente de Variacao:  0.22231534501957476\n"
          ]
        }
      ]
    },
    {
      "cell_type": "markdown",
      "source": [
        "Producao total batata doce mensal (kg)"
      ],
      "metadata": {
        "id": "sE5midl0z8EH"
      }
    },
    {
      "cell_type": "code",
      "source": [
        "media = arqv['ProdBd'].mean()\n",
        "mediana = arqv['ProdBd'].median()\n",
        "quartil = arqv['ProdBd'].quantile(q=0.25)\n",
        "moda = arqv['ProdBd'].mode()\n",
        "desv_pad = arqv['ProdBd'].std()\n",
        "variancia = arqv['ProdBd'].var()\n",
        "amplitude = arqv['ProdBd'].max() - arqv['ProdBd'].min()\n",
        "coef_Variacao = desv_pad / media\n",
        "\n",
        "\n",
        "print('Média: ', media)\n",
        "print('Mediana: ', mediana)\n",
        "print('Quartil: ', quartil)\n",
        "print('Moda: ', moda)\n",
        "print('Desvio Padrão: ', desv_pad)\n",
        "print('Variância: ', variancia)\n",
        "print('Amplitude: ', amplitude)\n",
        "print('Coeficiente de Variacao: ', coef_Variacao)"
      ],
      "metadata": {
        "id": "Su7psvabz9Vr",
        "outputId": "11f90648-50d1-45fe-ac67-b9f581337934",
        "colab": {
          "base_uri": "https://localhost:8080/"
        }
      },
      "execution_count": 14,
      "outputs": [
        {
          "output_type": "stream",
          "name": "stdout",
          "text": [
            "Média:  50168.81333333333\n",
            "Mediana:  49103.5\n",
            "Quartil:  24779.0\n",
            "Moda:  0        1056\n",
            "1        1285\n",
            "2        1793\n",
            "3        2000\n",
            "4        2046\n",
            "        ...  \n",
            "295     98858\n",
            "296     99414\n",
            "297     99842\n",
            "298     99899\n",
            "299    125000\n",
            "Name: ProdBd, Length: 300, dtype: int64\n",
            "Desvio Padrão:  29206.053556176383\n",
            "Variância:  852993564.326243\n",
            "Amplitude:  123944\n",
            "Coeficiente de Variacao:  0.5821555587158207\n"
          ]
        }
      ]
    },
    {
      "cell_type": "markdown",
      "source": [
        "Producao total batata inglesamensal (Kg)"
      ],
      "metadata": {
        "id": "G1_PXcrI0WTg"
      }
    },
    {
      "cell_type": "code",
      "source": [
        "media = arqv['ProdBi'].mean()\n",
        "mediana = arqv['ProdBi'].median()\n",
        "quartil = arqv['ProdBi'].quantile(q=0.25)\n",
        "moda = arqv['ProdBi'].mode()\n",
        "desv_pad = arqv['ProdBi'].std()\n",
        "variancia = arqv['ProdBi'].var()\n",
        "amplitude = arqv['ProdBi'].max() - arqv['ProdBi'].min()\n",
        "coef_Variacao = desv_pad / media\n",
        "\n",
        "\n",
        "print('Média: ', media)\n",
        "print('Mediana: ', mediana)\n",
        "print('Quartil: ', quartil)\n",
        "print('Moda: ', moda)\n",
        "print('Desvio Padrão: ', desv_pad)\n",
        "print('Variância: ', variancia)\n",
        "print('Amplitude: ', amplitude)\n",
        "print('Coeficiente de Variacao: ', coef_Variacao)"
      ],
      "metadata": {
        "id": "dAyStSd00xiL",
        "outputId": "8000dceb-b2da-4966-e934-8b53d75273e8",
        "colab": {
          "base_uri": "https://localhost:8080/"
        }
      },
      "execution_count": 15,
      "outputs": [
        {
          "output_type": "stream",
          "name": "stdout",
          "text": [
            "Média:  5518.31\n",
            "Mediana:  5574.5\n",
            "Quartil:  3340.5\n",
            "Moda:  0    1425\n",
            "1    6433\n",
            "2    7028\n",
            "3    8000\n",
            "Name: ProdBi, dtype: int64\n",
            "Desvio Padrão:  2633.811305670852\n",
            "Variância:  6936961.993879599\n",
            "Amplitude:  8982\n",
            "Coeficiente de Variacao:  0.4772858548488309\n"
          ]
        }
      ]
    },
    {
      "cell_type": "markdown",
      "source": [
        "Q2) Visualize cada variável com gráficos descritivos para visualizar os dados. Utilize histogramas, boxplots, entre outros. Os gráficos podem fornecer insights visuais sobre a distribuição, forma e\n",
        "tendências dos dados"
      ],
      "metadata": {
        "id": "HbOAMjM4g8cY"
      }
    },
    {
      "cell_type": "markdown",
      "source": [
        "Número de Máquinas no campo:"
      ],
      "metadata": {
        "id": "3pd_a7cS1siY"
      }
    },
    {
      "cell_type": "code",
      "source": [
        "arqv['NMaquinas'].plot(kind = 'box')"
      ],
      "metadata": {
        "colab": {
          "base_uri": "https://localhost:8080/",
          "height": 447
        },
        "id": "YmxoBRjpfUkf",
        "outputId": "97d9f264-33ec-4dec-b00c-cd3e4f342a3b"
      },
      "execution_count": 16,
      "outputs": [
        {
          "output_type": "execute_result",
          "data": {
            "text/plain": [
              "<Axes: >"
            ]
          },
          "metadata": {},
          "execution_count": 16
        },
        {
          "output_type": "display_data",
          "data": {
            "text/plain": [
              "<Figure size 640x480 with 1 Axes>"
            ],
            "image/png": "[encoded data removed]"
          },
          "metadata": {}
        }
      ]
    },
    {
      "cell_type": "code",
      "source": [
        "arqv['NMaquinas'].hist();"
      ],
      "metadata": {
        "colab": {
          "base_uri": "https://localhost:8080/",
          "height": 430
        },
        "id": "41-S0jyyJfSQ",
        "outputId": "a5a40b44-6af9-40fa-d873-dfe2085a3931"
      },
      "execution_count": 17,
      "outputs": [
        {
          "output_type": "display_data",
          "data": {
            "text/plain": [
              "<Figure size 640x480 with 1 Axes>"
            ],
            "image/png": "[encoded data removed]"
          },
          "metadata": {}
        }
      ]
    },
    {
      "cell_type": "markdown",
      "source": [
        "Número de trabalhadores no campo"
      ],
      "metadata": {
        "id": "k-jSEKhV19yX"
      }
    },
    {
      "cell_type": "code",
      "source": [
        "arqv['NTrabalhadores'].plot(kind = 'box')"
      ],
      "metadata": {
        "colab": {
          "base_uri": "https://localhost:8080/",
          "height": 447
        },
        "id": "r9o6Pm2hXudG",
        "outputId": "e15f71f1-e0ab-4335-d3dd-e64bd325ec71"
      },
      "execution_count": 18,
      "outputs": [
        {
          "output_type": "execute_result",
          "data": {
            "text/plain": [
              "<Axes: >"
            ]
          },
          "metadata": {},
          "execution_count": 18
        },
        {
          "output_type": "display_data",
          "data": {
            "text/plain": [
              "<Figure size 640x480 with 1 Axes>"
            ],
            "image/png": "[encoded data removed]"
          },
          "metadata": {}
        }
      ]
    },
    {
      "cell_type": "code",
      "source": [
        "arqv['NTrabalhadores'].hist();"
      ],
      "metadata": {
        "colab": {
          "base_uri": "https://localhost:8080/",
          "height": 430
        },
        "id": "gYzzUF0QJjHc",
        "outputId": "7bc92221-7ef6-4e67-c250-c7972d46cdbc"
      },
      "execution_count": 19,
      "outputs": [
        {
          "output_type": "display_data",
          "data": {
            "text/plain": [
              "<Figure size 640x480 with 1 Axes>"
            ],
            "image/png": "[encoded data removed]"
          },
          "metadata": {}
        }
      ]
    },
    {
      "cell_type": "markdown",
      "source": [
        "Espacamento do plantio"
      ],
      "metadata": {
        "id": "sm_nuUqz2Dma"
      }
    },
    {
      "cell_type": "code",
      "source": [
        "arqv['Espacamen'].plot(kind = 'box')"
      ],
      "metadata": {
        "id": "QH7wO4GOZbuI",
        "colab": {
          "base_uri": "https://localhost:8080/",
          "height": 447
        },
        "outputId": "abcdedaf-6226-4488-f081-d071cd2ea2d3"
      },
      "execution_count": 20,
      "outputs": [
        {
          "output_type": "execute_result",
          "data": {
            "text/plain": [
              "<Axes: >"
            ]
          },
          "metadata": {},
          "execution_count": 20
        },
        {
          "output_type": "display_data",
          "data": {
            "text/plain": [
              "<Figure size 640x480 with 1 Axes>"
            ],
            "image/png": "[encoded data removed]"
          },
          "metadata": {}
        }
      ]
    },
    {
      "cell_type": "code",
      "source": [
        "arqv['Espacamen'].hist();"
      ],
      "metadata": {
        "colab": {
          "base_uri": "https://localhost:8080/",
          "height": 430
        },
        "id": "jSAI79XpJt7t",
        "outputId": "1bbdd80a-c859-445f-e462-f816f46efbe8"
      },
      "execution_count": 21,
      "outputs": [
        {
          "output_type": "display_data",
          "data": {
            "text/plain": [
              "<Figure size 640x480 with 1 Axes>"
            ],
            "image/png": "[encoded data removed]"
          },
          "metadata": {}
        }
      ]
    },
    {
      "cell_type": "markdown",
      "source": [
        "Peso médio da batata doce (gramas)"
      ],
      "metadata": {
        "id": "_29tAy2z2Hhg"
      }
    },
    {
      "cell_type": "code",
      "source": [
        "arqv['PsMedBd'].plot(kind = 'box')"
      ],
      "metadata": {
        "colab": {
          "base_uri": "https://localhost:8080/",
          "height": 447
        },
        "id": "QkURqyloZfVq",
        "outputId": "6aa12706-1105-4c20-e6ea-f12861904f27"
      },
      "execution_count": 22,
      "outputs": [
        {
          "output_type": "execute_result",
          "data": {
            "text/plain": [
              "<Axes: >"
            ]
          },
          "metadata": {},
          "execution_count": 22
        },
        {
          "output_type": "display_data",
          "data": {
            "text/plain": [
              "<Figure size 640x480 with 1 Axes>"
            ],
            "image/png": "[encoded data removed]"
          },
          "metadata": {}
        }
      ]
    },
    {
      "cell_type": "code",
      "source": [
        "arqv['PsMedBd'].hist();"
      ],
      "metadata": {
        "colab": {
          "base_uri": "https://localhost:8080/",
          "height": 430
        },
        "id": "NDUzsXkyJ4DZ",
        "outputId": "bae6d45f-85f7-4a5c-ce95-d54e40d4a220"
      },
      "execution_count": 23,
      "outputs": [
        {
          "output_type": "display_data",
          "data": {
            "text/plain": [
              "<Figure size 640x480 with 1 Axes>"
            ],
            "image/png": "[encoded data removed]"
          },
          "metadata": {}
        }
      ]
    },
    {
      "cell_type": "markdown",
      "source": [
        "Peso médio da batata inglesa (gramas)"
      ],
      "metadata": {
        "id": "jwfYlRpo2UOr"
      }
    },
    {
      "cell_type": "code",
      "source": [
        "arqv['PsMedBi'].plot(kind = 'box')"
      ],
      "metadata": {
        "colab": {
          "base_uri": "https://localhost:8080/",
          "height": 447
        },
        "id": "YF77mR16ZmE2",
        "outputId": "4d0a793e-762c-4ae1-c03f-df0a6165ca09"
      },
      "execution_count": 24,
      "outputs": [
        {
          "output_type": "execute_result",
          "data": {
            "text/plain": [
              "<Axes: >"
            ]
          },
          "metadata": {},
          "execution_count": 24
        },
        {
          "output_type": "display_data",
          "data": {
            "text/plain": [
              "<Figure size 640x480 with 1 Axes>"
            ],
            "image/png": "[encoded data removed]"
          },
          "metadata": {}
        }
      ]
    },
    {
      "cell_type": "code",
      "source": [
        "arqv['PsMedBi'].hist();"
      ],
      "metadata": {
        "colab": {
          "base_uri": "https://localhost:8080/",
          "height": 430
        },
        "id": "1kbP1BaaKElb",
        "outputId": "def8e14d-3e85-4ed6-d7ed-727cf10684fe"
      },
      "execution_count": 25,
      "outputs": [
        {
          "output_type": "display_data",
          "data": {
            "text/plain": [
              "<Figure size 640x480 with 1 Axes>"
            ],
            "image/png": "[encoded data removed]"
          },
          "metadata": {}
        }
      ]
    },
    {
      "cell_type": "markdown",
      "source": [
        "Teor de sólidos solúveis batata doce: a quantidade de açúcares e outros\n",
        "compostos solúveis nos frutos, expressa em graus Brix"
      ],
      "metadata": {
        "id": "tnLXvkuc2W_6"
      }
    },
    {
      "cell_type": "code",
      "source": [
        "arqv['BrixBd'].plot(kind = 'box')"
      ],
      "metadata": {
        "colab": {
          "base_uri": "https://localhost:8080/",
          "height": 447
        },
        "id": "TVT4gTpWaWQt",
        "outputId": "0ff3abaa-6ef2-49ea-8b65-bf4a178cfefe"
      },
      "execution_count": 26,
      "outputs": [
        {
          "output_type": "execute_result",
          "data": {
            "text/plain": [
              "<Axes: >"
            ]
          },
          "metadata": {},
          "execution_count": 26
        },
        {
          "output_type": "display_data",
          "data": {
            "text/plain": [
              "<Figure size 640x480 with 1 Axes>"
            ],
            "image/png": "[encoded data removed]"
          },
          "metadata": {}
        }
      ]
    },
    {
      "cell_type": "code",
      "source": [
        "arqv['BrixBd'].hist();"
      ],
      "metadata": {
        "colab": {
          "base_uri": "https://localhost:8080/",
          "height": 430
        },
        "id": "9pxERIDTKOZO",
        "outputId": "bd01170c-e28d-4544-cc4e-640467e47a83"
      },
      "execution_count": 27,
      "outputs": [
        {
          "output_type": "display_data",
          "data": {
            "text/plain": [
              "<Figure size 640x480 with 1 Axes>"
            ],
            "image/png": "[encoded data removed]"
          },
          "metadata": {}
        }
      ]
    },
    {
      "cell_type": "markdown",
      "source": [
        "Teor de sólidos solúveis batata inglesa: a quantidade de açúcares e outros compostos solúveis nos frutos, expressa em graus Brix."
      ],
      "metadata": {
        "id": "peeDUlD9ZzUf"
      }
    },
    {
      "cell_type": "code",
      "source": [
        "arqv['BrixBi'].plot(kind = 'box')"
      ],
      "metadata": {
        "colab": {
          "base_uri": "https://localhost:8080/",
          "height": 447
        },
        "id": "wlZPCM3yKaH6",
        "outputId": "d4667112-f7e5-4fc7-e050-100b06f11f93"
      },
      "execution_count": 28,
      "outputs": [
        {
          "output_type": "execute_result",
          "data": {
            "text/plain": [
              "<Axes: >"
            ]
          },
          "metadata": {},
          "execution_count": 28
        },
        {
          "output_type": "display_data",
          "data": {
            "text/plain": [
              "<Figure size 640x480 with 1 Axes>"
            ],
            "image/png": "[encoded data removed]"
          },
          "metadata": {}
        }
      ]
    },
    {
      "cell_type": "code",
      "source": [
        "arqv['BrixBi'].hist();"
      ],
      "metadata": {
        "colab": {
          "base_uri": "https://localhost:8080/",
          "height": 430
        },
        "id": "nzH_A2dHaaZ1",
        "outputId": "ac5295e8-0a0c-4832-97ac-934787e2add0"
      },
      "execution_count": 29,
      "outputs": [
        {
          "output_type": "display_data",
          "data": {
            "text/plain": [
              "<Figure size 640x480 with 1 Axes>"
            ],
            "image/png": "[encoded data removed]"
          },
          "metadata": {}
        }
      ]
    },
    {
      "cell_type": "markdown",
      "source": [
        "temperatura"
      ],
      "metadata": {
        "id": "3imUiLuHZ4ou"
      }
    },
    {
      "cell_type": "code",
      "source": [
        "arqv['temp'].plot(kind = 'box')"
      ],
      "metadata": {
        "colab": {
          "base_uri": "https://localhost:8080/",
          "height": 447
        },
        "id": "IL8qr0dgKele",
        "outputId": "7d56c9a0-265f-435c-f8b5-5c40af050c9e"
      },
      "execution_count": 30,
      "outputs": [
        {
          "output_type": "execute_result",
          "data": {
            "text/plain": [
              "<Axes: >"
            ]
          },
          "metadata": {},
          "execution_count": 30
        },
        {
          "output_type": "display_data",
          "data": {
            "text/plain": [
              "<Figure size 640x480 with 1 Axes>"
            ],
            "image/png": "[encoded data removed]"
          },
          "metadata": {}
        }
      ]
    },
    {
      "cell_type": "code",
      "source": [
        "arqv['temp'].hist();"
      ],
      "metadata": {
        "colab": {
          "base_uri": "https://localhost:8080/",
          "height": 434
        },
        "id": "WQ67lLTtaiG3",
        "outputId": "06a09019-880a-4c10-f597-e116d430fb1f"
      },
      "execution_count": 31,
      "outputs": [
        {
          "output_type": "display_data",
          "data": {
            "text/plain": [
              "<Figure size 640x480 with 1 Axes>"
            ],
            "image/png": "[encoded data removed]"
          },
          "metadata": {}
        }
      ]
    },
    {
      "cell_type": "markdown",
      "source": [
        "umidade"
      ],
      "metadata": {
        "id": "c-4GMSmxaDiI"
      }
    },
    {
      "cell_type": "code",
      "source": [
        "arqv['umidade'].plot(kind = 'box')"
      ],
      "metadata": {
        "colab": {
          "base_uri": "https://localhost:8080/",
          "height": 447
        },
        "id": "YYZE6uAyKpqJ",
        "outputId": "737cc74d-e7e6-4d54-b5ac-5f4ac79fb5a5"
      },
      "execution_count": 32,
      "outputs": [
        {
          "output_type": "execute_result",
          "data": {
            "text/plain": [
              "<Axes: >"
            ]
          },
          "metadata": {},
          "execution_count": 32
        },
        {
          "output_type": "display_data",
          "data": {
            "text/plain": [
              "<Figure size 640x480 with 1 Axes>"
            ],
            "image/png": "[encoded data removed]"
          },
          "metadata": {}
        }
      ]
    },
    {
      "cell_type": "code",
      "source": [
        "arqv['umidade'].hist();"
      ],
      "metadata": {
        "colab": {
          "base_uri": "https://localhost:8080/",
          "height": 430
        },
        "id": "Nb-CwD4mam3j",
        "outputId": "ef1156dd-9b2b-4e18-a403-e070bc2726ea"
      },
      "execution_count": 33,
      "outputs": [
        {
          "output_type": "display_data",
          "data": {
            "text/plain": [
              "<Figure size 640x480 with 1 Axes>"
            ],
            "image/png": "[encoded data removed]"
          },
          "metadata": {}
        }
      ]
    },
    {
      "cell_type": "markdown",
      "source": [
        "precipitação (trimeste/mm)"
      ],
      "metadata": {
        "id": "1Nmz52C3aGAX"
      }
    },
    {
      "cell_type": "code",
      "source": [
        "arqv['prec'].plot(kind = 'box')"
      ],
      "metadata": {
        "colab": {
          "base_uri": "https://localhost:8080/",
          "height": 447
        },
        "id": "ZssayzXHKzxf",
        "outputId": "4a003db2-d3fd-44de-af84-9e3655bd9e1c"
      },
      "execution_count": 34,
      "outputs": [
        {
          "output_type": "execute_result",
          "data": {
            "text/plain": [
              "<Axes: >"
            ]
          },
          "metadata": {},
          "execution_count": 34
        },
        {
          "output_type": "display_data",
          "data": {
            "text/plain": [
              "<Figure size 640x480 with 1 Axes>"
            ],
            "image/png": "[encoded data removed]"
          },
          "metadata": {}
        }
      ]
    },
    {
      "cell_type": "code",
      "source": [
        "arqv['prec'].hist();"
      ],
      "metadata": {
        "colab": {
          "base_uri": "https://localhost:8080/",
          "height": 430
        },
        "id": "POCKCHajapon",
        "outputId": "0ab12fcd-b641-41dd-a974-2eb2afa9be63"
      },
      "execution_count": 35,
      "outputs": [
        {
          "output_type": "display_data",
          "data": {
            "text/plain": [
              "<Figure size 640x480 with 1 Axes>"
            ],
            "image/png": "[encoded data removed]"
          },
          "metadata": {}
        }
      ]
    },
    {
      "cell_type": "markdown",
      "source": [
        "Producao total batata doce mensal (kg)"
      ],
      "metadata": {
        "id": "SKqzuA-VaJE2"
      }
    },
    {
      "cell_type": "code",
      "source": [
        "arqv['ProdBd'].plot(kind = 'box')"
      ],
      "metadata": {
        "colab": {
          "base_uri": "https://localhost:8080/",
          "height": 447
        },
        "id": "aj541d5KLBqc",
        "outputId": "d1c22d2d-72bb-4404-da9d-f5de2caab2bb"
      },
      "execution_count": 36,
      "outputs": [
        {
          "output_type": "execute_result",
          "data": {
            "text/plain": [
              "<Axes: >"
            ]
          },
          "metadata": {},
          "execution_count": 36
        },
        {
          "output_type": "display_data",
          "data": {
            "text/plain": [
              "<Figure size 640x480 with 1 Axes>"
            ],
            "image/png": "[encoded data removed]"
          },
          "metadata": {}
        }
      ]
    },
    {
      "cell_type": "code",
      "source": [
        "arqv['ProdBd'].hist();"
      ],
      "metadata": {
        "colab": {
          "base_uri": "https://localhost:8080/",
          "height": 430
        },
        "id": "tYze_hqCasQH",
        "outputId": "b35d6285-3bde-4a82-93c3-4642932f5ce4"
      },
      "execution_count": 37,
      "outputs": [
        {
          "output_type": "display_data",
          "data": {
            "text/plain": [
              "<Figure size 640x480 with 1 Axes>"
            ],
            "image/png": "[encoded data removed]"
          },
          "metadata": {}
        }
      ]
    },
    {
      "cell_type": "markdown",
      "source": [
        "Producao total batata inglesamensal (Kg)"
      ],
      "metadata": {
        "id": "25XJrgVaaMyA"
      }
    },
    {
      "cell_type": "code",
      "source": [
        "arqv['ProdBi'].plot(kind = 'box')"
      ],
      "metadata": {
        "colab": {
          "base_uri": "https://localhost:8080/",
          "height": 447
        },
        "id": "jKRVPpaFLGb7",
        "outputId": "c3aa7571-5cd9-45ba-e3e4-f02970fe7aea"
      },
      "execution_count": 38,
      "outputs": [
        {
          "output_type": "execute_result",
          "data": {
            "text/plain": [
              "<Axes: >"
            ]
          },
          "metadata": {},
          "execution_count": 38
        },
        {
          "output_type": "display_data",
          "data": {
            "text/plain": [
              "<Figure size 640x480 with 1 Axes>"
            ],
            "image/png": "[encoded data removed]"
          },
          "metadata": {}
        }
      ]
    },
    {
      "cell_type": "code",
      "source": [
        "arqv['ProdBi'].hist();"
      ],
      "metadata": {
        "colab": {
          "base_uri": "https://localhost:8080/",
          "height": 430
        },
        "id": "1ZPcrL7bawdS",
        "outputId": "6deaec2f-761f-4f72-e3fc-1a63b1914755"
      },
      "execution_count": 39,
      "outputs": [
        {
          "output_type": "display_data",
          "data": {
            "text/plain": [
              "<Figure size 640x480 with 1 Axes>"
            ],
            "image/png": "[encoded data removed]"
          },
          "metadata": {}
        }
      ]
    },
    {
      "cell_type": "markdown",
      "source": [
        "Q3) Identifique e analise valores atípicos ou discrepantes nos dados. Valores atípicos podemafetar\n",
        "as medidas de tendência central e a interpretação dos resultados. Estes valores atípicos devemser os valores que estão fora do Intervalo de Confiança para média."
      ],
      "metadata": {
        "id": "RENaK_jQayP2"
      }
    },
    {
      "cell_type": "markdown",
      "source": [
        "#Resposta: Analise do boxPlot de tempo e umidade\n"
      ],
      "metadata": {
        "id": "p5dm1ijfNHkB"
      }
    },
    {
      "cell_type": "markdown",
      "source": [
        "Q4)Visualize o cruzamento de variáveis mostrando o comportamento por UF das variaveis\n",
        "agricolas e climáticas. Represente com gráficos descritivos para visualizar os dados. Utilize\n",
        "gráficos de barras entre outros. (-qual a produção total e a media por UF, -qual a produção total\n",
        "por tipo de cultivo, - qual a temperatura, umidade e precipitação total e media por UF"
      ],
      "metadata": {
        "id": "ARloC22La8vt"
      }
    },
    {
      "cell_type": "code",
      "source": [
        "arqv['UF'].hist();"
      ],
      "metadata": {
        "colab": {
          "base_uri": "https://localhost:8080/",
          "height": 430
        },
        "id": "pqqXFzN7PWcj",
        "outputId": "83bef38c-4ec9-44c1-b8f4-1000a3453baa"
      },
      "execution_count": 40,
      "outputs": [
        {
          "output_type": "display_data",
          "data": {
            "text/plain": [
              "<Figure size 640x480 with 1 Axes>"
            ],
            "image/png": "[encoded data removed]"
          },
          "metadata": {}
        }
      ]
    },
    {
      "cell_type": "code",
      "source": [
        "producao_total_por_uf = arqv.groupby('UF')['ProdBd', 'ProdBi'].sum().sum(axis=1)\n",
        "\n",
        "num_empresas_por_uf = arqv.groupby('UF').size()\n",
        "\n",
        "# Calculando a média de produção por UF\n",
        "producao_media_por_uf = producao_total_por_uf / num_empresas_por_uf\n",
        "producao_total_por_cultivo = arqv.groupby('MetdCult')['ProdBd', 'ProdBi'].sum().sum(axis=1)\n",
        "dados_por_uf = arqv.groupby('UF')['temp', 'umidade', 'prec'].agg(['sum', 'mean'])\n",
        "\n",
        "print(dados_por_uf)"
      ],
      "metadata": {
        "id": "xV-iUT17Psmr",
        "colab": {
          "base_uri": "https://localhost:8080/"
        },
        "outputId": "cac930cc-9155-4989-ad30-0352a3420af0"
      },
      "execution_count": 41,
      "outputs": [
        {
          "output_type": "stream",
          "name": "stdout",
          "text": [
            "    temp        umidade          prec        \n",
            "     sum   mean     sum   mean    sum    mean\n",
            "UF                                           \n",
            "CE  2732  27.32    8712  87.12  39504  395.04\n",
            "PB  2712  27.12    8651  86.51  41558  415.58\n",
            "RN  2736  27.36    8708  87.08  40007  400.07\n"
          ]
        },
        {
          "output_type": "stream",
          "name": "stderr",
          "text": [
            "<ipython-input-41-2b2b99aefea6>:1: FutureWarning: Indexing with multiple keys (implicitly converted to a tuple of keys) will be deprecated, use a list instead.\n",
            "  producao_total_por_uf = arqv.groupby('UF')['ProdBd', 'ProdBi'].sum().sum(axis=1)\n",
            "<ipython-input-41-2b2b99aefea6>:7: FutureWarning: Indexing with multiple keys (implicitly converted to a tuple of keys) will be deprecated, use a list instead.\n",
            "  producao_total_por_cultivo = arqv.groupby('MetdCult')['ProdBd', 'ProdBi'].sum().sum(axis=1)\n",
            "<ipython-input-41-2b2b99aefea6>:8: FutureWarning: Indexing with multiple keys (implicitly converted to a tuple of keys) will be deprecated, use a list instead.\n",
            "  dados_por_uf = arqv.groupby('UF')['temp', 'umidade', 'prec'].agg(['sum', 'mean'])\n"
          ]
        }
      ]
    },
    {
      "cell_type": "markdown",
      "source": [
        "Q5) Identifique as correlacoes de Pearson entre todas as variáveis dependentes (producoes\n",
        "agricolas) com as independentes."
      ],
      "metadata": {
        "id": "jNczN06TbKQY"
      }
    },
    {
      "cell_type": "code",
      "source": [
        "correlation = arqv.corr()\n",
        "\n",
        "plot = sn.heatmap(correlation, annot = True, fmt=\".1f\", linewidths=.6)\n",
        "plot\n",
        "\n",
        "arqv.corr()"
      ],
      "metadata": {
        "colab": {
          "base_uri": "https://localhost:8080/",
          "height": 1000
        },
        "id": "Sw8M51gpQ-O-",
        "outputId": "fb48c8e5-f8e8-4a32-aad9-4aa3c1283293"
      },
      "execution_count": 42,
      "outputs": [
        {
          "output_type": "stream",
          "name": "stderr",
          "text": [
            "<ipython-input-42-1a01074d84af>:1: FutureWarning: The default value of numeric_only in DataFrame.corr is deprecated. In a future version, it will default to False. Select only valid columns or specify the value of numeric_only to silence this warning.\n",
            "  correlation = arqv.corr()\n",
            "<ipython-input-42-1a01074d84af>:6: FutureWarning: The default value of numeric_only in DataFrame.corr is deprecated. In a future version, it will default to False. Select only valid columns or specify the value of numeric_only to silence this warning.\n",
            "  arqv.corr()\n"
          ]
        },
        {
          "output_type": "execute_result",
          "data": {
            "text/plain": [
              "                NMaquinas  NTrabalhadores  Espacamen   PsMedBd   PsMedBi  \\\n",
              "NMaquinas        1.000000        0.001465  -0.042599  0.042600  0.038848   \n",
              "NTrabalhadores   0.001465        1.000000  -0.049208 -0.002244 -0.003526   \n",
              "Espacamen       -0.042599       -0.049208   1.000000  0.009042  0.008346   \n",
              "PsMedBd          0.042600       -0.002244   0.009042  1.000000  0.998249   \n",
              "PsMedBi          0.038848       -0.003526   0.008346  0.998249  1.000000   \n",
              "BrixBd           0.047796       -0.007180   0.008065  0.994849  0.994287   \n",
              "BrixBi           0.041224       -0.007486   0.010620  0.997350  0.998457   \n",
              "temp            -0.011506       -0.038563  -0.081155  0.004548  0.004280   \n",
              "umidade         -0.116340        0.004506  -0.018501  0.017156  0.014560   \n",
              "prec            -0.074678        0.014372   0.063036 -0.020190 -0.024243   \n",
              "ProdBd           0.027546        0.008084   0.023674  0.985425  0.984321   \n",
              "ProdBi           0.030776       -0.001610   0.017099  0.996271  0.995978   \n",
              "\n",
              "                  BrixBd    BrixBi      temp   umidade      prec    ProdBd  \\\n",
              "NMaquinas       0.047796  0.041224 -0.011506 -0.116340 -0.074678  0.027546   \n",
              "NTrabalhadores -0.007180 -0.007486 -0.038563  0.004506  0.014372  0.008084   \n",
              "Espacamen       0.008065  0.010620 -0.081155 -0.018501  0.063036  0.023674   \n",
              "PsMedBd         0.994849  0.997350  0.004548  0.017156 -0.020190  0.985425   \n",
              "PsMedBi         0.994287  0.998457  0.004280  0.014560 -0.024243  0.984321   \n",
              "BrixBd          1.000000  0.996306 -0.001960  0.012876 -0.015656  0.983662   \n",
              "BrixBi          0.996306  1.000000  0.005899  0.012329 -0.024114  0.984454   \n",
              "temp           -0.001960  0.005899  1.000000 -0.223601 -0.113893 -0.050894   \n",
              "umidade         0.012876  0.012329 -0.223601  1.000000  0.048829  0.047266   \n",
              "prec           -0.015656 -0.024114 -0.113893  0.048829  1.000000  0.016329   \n",
              "ProdBd          0.983662  0.984454 -0.050894  0.047266  0.016329  1.000000   \n",
              "ProdBi          0.993640  0.995261 -0.030453  0.036653 -0.002953  0.994994   \n",
              "\n",
              "                  ProdBi  \n",
              "NMaquinas       0.030776  \n",
              "NTrabalhadores -0.001610  \n",
              "Espacamen       0.017099  \n",
              "PsMedBd         0.996271  \n",
              "PsMedBi         0.995978  \n",
              "BrixBd          0.993640  \n",
              "BrixBi          0.995261  \n",
              "temp           -0.030453  \n",
              "umidade         0.036653  \n",
              "prec           -0.002953  \n",
              "ProdBd          0.994994  \n",
              "ProdBi          1.000000  "
            ],
            "text/html": [
              "\n",
              "  <div id=\"df-43217dd4-c2e3-4e4c-8c06-c5fe84d8f560\">\n",
              "    <div class=\"colab-df-container\">\n",
              "      <div>\n",
              "<style scoped>\n",
              "    .dataframe tbody tr th:only-of-type {\n",
              "        vertical-align: middle;\n",
              "    }\n",
              "\n",
              "    .dataframe tbody tr th {\n",
              "        vertical-align: top;\n",
              "    }\n",
              "\n",
              "    .dataframe thead th {\n",
              "        text-align: right;\n",
              "    }\n",
              "</style>\n",
              "<table border=\"1\" class=\"dataframe\">\n",
              "  <thead>\n",
              "    <tr style=\"text-align: right;\">\n",
              "      <th></th>\n",
              "      <th>NMaquinas</th>\n",
              "      <th>NTrabalhadores</th>\n",
              "      <th>Espacamen</th>\n",
              "      <th>PsMedBd</th>\n",
              "      <th>PsMedBi</th>\n",
              "      <th>BrixBd</th>\n",
              "      <th>BrixBi</th>\n",
              "      <th>temp</th>\n",
              "      <th>umidade</th>\n",
              "      <th>prec</th>\n",
              "      <th>ProdBd</th>\n",
              "      <th>ProdBi</th>\n",
              "    </tr>\n",
              "  </thead>\n",
              "  <tbody>\n",
              "    <tr>\n",
              "      <th>NMaquinas</th>\n",
              "      <td>1.000000</td>\n",
              "      <td>0.001465</td>\n",
              "      <td>-0.042599</td>\n",
              "      <td>0.042600</td>\n",
              "      <td>0.038848</td>\n",
              "      <td>0.047796</td>\n",
              "      <td>0.041224</td>\n",
              "      <td>-0.011506</td>\n",
              "      <td>-0.116340</td>\n",
              "      <td>-0.074678</td>\n",
              "      <td>0.027546</td>\n",
              "      <td>0.030776</td>\n",
              "    </tr>\n",
              "    <tr>\n",
              "      <th>NTrabalhadores</th>\n",
              "      <td>0.001465</td>\n",
              "      <td>1.000000</td>\n",
              "      <td>-0.049208</td>\n",
              "      <td>-0.002244</td>\n",
              "      <td>-0.003526</td>\n",
              "      <td>-0.007180</td>\n",
              "      <td>-0.007486</td>\n",
              "      <td>-0.038563</td>\n",
              "      <td>0.004506</td>\n",
              "      <td>0.014372</td>\n",
              "      <td>0.008084</td>\n",
              "      <td>-0.001610</td>\n",
              "    </tr>\n",
              "    <tr>\n",
              "      <th>Espacamen</th>\n",
              "      <td>-0.042599</td>\n",
              "      <td>-0.049208</td>\n",
              "      <td>1.000000</td>\n",
              "      <td>0.009042</td>\n",
              "      <td>0.008346</td>\n",
              "      <td>0.008065</td>\n",
              "      <td>0.010620</td>\n",
              "      <td>-0.081155</td>\n",
              "      <td>-0.018501</td>\n",
              "      <td>0.063036</td>\n",
              "      <td>0.023674</td>\n",
              "      <td>0.017099</td>\n",
              "    </tr>\n",
              "    <tr>\n",
              "      <th>PsMedBd</th>\n",
              "      <td>0.042600</td>\n",
              "      <td>-0.002244</td>\n",
              "      <td>0.009042</td>\n",
              "      <td>1.000000</td>\n",
              "      <td>0.998249</td>\n",
              "      <td>0.994849</td>\n",
              "      <td>0.997350</td>\n",
              "      <td>0.004548</td>\n",
              "      <td>0.017156</td>\n",
              "      <td>-0.020190</td>\n",
              "      <td>0.985425</td>\n",
              "      <td>0.996271</td>\n",
              "    </tr>\n",
              "    <tr>\n",
              "      <th>PsMedBi</th>\n",
              "      <td>0.038848</td>\n",
              "      <td>-0.003526</td>\n",
              "      <td>0.008346</td>\n",
              "      <td>0.998249</td>\n",
              "      <td>1.000000</td>\n",
              "      <td>0.994287</td>\n",
              "      <td>0.998457</td>\n",
              "      <td>0.004280</td>\n",
              "      <td>0.014560</td>\n",
              "      <td>-0.024243</td>\n",
              "      <td>0.984321</td>\n",
              "      <td>0.995978</td>\n",
              "    </tr>\n",
              "    <tr>\n",
              "      <th>BrixBd</th>\n",
              "      <td>0.047796</td>\n",
              "      <td>-0.007180</td>\n",
              "      <td>0.008065</td>\n",
              "      <td>0.994849</td>\n",
              "      <td>0.994287</td>\n",
              "      <td>1.000000</td>\n",
              "      <td>0.996306</td>\n",
              "      <td>-0.001960</td>\n",
              "      <td>0.012876</td>\n",
              "      <td>-0.015656</td>\n",
              "      <td>0.983662</td>\n",
              "      <td>0.993640</td>\n",
              "    </tr>\n",
              "    <tr>\n",
              "      <th>BrixBi</th>\n",
              "      <td>0.041224</td>\n",
              "      <td>-0.007486</td>\n",
              "      <td>0.010620</td>\n",
              "      <td>0.997350</td>\n",
              "      <td>0.998457</td>\n",
              "      <td>0.996306</td>\n",
              "      <td>1.000000</td>\n",
              "      <td>0.005899</td>\n",
              "      <td>0.012329</td>\n",
              "      <td>-0.024114</td>\n",
              "      <td>0.984454</td>\n",
              "      <td>0.995261</td>\n",
              "    </tr>\n",
              "    <tr>\n",
              "      <th>temp</th>\n",
              "      <td>-0.011506</td>\n",
              "      <td>-0.038563</td>\n",
              "      <td>-0.081155</td>\n",
              "      <td>0.004548</td>\n",
              "      <td>0.004280</td>\n",
              "      <td>-0.001960</td>\n",
              "      <td>0.005899</td>\n",
              "      <td>1.000000</td>\n",
              "      <td>-0.223601</td>\n",
              "      <td>-0.113893</td>\n",
              "      <td>-0.050894</td>\n",
              "      <td>-0.030453</td>\n",
              "    </tr>\n",
              "    <tr>\n",
              "      <th>umidade</th>\n",
              "      <td>-0.116340</td>\n",
              "      <td>0.004506</td>\n",
              "      <td>-0.018501</td>\n",
              "      <td>0.017156</td>\n",
              "      <td>0.014560</td>\n",
              "      <td>0.012876</td>\n",
              "      <td>0.012329</td>\n",
              "      <td>-0.223601</td>\n",
              "      <td>1.000000</td>\n",
              "      <td>0.048829</td>\n",
              "      <td>0.047266</td>\n",
              "      <td>0.036653</td>\n",
              "    </tr>\n",
              "    <tr>\n",
              "      <th>prec</th>\n",
              "      <td>-0.074678</td>\n",
              "      <td>0.014372</td>\n",
              "      <td>0.063036</td>\n",
              "      <td>-0.020190</td>\n",
              "      <td>-0.024243</td>\n",
              "      <td>-0.015656</td>\n",
              "      <td>-0.024114</td>\n",
              "      <td>-0.113893</td>\n",
              "      <td>0.048829</td>\n",
              "      <td>1.000000</td>\n",
              "      <td>0.016329</td>\n",
              "      <td>-0.002953</td>\n",
              "    </tr>\n",
              "    <tr>\n",
              "      <th>ProdBd</th>\n",
              "      <td>0.027546</td>\n",
              "      <td>0.008084</td>\n",
              "      <td>0.023674</td>\n",
              "      <td>0.985425</td>\n",
              "      <td>0.984321</td>\n",
              "      <td>0.983662</td>\n",
              "      <td>0.984454</td>\n",
              "      <td>-0.050894</td>\n",
              "      <td>0.047266</td>\n",
              "      <td>0.016329</td>\n",
              "      <td>1.000000</td>\n",
              "      <td>0.994994</td>\n",
              "    </tr>\n",
              "    <tr>\n",
              "      <th>ProdBi</th>\n",
              "      <td>0.030776</td>\n",
              "      <td>-0.001610</td>\n",
              "      <td>0.017099</td>\n",
              "      <td>0.996271</td>\n",
              "      <td>0.995978</td>\n",
              "      <td>0.993640</td>\n",
              "      <td>0.995261</td>\n",
              "      <td>-0.030453</td>\n",
              "      <td>0.036653</td>\n",
              "      <td>-0.002953</td>\n",
              "      <td>0.994994</td>\n",
              "      <td>1.000000</td>\n",
              "    </tr>\n",
              "  </tbody>\n",
              "</table>\n",
              "</div>\n",
              "      <button class=\"colab-df-convert\" onclick=\"convertToInteractive('df-43217dd4-c2e3-4e4c-8c06-c5fe84d8f560')\"\n",
              "              title=\"Convert this dataframe to an interactive table.\"\n",
              "              style=\"display:none;\">\n",
              "        \n",
              "  <svg xmlns=\"http://www.w3.org/2000/svg\" height=\"24px\"viewBox=\"0 0 24 24\"\n",
              "       width=\"24px\">\n",
              "    <path d=\"M0 0h24v24H0V0z\" fill=\"none\"/>\n",
              "    <path d=\"M18.56 5.44l.94 2.06.94-2.06 2.06-.94-2.06-.94-.94-2.06-.94 2.06-2.06.94zm-11 1L8.5 8.5l.94-2.06 2.06-.94-2.06-.94L8.5 2.5l-.94 2.06-2.06.94zm10 10l.94 2.06.94-2.06 2.06-.94-2.06-.94-.94-2.06-.94 2.06-2.06.94z\"/><path d=\"M17.41 7.96l-1.37-1.37c-.4-.4-.92-.59-1.43-.59-.52 0-1.04.2-1.43.59L10.3 9.45l-7.72 7.72c-.78.78-.78 2.05 0 2.83L4 21.41c.39.39.9.59 1.41.59.51 0 1.02-.2 1.41-.59l7.78-7.78 2.81-2.81c.8-.78.8-2.07 0-2.86zM5.41 20L4 18.59l7.72-7.72 1.47 1.35L5.41 20z\"/>\n",
              "  </svg>\n",
              "      </button>\n",
              "      \n",
              "  <style>\n",
              "    .colab-df-container {\n",
              "      display:flex;\n",
              "      flex-wrap:wrap;\n",
              "      gap: 12px;\n",
              "    }\n",
              "\n",
              "    .colab-df-convert {\n",
              "      background-color: #E8F0FE;\n",
              "      border: none;\n",
              "      border-radius: 50%;\n",
              "      cursor: pointer;\n",
              "      display: none;\n",
              "      fill: #1967D2;\n",
              "      height: 32px;\n",
              "      padding: 0 0 0 0;\n",
              "      width: 32px;\n",
              "    }\n",
              "\n",
              "    .colab-df-convert:hover {\n",
              "      background-color: #E2EBFA;\n",
              "      box-shadow: 0px 1px 2px rgba(60, 64, 67, 0.3), 0px 1px 3px 1px rgba(60, 64, 67, 0.15);\n",
              "      fill: #174EA6;\n",
              "    }\n",
              "\n",
              "    [theme=dark] .colab-df-convert {\n",
              "      background-color: #3B4455;\n",
              "      fill: #D2E3FC;\n",
              "    }\n",
              "\n",
              "    [theme=dark] .colab-df-convert:hover {\n",
              "      background-color: #434B5C;\n",
              "      box-shadow: 0px 1px 3px 1px rgba(0, 0, 0, 0.15);\n",
              "      filter: drop-shadow(0px 1px 2px rgba(0, 0, 0, 0.3));\n",
              "      fill: #FFFFFF;\n",
              "    }\n",
              "  </style>\n",
              "\n",
              "      <script>\n",
              "        const buttonEl =\n",
              "          document.querySelector('#df-43217dd4-c2e3-4e4c-8c06-c5fe84d8f560 button.colab-df-convert');\n",
              "        buttonEl.style.display =\n",
              "          google.colab.kernel.accessAllowed ? 'block' : 'none';\n",
              "\n",
              "        async function convertToInteractive(key) {\n",
              "          const element = document.querySelector('#df-43217dd4-c2e3-4e4c-8c06-c5fe84d8f560');\n",
              "          const dataTable =\n",
              "            await google.colab.kernel.invokeFunction('convertToInteractive',\n",
              "                                                     [key], {});\n",
              "          if (!dataTable) return;\n",
              "\n",
              "          const docLinkHtml = 'Like what you see? Visit the ' +\n",
              "            '<a target=\"_blank\" href=https://colab.research.google.com/notebooks/data_table.ipynb>data table notebook</a>'\n",
              "            + ' to learn more about interactive tables.';\n",
              "          element.innerHTML = '';\n",
              "          dataTable['output_type'] = 'display_data';\n",
              "          await google.colab.output.renderOutput(dataTable, element);\n",
              "          const docLink = document.createElement('div');\n",
              "          docLink.innerHTML = docLinkHtml;\n",
              "          element.appendChild(docLink);\n",
              "        }\n",
              "      </script>\n",
              "    </div>\n",
              "  </div>\n",
              "  "
            ]
          },
          "metadata": {},
          "execution_count": 42
        },
        {
          "output_type": "display_data",
          "data": {
            "text/plain": [
              "<Figure size 640x480 with 2 Axes>"
            ],
            "image/png": "[encoded data removed]"
          },
          "metadata": {}
        }
      ]
    },
    {
      "cell_type": "markdown",
      "source": [
        "Q6) Aplique a regressão Multipla pra identificar a relacao das produções agricolas e as variáveis\n",
        "climáticas. O método estatístico utilizado para modelar a relação entre uma variável dependente\n",
        "e duas ou mais variáveis independentes. No Python, você pode realizar regressão múltipla\n",
        "utilizando bibliotecas como o NumPy, o pandas e o scikit-learn"
      ],
      "metadata": {
        "id": "F1QuvQC9Sg26"
      }
    },
    {
      "cell_type": "code",
      "source": [
        "#Variáveis independentes\n",
        "X = arqv[['temp', 'umidade', 'prec', 'NTrabalhadores']]\n",
        "\n",
        "# Variável dependente 'ProdBd'\n",
        "y_prodbd = arqv['ProdBd']\n",
        "modelo_prodbd = LinearRegression()\n",
        "modelo_prodbd.fit(X, y_prodbd)\n",
        "\n",
        "# Variável dependente 'ProdBi'\n",
        "y_prodbi = arqv['ProdBi']\n",
        "modelo_prodbi = LinearRegression()\n",
        "modelo_prodbi.fit(X, y_prodbi)\n",
        "\n",
        "# Coeficientes e termo independente para 'ProdBd'\n",
        "coeficientes_prodbd = modelo_prodbd.coef_\n",
        "termo_ind_prodbd = modelo_prodbd.intercept_\n",
        "\n",
        "# Coeficientes e termo independente para 'ProdBi'\n",
        "coeficientes_prodbi = modelo_prodbi.coef_\n",
        "termo_ind_prodbi = modelo_prodbi.intercept_\n",
        "\n",
        "# Imprimir coeficientes para cada variável independente\n",
        "for i, column in enumerate(X.columns):\n",
        "    print(f'Coeficiente para {column} em ProdBd: {coeficientes_prodbd[i]}')\n",
        "    print(f'Coeficiente para {column} em ProdBi: {coeficientes_prodbi[i]}')\n",
        "\n",
        "# Imprimir termo independente\n",
        "print(f'Termo independente em ProdBd: {termo_ind_prodbd}')\n",
        "print(f'Termo independente em ProdBi: {termo_ind_prodbi}')"
      ],
      "metadata": {
        "id": "OrBOP6QzSmW8",
        "colab": {
          "base_uri": "https://localhost:8080/"
        },
        "outputId": "8629f977-59bc-45e8-9d55-749b979401c3"
      },
      "execution_count": 43,
      "outputs": [
        {
          "output_type": "stream",
          "name": "stdout",
          "text": [
            "Coeficiente para temp em ProdBd: -298.13721260358125\n",
            "Coeficiente para temp em ProdBi: -15.88663346907935\n",
            "Coeficiente para umidade em ProdBd: 198.52701191945806\n",
            "Coeficiente para umidade em ProdBi: 15.052144468209825\n",
            "Coeficiente para prec em ProdBd: 3.1639239551535923\n",
            "Coeficiente para prec em ProdBi: -0.2121714613813186\n",
            "Coeficiente para NTrabalhadores em ProdBd: 11.209924446903788\n",
            "Coeficiente para NTrabalhadores em ProdBi: -0.4225030742694813\n",
            "Termo independente em ProdBd: 39320.495226334126\n",
            "Termo independente em ProdBi: 4745.914672882789\n"
          ]
        }
      ]
    },
    {
      "cell_type": "markdown",
      "source": [
        "Q7) Aplique os dois tipos de estatística de teste para realizar um teste de comparação de médias. Você pode utilizar diferentes métodos estatísticos, dependendo das características dos seus dados e do objetivo da comparação. Os dois métodos comuns: o teste t de Student (2 var independentes) e a análise de variância- ANOVA (mais de um var independentes). Escolha umadas variáveis independentes e aplique o teste"
      ],
      "metadata": {
        "id": "7L58h2n2lSik"
      }
    },
    {
      "cell_type": "code",
      "source": [
        "# Dados das amostras independentes\n",
        "X = arqv[arqv['temp'] < 25]['ProdBd']\n",
        "Y = arqv[arqv['temp'] >= 25]['ProdBd']\n",
        "\n",
        "# Teste t de Student\n",
        "t_statistic, p_value = stats.ttest_ind(X, Y)\n",
        "\n",
        "# Imprimir os resultados\n",
        "print(\"Teste t de Student:\")\n",
        "print(\"Estatística t:\", t_statistic)\n",
        "print(\"Valor de p:\", p_value)"
      ],
      "metadata": {
        "colab": {
          "base_uri": "https://localhost:8080/"
        },
        "id": "avtOxB4Wx66z",
        "outputId": "746db4b3-5e97-430c-cc05-5ebf318be678"
      },
      "execution_count": 44,
      "outputs": [
        {
          "output_type": "stream",
          "name": "stdout",
          "text": [
            "Teste t de Student:\n",
            "Estatística t: -0.265155664660419\n",
            "Valor de p: 0.7910728687379285\n"
          ]
        }
      ]
    },
    {
      "cell_type": "code",
      "source": [
        "# Dados das variáveis independentes e dependente\n",
        "VI1 = arqv['temp']\n",
        "VI2 = arqv['umidade']\n",
        "VI3 = arqv['prec']\n",
        "VD = arqv['ProdBd']\n",
        "\n",
        "# Teste ANOVA\n",
        "f_statistic, p_value = stats.f_oneway(VI1, VI2, VI3, VD)\n",
        "\n",
        "# Imprimir os resultados\n",
        "print(\"Teste ANOVA:\")\n",
        "print(\"Estatística F:\", f_statistic)\n",
        "print(\"Valor de p:\", p_value)\n"
      ],
      "metadata": {
        "colab": {
          "base_uri": "https://localhost:8080/"
        },
        "id": "d_KZJiI1ySfm",
        "outputId": "5766e3f7-b8f9-4ca4-88c2-38bbbe20b9e3"
      },
      "execution_count": 45,
      "outputs": [
        {
          "output_type": "stream",
          "name": "stdout",
          "text": [
            "Teste ANOVA:\n",
            "Estatística F: 879.1539683411796\n",
            "Valor de p: 7.174246656045777e-302\n"
          ]
        }
      ]
    },
    {
      "cell_type": "code",
      "source": [
        "def regressao_multipla(dados):\n",
        "    # Carregar os dados do banco de dados para um DataFrame do pandas\n",
        "\n",
        "    # Separar as variáveis independentes (climáticas) da variável dependente (produção agrícola)\n",
        "    X = arqv.iloc[:, 4:-2].values  # A partir da quarta coluna até a antepenúltima são as variáveis independentes\n",
        "    y = arqv.iloc[:, -2:].values   # As duas últimas colunas são as variáveis dependentes\n",
        "\n",
        "\n",
        "    # Criar o objeto de regressão linear\n",
        "    regressor = LinearRegression()\n",
        "\n",
        "    # Treinar o modelo de regressão múltipla\n",
        "    regressor.fit(X, y)\n",
        "\n",
        "    # Imprimir os coeficientes de regressão\n",
        "    coeficientes = regressor.coef_\n",
        "    print(\"Coeficientes de regressão:\")\n",
        "    for i, coef in enumerate(coeficientes):\n",
        "        print(f\"Variável {i+1}: {coef}\")\n",
        "\n",
        "    # Imprimir o coeficiente de intercepção\n",
        "    intercepto = regressor.intercept_\n",
        "    print(f\"Coeficiente de intercepção: {intercepto}\")\n",
        "\n",
        "    # Realizar previsões\n",
        "    previsoes = regressor.predict(X)\n",
        "    print(\"Previsões:\")\n",
        "    for i, prev in enumerate(previsoes):\n",
        "        print(f\"Previsão {i+1}: {prev}\")\n",
        "\n",
        "# Exemplo de uso da função\n",
        "regressao_multipla(\"arqv.csv\")  # Substitua \"dados.csv\" pelo caminho ou nome do arquivo do banco de dados\n"
      ],
      "metadata": {
        "id": "Ac1HMHLOzoKr",
        "colab": {
          "base_uri": "https://localhost:8080/"
        },
        "outputId": "99dfc8e2-bb20-4d31-de99-3a9ea96c17b4"
      },
      "execution_count": 46,
      "outputs": [
        {
          "output_type": "stream",
          "name": "stdout",
          "text": [
            "Coeficientes de regressão:\n",
            "Variável 1: [-103.99607686   19.37111778  680.01723565  294.06952242  -41.96808571\n",
            "  453.44355368  519.80442793 -330.60802232  102.72322       9.19164732]\n",
            "Variável 2: [ -7.46742872   0.14466637  34.30861131  20.01900397  44.68926544\n",
            "  36.40484122  -5.2345491  -18.8177937    6.30401901   0.37652474]\n",
            "Coeficiente de intercepção: [-47785.18020138  -1897.16060377]\n",
            "Previsões:\n",
            "Previsão 1: [7166.10467497 1571.19209375]\n",
            "Previsão 2: [-551.68010341 1526.7181902 ]\n",
            "Previsão 3: [13855.37193145  2153.40205618]\n",
            "Previsão 4: [23723.62010426  3260.46705425]\n",
            "Previsão 5: [9835.93431818 1813.86969915]\n",
            "Previsão 6: [22565.99791633  2990.77387699]\n",
            "Previsão 7: [12486.52133903  2107.08653575]\n",
            "Previsão 8: [28100.44250013  3527.51389992]\n",
            "Previsão 9: [6044.74349147 1409.20404416]\n",
            "Previsão 10: [15201.55175295  2478.463263  ]\n",
            "Previsão 11: [55476.84625557  5491.78608027]\n",
            "Previsão 12: [61701.82627516  6615.30057087]\n",
            "Previsão 13: [40491.16284871  4515.17293466]\n",
            "Previsão 14: [51860.41406691  5741.55660288]\n",
            "Previsão 15: [63257.7761485   6615.16294674]\n",
            "Previsão 16: [69370.27644052  7656.39634071]\n",
            "Previsão 17: [86798.18237564  8779.16365347]\n",
            "Previsão 18: [94244.64964596  9533.57107457]\n",
            "Previsão 19: [5571.76264348 1529.52441016]\n",
            "Previsão 20: [33356.42112054  3954.12976183]\n",
            "Previsão 21: [1823.87099489 1206.9111147 ]\n",
            "Previsão 22: [14881.54763471  2353.59914683]\n",
            "Previsão 23: [33672.17814835  4033.53656303]\n",
            "Previsão 24: [48283.95215265  5329.12037867]\n",
            "Previsão 25: [57588.27058861  6265.5166877 ]\n",
            "Previsão 26: [67060.89844637  7059.43590956]\n",
            "Previsão 27: [75311.74978426  7789.24633138]\n",
            "Previsão 28: [81979.10207016  8491.45876703]\n",
            "Previsão 29: [88098.70705534  9080.35599467]\n",
            "Previsão 30: [9296.78918782 1704.56718289]\n",
            "Previsão 31: [20039.14898432  2777.98308902]\n",
            "Previsão 32: [43159.53205015  4721.00491746]\n",
            "Previsão 33: [50660.38221646  5506.11939863]\n",
            "Previsão 34: [63930.3322549   6699.36630179]\n",
            "Previsão 35: [68500.23356137  7201.39764642]\n",
            "Previsão 36: [76929.79927075  7938.92820876]\n",
            "Previsão 37: [86060.63708176  8852.2827067 ]\n",
            "Previsão 38: [90619.61638793  9209.01968289]\n",
            "Previsão 39: [8240.76728479 1779.02140765]\n",
            "Previsão 40: [21703.18777041  2971.62945957]\n",
            "Previsão 41: [39138.23698008  4322.61419736]\n",
            "Previsão 42: [46548.13719261  5104.20675228]\n",
            "Previsão 43: [67787.24355477  7053.25964976]\n",
            "Previsão 44: [57158.90473323  6083.93379971]\n",
            "Previsão 45: [81838.57393027  8414.46675306]\n",
            "Previsão 46: [95753.11781788  9723.31850621]\n",
            "Previsão 47: [37315.41515131  4237.9743784 ]\n",
            "Previsão 48: [48759.84908132  5538.66935725]\n",
            "Previsão 49: [68611.24767102  7295.26225564]\n",
            "Previsão 50: [76593.53654612  7968.69888533]\n",
            "Previsão 51: [87674.38527076  9012.81082631]\n",
            "Previsão 52: [94134.63923081  9491.4250548 ]\n",
            "Previsão 53: [5614.12955085 1359.5353362 ]\n",
            "Previsão 54: [16231.09667084  2416.38206207]\n",
            "Previsão 55: [35084.0209265   4041.24751824]\n",
            "Previsão 56: [49674.46992717  5332.96925936]\n",
            "Previsão 57: [58845.3606925   6366.50105482]\n",
            "Previsão 58: [67975.56649938  7057.71894203]\n",
            "Previsão 59: [84694.42170365  8684.43302821]\n",
            "Previsão 60: [45647.34678213  5022.92438797]\n",
            "Previsão 61: [62615.62780343  6743.47698195]\n",
            "Previsão 62: [24702.99534292  3378.62533779]\n",
            "Previsão 63: [42609.39073182  4714.21279133]\n",
            "Previsão 64: [60687.3619463  6521.8255546]\n",
            "Previsão 65: [86193.84972671  8828.18006407]\n",
            "Previsão 66: [12202.36994753  1988.77965786]\n",
            "Previsão 67: [22520.45263532  3027.78218477]\n",
            "Previsão 68: [55321.16645959  6092.91077046]\n",
            "Previsão 69: [87362.40744126  8802.73623258]\n",
            "Previsão 70: [99492.88491588  9990.59976026]\n",
            "Previsão 71: [42024.22281179  4675.84443583]\n",
            "Previsão 72: [62291.02016866  6676.49173521]\n",
            "Previsão 73: [12683.73339885  2063.20824491]\n",
            "Previsão 74: [23997.4394195   3212.52672739]\n",
            "Previsão 75: [56792.60717175  6039.79699812]\n",
            "Previsão 76: [79353.08636156  8209.02520872]\n",
            "Previsão 77: [95990.75028294  9663.7550348 ]\n",
            "Previsão 78: [29080.97503336  3609.51451048]\n",
            "Previsão 79: [49521.45699751  5485.39768744]\n",
            "Previsão 80: [69349.10370137  7271.75200656]\n",
            "Previsão 81: [76742.33810957  7890.88384252]\n",
            "Previsão 82: [90483.25115355  9251.57591922]\n",
            "Previsão 83: [-819.84259803  973.71280937]\n",
            "Previsão 84: [15730.98771665  2357.49836964]\n",
            "Previsão 85: [5519.05754419 1539.39419935]\n",
            "Previsão 86: [22188.74269258  2931.46559898]\n",
            "Previsão 87: [38695.39846101  4341.15125894]\n",
            "Previsão 88: [28069.92311382  3588.54388892]\n",
            "Previsão 89: [39173.18729341  4410.94805888]\n",
            "Previsão 90: [49564.83465223  5605.8850864 ]\n",
            "Previsão 91: [65028.07418418  6859.56675527]\n",
            "Previsão 92: [72964.93835489  7577.02606008]\n",
            "Previsão 93: [73299.99689719  7620.92506428]\n",
            "Previsão 94: [77175.52598369  8059.66722376]\n",
            "Previsão 95: [87516.89257208  8963.08759854]\n",
            "Previsão 96: [94000.61221256  9497.51863712]\n",
            "Previsão 97: [42851.61271172  4876.95594506]\n",
            "Previsão 98: [61485.59910049  6540.84307962]\n",
            "Previsão 99: [86209.64371776  8768.06869462]\n",
            "Previsão 100: [34812.57944707  4037.52252801]\n",
            "Previsão 101: [62946.57590502  6565.5094103 ]\n",
            "Previsão 102: [84301.13935774  8649.96883167]\n",
            "Previsão 103: [8948.22504617 1833.95333797]\n",
            "Previsão 104: [26257.36487979  3314.92059753]\n",
            "Previsão 105: [42087.104391    4722.29736387]\n",
            "Previsão 106: [63833.94360731  6744.30929082]\n",
            "Previsão 107: [51682.39507782  5612.54509373]\n",
            "Previsão 108: [67881.48179137  7190.16456952]\n",
            "Previsão 109: [76424.85337572  7863.11170086]\n",
            "Previsão 110: [91198.52514     9231.70521231]\n",
            "Previsão 111: [49671.92344879  5661.31450473]\n",
            "Previsão 112: [82479.77733444  8343.40255589]\n",
            "Previsão 113: [96532.68487709  9724.58920034]\n",
            "Previsão 114: [34324.56885764  3974.14576338]\n",
            "Previsão 115: [49334.68267009  5611.96855293]\n",
            "Previsão 116: [61961.07494227  6643.18970827]\n",
            "Previsão 117: [72464.92186749  7484.56248838]\n",
            "Previsão 118: [77618.98100173  8055.62935937]\n",
            "Previsão 119: [87985.19776887  9026.99096199]\n",
            "Previsão 120: [94479.97336856  9472.43566495]\n",
            "Previsão 121: [44096.65253301  4886.32401028]\n",
            "Previsão 122: [59171.33705732  6430.26189897]\n",
            "Previsão 123: [84764.79888664  8664.90289671]\n",
            "Previsão 124: [40644.89083179  4467.63810403]\n",
            "Previsão 125: [57163.02451451  6138.48691342]\n",
            "Previsão 126: [83617.59463683  8479.99669858]\n",
            "Previsão 127: [97188.63574156  9764.56933091]\n",
            "Previsão 128: [47664.26078951  5281.32247846]\n",
            "Previsão 129: [65326.85086064  6945.18301925]\n",
            "Previsão 130: [36370.62401353  4169.92823886]\n",
            "Previsão 131: [51588.88641036  5627.04518634]\n",
            "Previsão 132: [71731.15215389  7457.00815545]\n",
            "Previsão 133: [76519.97125454  7940.72814715]\n",
            "Previsão 134: [93838.6816092   9393.82856903]\n",
            "Previsão 135: [4879.36277467 1360.04131837]\n",
            "Previsão 136: [20096.62587806  2713.52153856]\n",
            "Previsão 137: [40948.59656132  4653.25155418]\n",
            "Previsão 138: [62678.21539634  6635.42239614]\n",
            "Previsão 139: [86758.78191633  8970.25082701]\n",
            "Previsão 140: [30491.27137841  3640.9370742 ]\n",
            "Previsão 141: [54479.36045789  6031.27754065]\n",
            "Previsão 142: [83278.62713297  8478.79630253]\n",
            "Previsão 143: [97038.85582922  9795.11656646]\n",
            "Previsão 144: [45828.06823825  5201.3328644 ]\n",
            "Previsão 145: [69738.24958997  7243.81438083]\n",
            "Previsão 146: [31878.09610878  3778.72826074]\n",
            "Previsão 147: [ 599.85829443 1109.50026442]\n",
            "Previsão 148: [15327.77070116  2363.34639939]\n",
            "Previsão 149: [13310.58508862  2198.50275976]\n",
            "Previsão 150: [3829.34870611 1460.98321344]\n",
            "Previsão 151: [21990.04091034  2857.70621451]\n",
            "Previsão 152: [43903.99736609  4914.57254304]\n",
            "Previsão 153: [61744.12607952  6667.11573423]\n",
            "Previsão 154: [35740.23683542  4154.12785383]\n",
            "Previsão 155: [59908.96875813  6460.8554279 ]\n",
            "Previsão 156: [82040.95900454  8553.87764865]\n",
            "Previsão 157: [14378.15078641  2129.34951091]\n",
            "Previsão 158: [24762.73725276  3228.1760054 ]\n",
            "Previsão 159: [51981.40305306  5730.69253004]\n",
            "Previsão 160: [73505.03117831  7589.34377624]\n",
            "Previsão 161: [73534.0973372   7680.43235386]\n",
            "Previsão 162: [77399.86688263  8090.91483582]\n",
            "Previsão 163: [88445.41023125  9106.39329687]\n",
            "Previsão 164: [91944.89565813  9448.30900201]\n",
            "Previsão 165: [50292.92675301  5567.19412671]\n",
            "Previsão 166: [72504.35165229  7490.47829837]\n",
            "Previsão 167: [77592.83613652  8028.41611126]\n",
            "Previsão 168: [88513.13094209  9062.72881364]\n",
            "Previsão 169: [90886.11233452  9237.35940618]\n",
            "Previsão 170: [46826.08714176  5078.2662968 ]\n",
            "Previsão 171: [66164.70741297  7003.48240774]\n",
            "Previsão 172: [1763.6601411  1194.58922491]\n",
            "Previsão 173: [15252.40678758  2453.92117558]\n",
            "Previsão 174: [8761.00533318 1804.1121239 ]\n",
            "Previsão 175: [21085.99134464  2920.07064825]\n",
            "Previsão 176: [33032.11601926  3904.70865389]\n",
            "Previsão 177: [60865.3104405   6304.73986638]\n",
            "Previsão 178: [82828.82191255  8450.4879263 ]\n",
            "Previsão 179: [95235.33981292  9713.56797417]\n",
            "Previsão 180: [39933.67253688  4421.32905764]\n",
            "Previsão 181: [55911.8851642   5946.28988878]\n",
            "Previsão 182: [79012.29512926  8216.14063407]\n",
            "Previsão 183: [96313.87677751  9733.00464554]\n",
            "Previsão 184: [41679.7278202   4616.83311444]\n",
            "Previsão 185: [62347.26611824  6630.89826556]\n",
            "Previsão 186: [83833.32323955  8754.80652025]\n",
            "Previsão 187: [11186.24629969  1947.83334452]\n",
            "Previsão 188: [26029.92764367  3286.18548478]\n",
            "Previsão 189: [6389.76250273 1629.90900536]\n",
            "Previsão 190: [21184.53343804  2885.57836161]\n",
            "Previsão 191: [13545.43014957  2178.26640685]\n",
            "Previsão 192: [28596.61141012  3519.18849901]\n",
            "Previsão 193: [37719.8179624  4268.5918815]\n",
            "Previsão 194: [47907.75043238  5267.22201541]\n",
            "Previsão 195: [59256.67256928  6411.60291605]\n",
            "Previsão 196: [67905.13038677  7095.31593067]\n",
            "Previsão 197: [82199.0085129   8550.70559875]\n",
            "Previsão 198: [6694.48832979 1591.81329061]\n",
            "Previsão 199: [17229.40839239  2616.4330987 ]\n",
            "Previsão 200: [34084.21383577  4027.19386642]\n",
            "Previsão 201: [55349.88784954  5912.69078376]\n",
            "Previsão 202: [81359.49360173  8337.82973109]\n",
            "Previsão 203: [97704.69606134  9715.89117481]\n",
            "Previsão 204: [11668.81738912  2003.98134883]\n",
            "Previsão 205: [21740.40734954  3001.02071018]\n",
            "Previsão 206: [42596.70284018  4744.79547861]\n",
            "Previsão 207: [47929.47156951  5389.20238699]\n",
            "Previsão 208: [60307.10850327  6541.06018168]\n",
            "Previsão 209: [69001.43926055  7265.84858296]\n",
            "Previsão 210: [79078.82863717  8065.80642959]\n",
            "Previsão 211: [87418.07298031  8910.90148547]\n",
            "Previsão 212: [90559.70248453  9261.05096223]\n",
            "Previsão 213: [13092.23549016  2178.2762884 ]\n",
            "Previsão 214: [11541.20781583  1938.55143197]\n",
            "Previsão 215: [20976.6249891   2869.17424796]\n",
            "Previsão 216: [2985.36603284 1270.99965659]\n",
            "Previsão 217: [17864.74738887  2564.02761715]\n",
            "Previsão 218: [33635.61808414  3954.84505073]\n",
            "Previsão 219: [59887.20945423  6386.61428662]\n",
            "Previsão 220: [83323.78207718  8542.39053221]\n",
            "Previsão 221: [102573.93876257  10129.66686247]\n",
            "Previsão 222: [ 672.57122985 1084.89573959]\n",
            "Previsão 223: [13103.41115296  2199.15897096]\n",
            "Previsão 224: [29321.28174661  3642.4601627 ]\n",
            "Previsão 225: [48006.78641214  5188.2579137 ]\n",
            "Previsão 226: [56071.23750999  6041.57648313]\n",
            "Previsão 227: [66049.19247015  6962.12790179]\n",
            "Previsão 228: [83533.64341463  8514.84749838]\n",
            "Previsão 229: [96655.94463491  9752.76230145]\n",
            "Previsão 230: [46189.88653829  5235.43153116]\n",
            "Previsão 231: [68194.25206564  7104.34151783]\n",
            "Previsão 232: [50057.3246181  5648.8230735]\n",
            "Previsão 233: [74468.28042348  7640.49206667]\n",
            "Previsão 234: [73018.64913037  7581.33736151]\n",
            "Previsão 235: [77006.26646866  8043.42408271]\n",
            "Previsão 236: [89714.01466311  9157.63090009]\n",
            "Previsão 237: [94324.4491304   9534.98334218]\n",
            "Previsão 238: [31577.52558791  3784.65156719]\n",
            "Previsão 239: [39063.67349547  4490.99977591]\n",
            "Previsão 240: [48833.42446006  5355.19191253]\n",
            "Previsão 241: [60281.00832348  6464.41076392]\n",
            "Previsão 242: [67135.39442235  7172.28537625]\n",
            "Previsão 243: [75910.78946703  7846.26463005]\n",
            "Previsão 244: [83881.08610422  8669.71325698]\n",
            "Previsão 245: [89397.88999555  9136.49110121]\n",
            "Previsão 246: [38158.97160756  4308.25766552]\n",
            "Previsão 247: [60380.01458724  6480.31249168]\n",
            "Previsão 248: [84710.22289625  8695.69105301]\n",
            "Previsão 249: [10772.42210024  1844.12942596]\n",
            "Previsão 250: [20359.44839302  2797.45222612]\n",
            "Previsão 251: [11823.99675923  2019.0952171 ]\n",
            "Previsão 252: [25469.03407967  3336.71952687]\n",
            "Previsão 253: [34917.24080216  4073.37202281]\n",
            "Previsão 254: [52210.67087323  5820.99068002]\n",
            "Previsão 255: [78342.77444268  8175.17216627]\n",
            "Previsão 256: [96621.91975573  9646.18884062]\n",
            "Previsão 257: [3898.05047159 1345.15541425]\n",
            "Previsão 258: [18540.6494666   2556.49687654]\n",
            "Previsão 259: [43746.8739982   4849.01261001]\n",
            "Previsão 260: [62065.27240184  6663.80896209]\n",
            "Previsão 261: [2925.31093385 1155.96979612]\n",
            "Previsão 262: [16355.72252407  2405.47298764]\n",
            "Previsão 263: [45778.23550183  5123.51047266]\n",
            "Previsão 264: [66140.68584336  6969.31125704]\n",
            "Previsão 265: [12193.76902155  2050.3507444 ]\n",
            "Previsão 266: [26524.48520844  3385.52765045]\n",
            "Previsão 267: [5268.05398319 1495.45331856]\n",
            "Previsão 268: [18833.13405885  2712.16169605]\n",
            "Previsão 269: [27780.85684931  3569.07381127]\n",
            "Previsão 270: [47032.11662044  5326.00001937]\n",
            "Previsão 271: [70372.51533648  7236.52176275]\n",
            "Previsão 272: [73897.90499463  7727.95070772]\n",
            "Previsão 273: [89613.10831217  9157.20879096]\n",
            "Previsão 274: [31726.21129431  3768.41866048]\n",
            "Previsão 275: [1226.41650525 1141.04039834]\n",
            "Previsão 276: [14461.36122055  2363.34356745]\n",
            "Previsão 277: [47744.28237456  5130.80012355]\n",
            "Previsão 278: [64788.64668216  6810.39845436]\n",
            "Previsão 279: [39582.87297759  4487.50774987]\n",
            "Previsão 280: [36454.3590308  4163.4984401]\n",
            "Previsão 281: [56286.26840639  6181.71966468]\n",
            "Previsão 282: [82145.58071957  8487.90940119]\n",
            "Previsão 283: [99470.01142514 10014.73684741]\n",
            "Previsão 284: [16378.15681416  2313.0686492 ]\n",
            "Previsão 285: [52061.4972435  5738.04783  ]\n",
            "Previsão 286: [78840.47079678  8156.70308556]\n",
            "Previsão 287: [96495.66702951  9633.2764402 ]\n",
            "Previsão 288: [9400.15711712 1798.29054987]\n",
            "Previsão 289: [24520.51109978  3084.10950412]\n",
            "Previsão 290: [40304.05396872  4387.50887173]\n",
            "Previsão 291: [13627.93409972  2095.46018479]\n",
            "Previsão 292: [26320.17276417  3346.90231181]\n",
            "Previsão 293: [20419.42942122  2783.26271596]\n",
            "Previsão 294: [4272.86699196 1319.21317263]\n",
            "Previsão 295: [15832.49162493  2462.45782613]\n",
            "Previsão 296: [10524.35984665  1907.58831463]\n",
            "Previsão 297: [23785.2082531   3117.85878513]\n",
            "Previsão 298: [5755.73524154 1513.97397161]\n",
            "Previsão 299: [20345.1989171   2816.89210704]\n",
            "Previsão 300: [26002.48581431  3417.57649178]\n"
          ]
        }
      ]
    },
    {
      "cell_type": "code",
      "source": [
        "arqv['temp'].plot(kind = 'box')"
      ],
      "metadata": {
        "colab": {
          "base_uri": "https://localhost:8080/",
          "height": 447
        },
        "id": "n5-KAGPPccFL",
        "outputId": "dcf314db-abd7-4297-dbaa-932fa5ef0c08"
      },
      "execution_count": 47,
      "outputs": [
        {
          "output_type": "execute_result",
          "data": {
            "text/plain": [
              "<Axes: >"
            ]
          },
          "metadata": {},
          "execution_count": 47
        },
        {
          "output_type": "display_data",
          "data": {
            "text/plain": [
              "<Figure size 640x480 with 1 Axes>"
            ],
            "image/png": "[encoded data removed]"
          },
          "metadata": {}
        }
      ]
    },
    {
      "cell_type": "code",
      "source": [
        "arqv['temp'].hist();"
      ],
      "metadata": {
        "colab": {
          "base_uri": "https://localhost:8080/",
          "height": 434
        },
        "id": "RGhPkyb1diZa",
        "outputId": "ad831d98-f672-4f52-c6ac-0f71a00051e1"
      },
      "execution_count": 48,
      "outputs": [
        {
          "output_type": "display_data",
          "data": {
            "text/plain": [
              "<Figure size 640x480 with 1 Axes>"
            ],
            "image/png": "[encoded data removed]"
          },
          "metadata": {}
        }
      ]
    },
    {
      "cell_type": "code",
      "source": [
        "X = arqv[['temp', 'umidade', 'prec', 'NTrabalhadores']]\n",
        "\n",
        "y_prodbd = arqv['ProdBd']\n",
        "modelo_prodbd = LinearRegression()\n",
        "modelo_prodbd.fit(X, y_prodbd)\n",
        "\n",
        "y_prodbi = arqv['ProdBi']\n",
        "modelo_prodbi = LinearRegression()\n",
        "modelo_prodbi.fit(X, y_prodbi)\n",
        "\n",
        "coeficientes_prodbd = modelo_prodbd.coef_\n",
        "termo_ind_prodbd = modelo_prodbd.intercept_\n",
        "\n",
        "coeficientes_prodbi = modelo_prodbi.coef_\n",
        "termo_ind_prodbi = modelo_prodbi.intercept_\n",
        "\n",
        "for i, column in enumerate(X.columns):\n",
        "\tprint(f'Coeficiente para {column} em ProdBd: {coeficientes_prodbd[i]}')\n",
        "\n",
        "\tprint(f'Coeficiente para {column} em ProdBi: {coeficientes_prodbi[i]}')\n",
        "\n",
        "print(f'Termo independente em ProdBd: {termo_ind_prodbd}')\n",
        "\n",
        "print(f'Termo independente em ProdBi: {termo_ind_prodbi}')"
      ],
      "metadata": {
        "colab": {
          "base_uri": "https://localhost:8080/"
        },
        "id": "W7GcKZNCi1W3",
        "outputId": "fff8316f-75f2-4583-83dd-f8af0b930e11"
      },
      "execution_count": 49,
      "outputs": [
        {
          "output_type": "stream",
          "name": "stdout",
          "text": [
            "Coeficiente para temp em ProdBd: -298.13721260358125\n",
            "Coeficiente para temp em ProdBi: -15.88663346907935\n",
            "Coeficiente para umidade em ProdBd: 198.52701191945806\n",
            "Coeficiente para umidade em ProdBi: 15.052144468209825\n",
            "Coeficiente para prec em ProdBd: 3.1639239551535923\n",
            "Coeficiente para prec em ProdBi: -0.2121714613813186\n",
            "Coeficiente para NTrabalhadores em ProdBd: 11.209924446903788\n",
            "Coeficiente para NTrabalhadores em ProdBi: -0.4225030742694813\n",
            "Termo independente em ProdBd: 39320.495226334126\n",
            "Termo independente em ProdBi: 4745.914672882789\n"
          ]
        }
      ]
    },
    {
      "cell_type": "code",
      "source": [
        "# Dados das amostras independentes\n",
        "X = arqv[arqv['temp'] < 25]['ProdBd']\n",
        "Y = arqv[arqv['temp'] >= 25]['ProdBd']\n",
        "\n",
        "# Teste t de Student\n",
        "t_statistic, p_value = stats.ttest_ind(X, Y)\n",
        "\n",
        "# Imprimir os resultados\n",
        "print(\"Teste t de Student:\")\n",
        "print(\"Estatística t:\", t_statistic)\n",
        "print(\"Valor de p:\", p_value)\n"
      ],
      "metadata": {
        "colab": {
          "base_uri": "https://localhost:8080/"
        },
        "id": "zRbSSifsoQOg",
        "outputId": "1f540505-76a6-44e8-9250-949fc966b0c4"
      },
      "execution_count": 50,
      "outputs": [
        {
          "output_type": "stream",
          "name": "stdout",
          "text": [
            "Teste t de Student:\n",
            "Estatística t: -0.265155664660419\n",
            "Valor de p: 0.7910728687379285\n"
          ]
        }
      ]
    },
    {
      "cell_type": "code",
      "source": [
        "# Dados das variáveis independentes e dependente\n",
        "VI1 = arqv['temp']\n",
        "VI2 = arqv['umidade']\n",
        "VI3 = arqv['prec']\n",
        "VD = arqv['ProdBd']\n",
        "\n",
        "# Teste ANOVA\n",
        "f_statistic, p_value = stats.f_oneway(VI1, VI2, VI3, VD)\n",
        "\n",
        "# Imprimir os resultados\n",
        "print(\"Teste ANOVA:\")\n",
        "print(\"Estatística F:\", f_statistic)\n",
        "print(\"Valor de p:\", p_value)\n"
      ],
      "metadata": {
        "id": "u1AuahD0pGt6",
        "outputId": "a1e38964-6ef2-45a1-f978-e4cacf6f94ac",
        "colab": {
          "base_uri": "https://localhost:8080/"
        }
      },
      "execution_count": 51,
      "outputs": [
        {
          "output_type": "stream",
          "name": "stdout",
          "text": [
            "Teste ANOVA:\n",
            "Estatística F: 879.1539683411796\n",
            "Valor de p: 7.174246656045777e-302\n"
          ]
        }
      ]
    }
  ]
}