{
  "nbformat": 4,
  "nbformat_minor": 0,
  "metadata": {
    "colab": {
      "provenance": []
    },
    "kernelspec": {
      "name": "python3",
      "display_name": "Python 3"
    },
    "language_info": {
      "name": "python"
    }
  },
  "cells": [
    {
      "cell_type": "markdown",
      "source": [
        "###Importes e leitura do arquivo\n",
        "\n",
        "---\n",
        "\n"
      ],
      "metadata": {
        "id": "bzwTV0ZJWSGx"
      }
    },
    {
      "cell_type": "code",
      "source": [
        "import pandas as pd\n",
        "import numpy as np\n",
        "import matplotlib.pyplot as plt\n",
        "import statistics\n",
        "import seaborn as sn\n",
        "from sklearn import linear_model\n",
        "from sklearn.linear_model import LinearRegression\n",
        "from scipy import stats\n",
        "\n",
        "arqv = pd.read_csv('BDAgro.csv', thousands = '.', decimal = ',', dtype = {'dotacao':np.float64,'empenhada': np.float64})\n",
        "arqv\n",
        "\n",
        "arqv.head()"
      ],
      "metadata": {
        "id": "vFcB-yxUWX02",
        "colab": {
          "base_uri": "https://localhost:8080/",
          "height": 392
        },
        "outputId": "65b48c61-d3b6-43d7-9354-75dd850733c2"
      },
      "execution_count": 1,
      "outputs": [
        {
          "output_type": "execute_result",
          "data": {
            "text/plain": [
              "                 CNPJ                   Nome  UF MetdCult  NMaquinas  \\\n",
              "0  01.001.001/0001-13      Agrarian Ventures  RN   DIRETO          3   \n",
              "1  01.001.001/0001-57          Agrarian Vent  RN   DIRETO          9   \n",
              "2  01.001.001/0001-38  Agrarian Ventures Co.  RN    PALHA          0   \n",
              "3  01.001.001/0001-82  Agrarian Ventures Co2  RN    PALHA          3   \n",
              "4  01.001.001/0001-23            AgriConnect  RN   DIRETO          7   \n",
              "\n",
              "   NTrabalhadores  Espacamen  PsMedBd  PsMedBi  BrixBd  BrixBi  temp  umidade  \\\n",
              "0              58          1       30       19      53      32    24       80   \n",
              "1              62          5       56       28      59      38    66       54   \n",
              "2              53         15       44       23      57      35    25       84   \n",
              "3              25          1       72       35      64      41    27       66   \n",
              "4              32         15       37       20      54      33    23       93   \n",
              "\n",
              "   prec  ProdBd  ProdBi  \n",
              "0   488    5722    1425  \n",
              "1   120    2000    1000  \n",
              "2   350   12719    2123  \n",
              "3   301   26610    3451  \n",
              "4   335    7251    1719  "
            ],
            "text/html": [
              "\n",
              "  <div id=\"df-bcaa235d-a7b2-4c65-b065-71d1ade37bac\">\n",
              "    <div class=\"colab-df-container\">\n",
              "      <div>\n",
              "<style scoped>\n",
              "    .dataframe tbody tr th:only-of-type {\n",
              "        vertical-align: middle;\n",
              "    }\n",
              "\n",
              "    .dataframe tbody tr th {\n",
              "        vertical-align: top;\n",
              "    }\n",
              "\n",
              "    .dataframe thead th {\n",
              "        text-align: right;\n",
              "    }\n",
              "</style>\n",
              "<table border=\"1\" class=\"dataframe\">\n",
              "  <thead>\n",
              "    <tr style=\"text-align: right;\">\n",
              "      <th></th>\n",
              "      <th>CNPJ</th>\n",
              "      <th>Nome</th>\n",
              "      <th>UF</th>\n",
              "      <th>MetdCult</th>\n",
              "      <th>NMaquinas</th>\n",
              "      <th>NTrabalhadores</th>\n",
              "      <th>Espacamen</th>\n",
              "      <th>PsMedBd</th>\n",
              "      <th>PsMedBi</th>\n",
              "      <th>BrixBd</th>\n",
              "      <th>BrixBi</th>\n",
              "      <th>temp</th>\n",
              "      <th>umidade</th>\n",
              "      <th>prec</th>\n",
              "      <th>ProdBd</th>\n",
              "      <th>ProdBi</th>\n",
              "    </tr>\n",
              "  </thead>\n",
              "  <tbody>\n",
              "    <tr>\n",
              "      <th>0</th>\n",
              "      <td>01.001.001/0001-13</td>\n",
              "      <td>Agrarian Ventures</td>\n",
              "      <td>RN</td>\n",
              "      <td>DIRETO</td>\n",
              "      <td>3</td>\n",
              "      <td>58</td>\n",
              "      <td>1</td>\n",
              "      <td>30</td>\n",
              "      <td>19</td>\n",
              "      <td>53</td>\n",
              "      <td>32</td>\n",
              "      <td>24</td>\n",
              "      <td>80</td>\n",
              "      <td>488</td>\n",
              "      <td>5722</td>\n",
              "      <td>1425</td>\n",
              "    </tr>\n",
              "    <tr>\n",
              "      <th>1</th>\n",
              "      <td>01.001.001/0001-57</td>\n",
              "      <td>Agrarian Vent</td>\n",
              "      <td>RN</td>\n",
              "      <td>DIRETO</td>\n",
              "      <td>9</td>\n",
              "      <td>62</td>\n",
              "      <td>5</td>\n",
              "      <td>56</td>\n",
              "      <td>28</td>\n",
              "      <td>59</td>\n",
              "      <td>38</td>\n",
              "      <td>66</td>\n",
              "      <td>54</td>\n",
              "      <td>120</td>\n",
              "      <td>2000</td>\n",
              "      <td>1000</td>\n",
              "    </tr>\n",
              "    <tr>\n",
              "      <th>2</th>\n",
              "      <td>01.001.001/0001-38</td>\n",
              "      <td>Agrarian Ventures Co.</td>\n",
              "      <td>RN</td>\n",
              "      <td>PALHA</td>\n",
              "      <td>0</td>\n",
              "      <td>53</td>\n",
              "      <td>15</td>\n",
              "      <td>44</td>\n",
              "      <td>23</td>\n",
              "      <td>57</td>\n",
              "      <td>35</td>\n",
              "      <td>25</td>\n",
              "      <td>84</td>\n",
              "      <td>350</td>\n",
              "      <td>12719</td>\n",
              "      <td>2123</td>\n",
              "    </tr>\n",
              "    <tr>\n",
              "      <th>3</th>\n",
              "      <td>01.001.001/0001-82</td>\n",
              "      <td>Agrarian Ventures Co2</td>\n",
              "      <td>RN</td>\n",
              "      <td>PALHA</td>\n",
              "      <td>3</td>\n",
              "      <td>25</td>\n",
              "      <td>1</td>\n",
              "      <td>72</td>\n",
              "      <td>35</td>\n",
              "      <td>64</td>\n",
              "      <td>41</td>\n",
              "      <td>27</td>\n",
              "      <td>66</td>\n",
              "      <td>301</td>\n",
              "      <td>26610</td>\n",
              "      <td>3451</td>\n",
              "    </tr>\n",
              "    <tr>\n",
              "      <th>4</th>\n",
              "      <td>01.001.001/0001-23</td>\n",
              "      <td>AgriConnect</td>\n",
              "      <td>RN</td>\n",
              "      <td>DIRETO</td>\n",
              "      <td>7</td>\n",
              "      <td>32</td>\n",
              "      <td>15</td>\n",
              "      <td>37</td>\n",
              "      <td>20</td>\n",
              "      <td>54</td>\n",
              "      <td>33</td>\n",
              "      <td>23</td>\n",
              "      <td>93</td>\n",
              "      <td>335</td>\n",
              "      <td>7251</td>\n",
              "      <td>1719</td>\n",
              "    </tr>\n",
              "  </tbody>\n",
              "</table>\n",
              "</div>\n",
              "      <button class=\"colab-df-convert\" onclick=\"convertToInteractive('df-bcaa235d-a7b2-4c65-b065-71d1ade37bac')\"\n",
              "              title=\"Convert this dataframe to an interactive table.\"\n",
              "              style=\"display:none;\">\n",
              "        \n",
              "  <svg xmlns=\"http://www.w3.org/2000/svg\" height=\"24px\"viewBox=\"0 0 24 24\"\n",
              "       width=\"24px\">\n",
              "    <path d=\"M0 0h24v24H0V0z\" fill=\"none\"/>\n",
              "    <path d=\"M18.56 5.44l.94 2.06.94-2.06 2.06-.94-2.06-.94-.94-2.06-.94 2.06-2.06.94zm-11 1L8.5 8.5l.94-2.06 2.06-.94-2.06-.94L8.5 2.5l-.94 2.06-2.06.94zm10 10l.94 2.06.94-2.06 2.06-.94-2.06-.94-.94-2.06-.94 2.06-2.06.94z\"/><path d=\"M17.41 7.96l-1.37-1.37c-.4-.4-.92-.59-1.43-.59-.52 0-1.04.2-1.43.59L10.3 9.45l-7.72 7.72c-.78.78-.78 2.05 0 2.83L4 21.41c.39.39.9.59 1.41.59.51 0 1.02-.2 1.41-.59l7.78-7.78 2.81-2.81c.8-.78.8-2.07 0-2.86zM5.41 20L4 18.59l7.72-7.72 1.47 1.35L5.41 20z\"/>\n",
              "  </svg>\n",
              "      </button>\n",
              "      \n",
              "  <style>\n",
              "    .colab-df-container {\n",
              "      display:flex;\n",
              "      flex-wrap:wrap;\n",
              "      gap: 12px;\n",
              "    }\n",
              "\n",
              "    .colab-df-convert {\n",
              "      background-color: #E8F0FE;\n",
              "      border: none;\n",
              "      border-radius: 50%;\n",
              "      cursor: pointer;\n",
              "      display: none;\n",
              "      fill: #1967D2;\n",
              "      height: 32px;\n",
              "      padding: 0 0 0 0;\n",
              "      width: 32px;\n",
              "    }\n",
              "\n",
              "    .colab-df-convert:hover {\n",
              "      background-color: #E2EBFA;\n",
              "      box-shadow: 0px 1px 2px rgba(60, 64, 67, 0.3), 0px 1px 3px 1px rgba(60, 64, 67, 0.15);\n",
              "      fill: #174EA6;\n",
              "    }\n",
              "\n",
              "    [theme=dark] .colab-df-convert {\n",
              "      background-color: #3B4455;\n",
              "      fill: #D2E3FC;\n",
              "    }\n",
              "\n",
              "    [theme=dark] .colab-df-convert:hover {\n",
              "      background-color: #434B5C;\n",
              "      box-shadow: 0px 1px 3px 1px rgba(0, 0, 0, 0.15);\n",
              "      filter: drop-shadow(0px 1px 2px rgba(0, 0, 0, 0.3));\n",
              "      fill: #FFFFFF;\n",
              "    }\n",
              "  </style>\n",
              "\n",
              "      <script>\n",
              "        const buttonEl =\n",
              "          document.querySelector('#df-bcaa235d-a7b2-4c65-b065-71d1ade37bac button.colab-df-convert');\n",
              "        buttonEl.style.display =\n",
              "          google.colab.kernel.accessAllowed ? 'block' : 'none';\n",
              "\n",
              "        async function convertToInteractive(key) {\n",
              "          const element = document.querySelector('#df-bcaa235d-a7b2-4c65-b065-71d1ade37bac');\n",
              "          const dataTable =\n",
              "            await google.colab.kernel.invokeFunction('convertToInteractive',\n",
              "                                                     [key], {});\n",
              "          if (!dataTable) return;\n",
              "\n",
              "          const docLinkHtml = 'Like what you see? Visit the ' +\n",
              "            '<a target=\"_blank\" href=https://colab.research.google.com/notebooks/data_table.ipynb>data table notebook</a>'\n",
              "            + ' to learn more about interactive tables.';\n",
              "          element.innerHTML = '';\n",
              "          dataTable['output_type'] = 'display_data';\n",
              "          await google.colab.output.renderOutput(dataTable, element);\n",
              "          const docLink = document.createElement('div');\n",
              "          docLink.innerHTML = docLinkHtml;\n",
              "          element.appendChild(docLink);\n",
              "        }\n",
              "      </script>\n",
              "    </div>\n",
              "  </div>\n",
              "  "
            ]
          },
          "metadata": {},
          "execution_count": 1
        }
      ]
    },
    {
      "cell_type": "code",
      "source": [
        "arqv.tail()"
      ],
      "metadata": {
        "colab": {
          "base_uri": "https://localhost:8080/",
          "height": 357
        },
        "id": "nDXLq5bcV8JL",
        "outputId": "b4d0d295-298a-4cab-efd7-f6b35f13041f"
      },
      "execution_count": 2,
      "outputs": [
        {
          "output_type": "execute_result",
          "data": {
            "text/plain": [
              "                   CNPJ                   Nome  UF MetdCult  NMaquinas  \\\n",
              "295  01.001.001/0001-30      Sunflower Meadows  RN    PALHA          4   \n",
              "296  01.001.001/0001-74     Sunflower Meadows2  RN    PALHA          6   \n",
              "297  01.001.001/0001-20  Sustainable AgroTech1  RN    PALHA          5   \n",
              "298  01.001.001/0001-64  Sustainable AgroTech2  RN    PALHA          6   \n",
              "299  01.001.001/0001-85             TerraVerde  RN   DIRETO          5   \n",
              "\n",
              "     NTrabalhadores  Espacamen  PsMedBd  PsMedBi  BrixBd  BrixBi  temp  \\\n",
              "295              66          5       41       22      56      34    28   \n",
              "296              23         15       67       32      63      40    28   \n",
              "297              36         15       34       19      53      33    29   \n",
              "298              50          1       61       30      61      39    28   \n",
              "299              30          1       74       36      64      42    31   \n",
              "\n",
              "     umidade  prec  ProdBd  ProdBi  \n",
              "295       82   407    9767    1960  \n",
              "296       83   407   24686    3285  \n",
              "297       85   306    6848    1678  \n",
              "298       88   295   21662    2909  \n",
              "299       94   276   26890    3502  "
            ],
            "text/html": [
              "\n",
              "  <div id=\"df-d8e6c7ef-13bf-4565-9914-cb6f86c5e3ec\">\n",
              "    <div class=\"colab-df-container\">\n",
              "      <div>\n",
              "<style scoped>\n",
              "    .dataframe tbody tr th:only-of-type {\n",
              "        vertical-align: middle;\n",
              "    }\n",
              "\n",
              "    .dataframe tbody tr th {\n",
              "        vertical-align: top;\n",
              "    }\n",
              "\n",
              "    .dataframe thead th {\n",
              "        text-align: right;\n",
              "    }\n",
              "</style>\n",
              "<table border=\"1\" class=\"dataframe\">\n",
              "  <thead>\n",
              "    <tr style=\"text-align: right;\">\n",
              "      <th></th>\n",
              "      <th>CNPJ</th>\n",
              "      <th>Nome</th>\n",
              "      <th>UF</th>\n",
              "      <th>MetdCult</th>\n",
              "      <th>NMaquinas</th>\n",
              "      <th>NTrabalhadores</th>\n",
              "      <th>Espacamen</th>\n",
              "      <th>PsMedBd</th>\n",
              "      <th>PsMedBi</th>\n",
              "      <th>BrixBd</th>\n",
              "      <th>BrixBi</th>\n",
              "      <th>temp</th>\n",
              "      <th>umidade</th>\n",
              "      <th>prec</th>\n",
              "      <th>ProdBd</th>\n",
              "      <th>ProdBi</th>\n",
              "    </tr>\n",
              "  </thead>\n",
              "  <tbody>\n",
              "    <tr>\n",
              "      <th>295</th>\n",
              "      <td>01.001.001/0001-30</td>\n",
              "      <td>Sunflower Meadows</td>\n",
              "      <td>RN</td>\n",
              "      <td>PALHA</td>\n",
              "      <td>4</td>\n",
              "      <td>66</td>\n",
              "      <td>5</td>\n",
              "      <td>41</td>\n",
              "      <td>22</td>\n",
              "      <td>56</td>\n",
              "      <td>34</td>\n",
              "      <td>28</td>\n",
              "      <td>82</td>\n",
              "      <td>407</td>\n",
              "      <td>9767</td>\n",
              "      <td>1960</td>\n",
              "    </tr>\n",
              "    <tr>\n",
              "      <th>296</th>\n",
              "      <td>01.001.001/0001-74</td>\n",
              "      <td>Sunflower Meadows2</td>\n",
              "      <td>RN</td>\n",
              "      <td>PALHA</td>\n",
              "      <td>6</td>\n",
              "      <td>23</td>\n",
              "      <td>15</td>\n",
              "      <td>67</td>\n",
              "      <td>32</td>\n",
              "      <td>63</td>\n",
              "      <td>40</td>\n",
              "      <td>28</td>\n",
              "      <td>83</td>\n",
              "      <td>407</td>\n",
              "      <td>24686</td>\n",
              "      <td>3285</td>\n",
              "    </tr>\n",
              "    <tr>\n",
              "      <th>297</th>\n",
              "      <td>01.001.001/0001-20</td>\n",
              "      <td>Sustainable AgroTech1</td>\n",
              "      <td>RN</td>\n",
              "      <td>PALHA</td>\n",
              "      <td>5</td>\n",
              "      <td>36</td>\n",
              "      <td>15</td>\n",
              "      <td>34</td>\n",
              "      <td>19</td>\n",
              "      <td>53</td>\n",
              "      <td>33</td>\n",
              "      <td>29</td>\n",
              "      <td>85</td>\n",
              "      <td>306</td>\n",
              "      <td>6848</td>\n",
              "      <td>1678</td>\n",
              "    </tr>\n",
              "    <tr>\n",
              "      <th>298</th>\n",
              "      <td>01.001.001/0001-64</td>\n",
              "      <td>Sustainable AgroTech2</td>\n",
              "      <td>RN</td>\n",
              "      <td>PALHA</td>\n",
              "      <td>6</td>\n",
              "      <td>50</td>\n",
              "      <td>1</td>\n",
              "      <td>61</td>\n",
              "      <td>30</td>\n",
              "      <td>61</td>\n",
              "      <td>39</td>\n",
              "      <td>28</td>\n",
              "      <td>88</td>\n",
              "      <td>295</td>\n",
              "      <td>21662</td>\n",
              "      <td>2909</td>\n",
              "    </tr>\n",
              "    <tr>\n",
              "      <th>299</th>\n",
              "      <td>01.001.001/0001-85</td>\n",
              "      <td>TerraVerde</td>\n",
              "      <td>RN</td>\n",
              "      <td>DIRETO</td>\n",
              "      <td>5</td>\n",
              "      <td>30</td>\n",
              "      <td>1</td>\n",
              "      <td>74</td>\n",
              "      <td>36</td>\n",
              "      <td>64</td>\n",
              "      <td>42</td>\n",
              "      <td>31</td>\n",
              "      <td>94</td>\n",
              "      <td>276</td>\n",
              "      <td>26890</td>\n",
              "      <td>3502</td>\n",
              "    </tr>\n",
              "  </tbody>\n",
              "</table>\n",
              "</div>\n",
              "      <button class=\"colab-df-convert\" onclick=\"convertToInteractive('df-d8e6c7ef-13bf-4565-9914-cb6f86c5e3ec')\"\n",
              "              title=\"Convert this dataframe to an interactive table.\"\n",
              "              style=\"display:none;\">\n",
              "        \n",
              "  <svg xmlns=\"http://www.w3.org/2000/svg\" height=\"24px\"viewBox=\"0 0 24 24\"\n",
              "       width=\"24px\">\n",
              "    <path d=\"M0 0h24v24H0V0z\" fill=\"none\"/>\n",
              "    <path d=\"M18.56 5.44l.94 2.06.94-2.06 2.06-.94-2.06-.94-.94-2.06-.94 2.06-2.06.94zm-11 1L8.5 8.5l.94-2.06 2.06-.94-2.06-.94L8.5 2.5l-.94 2.06-2.06.94zm10 10l.94 2.06.94-2.06 2.06-.94-2.06-.94-.94-2.06-.94 2.06-2.06.94z\"/><path d=\"M17.41 7.96l-1.37-1.37c-.4-.4-.92-.59-1.43-.59-.52 0-1.04.2-1.43.59L10.3 9.45l-7.72 7.72c-.78.78-.78 2.05 0 2.83L4 21.41c.39.39.9.59 1.41.59.51 0 1.02-.2 1.41-.59l7.78-7.78 2.81-2.81c.8-.78.8-2.07 0-2.86zM5.41 20L4 18.59l7.72-7.72 1.47 1.35L5.41 20z\"/>\n",
              "  </svg>\n",
              "      </button>\n",
              "      \n",
              "  <style>\n",
              "    .colab-df-container {\n",
              "      display:flex;\n",
              "      flex-wrap:wrap;\n",
              "      gap: 12px;\n",
              "    }\n",
              "\n",
              "    .colab-df-convert {\n",
              "      background-color: #E8F0FE;\n",
              "      border: none;\n",
              "      border-radius: 50%;\n",
              "      cursor: pointer;\n",
              "      display: none;\n",
              "      fill: #1967D2;\n",
              "      height: 32px;\n",
              "      padding: 0 0 0 0;\n",
              "      width: 32px;\n",
              "    }\n",
              "\n",
              "    .colab-df-convert:hover {\n",
              "      background-color: #E2EBFA;\n",
              "      box-shadow: 0px 1px 2px rgba(60, 64, 67, 0.3), 0px 1px 3px 1px rgba(60, 64, 67, 0.15);\n",
              "      fill: #174EA6;\n",
              "    }\n",
              "\n",
              "    [theme=dark] .colab-df-convert {\n",
              "      background-color: #3B4455;\n",
              "      fill: #D2E3FC;\n",
              "    }\n",
              "\n",
              "    [theme=dark] .colab-df-convert:hover {\n",
              "      background-color: #434B5C;\n",
              "      box-shadow: 0px 1px 3px 1px rgba(0, 0, 0, 0.15);\n",
              "      filter: drop-shadow(0px 1px 2px rgba(0, 0, 0, 0.3));\n",
              "      fill: #FFFFFF;\n",
              "    }\n",
              "  </style>\n",
              "\n",
              "      <script>\n",
              "        const buttonEl =\n",
              "          document.querySelector('#df-d8e6c7ef-13bf-4565-9914-cb6f86c5e3ec button.colab-df-convert');\n",
              "        buttonEl.style.display =\n",
              "          google.colab.kernel.accessAllowed ? 'block' : 'none';\n",
              "\n",
              "        async function convertToInteractive(key) {\n",
              "          const element = document.querySelector('#df-d8e6c7ef-13bf-4565-9914-cb6f86c5e3ec');\n",
              "          const dataTable =\n",
              "            await google.colab.kernel.invokeFunction('convertToInteractive',\n",
              "                                                     [key], {});\n",
              "          if (!dataTable) return;\n",
              "\n",
              "          const docLinkHtml = 'Like what you see? Visit the ' +\n",
              "            '<a target=\"_blank\" href=https://colab.research.google.com/notebooks/data_table.ipynb>data table notebook</a>'\n",
              "            + ' to learn more about interactive tables.';\n",
              "          element.innerHTML = '';\n",
              "          dataTable['output_type'] = 'display_data';\n",
              "          await google.colab.output.renderOutput(dataTable, element);\n",
              "          const docLink = document.createElement('div');\n",
              "          docLink.innerHTML = docLinkHtml;\n",
              "          element.appendChild(docLink);\n",
              "        }\n",
              "      </script>\n",
              "    </div>\n",
              "  </div>\n",
              "  "
            ]
          },
          "metadata": {},
          "execution_count": 2
        }
      ]
    },
    {
      "cell_type": "markdown",
      "source": [
        "Q1)  Calcule medidas de tendência central, como a média, mediana e moda. Calcule Medidas de\n",
        "dispersão para entender a variabilidade dos dados. Isso pode incluir o desvio padrão, a variância\n",
        "e a amplitude."
      ],
      "metadata": {
        "id": "YHnsQPPSYPVC"
      }
    },
    {
      "cell_type": "markdown",
      "source": [
        "Número de Máquinas no campo:"
      ],
      "metadata": {
        "id": "_upnfYjSiRcx"
      }
    },
    {
      "cell_type": "code",
      "source": [
        "media = arqv['NMaquinas'].mean()\n",
        "mediana = arqv['NMaquinas'].median()\n",
        "quartil = arqv['NMaquinas'].quantile(q=0.25)\n",
        "moda = arqv['NMaquinas'].mode()\n",
        "desv_pad = arqv['NMaquinas'].std()\n",
        "variancia = arqv['NMaquinas'].var()\n",
        "amplitude = arqv['NMaquinas'].max() - arqv['NMaquinas'].min()\n",
        "coef_Variacao = media / desv_pad\n",
        "\n",
        "\n",
        "print('Média: ', media)\n",
        "print('Mediana: ', mediana)\n",
        "print('Quartil: ', quartil)\n",
        "print('Moda: ', moda)\n",
        "print('Desvio Padrão: ', desv_pad)\n",
        "print('Variância: ', variancia)\n",
        "print('Amplitude: ', amplitude)\n",
        "print('Coeficiente de Variacao: ', coef_Variacao)"
      ],
      "metadata": {
        "id": "UZU0M21nh2Oh",
        "colab": {
          "base_uri": "https://localhost:8080/"
        },
        "outputId": "c31dc623-161a-4f36-bfc0-92f46b22c7d8"
      },
      "execution_count": 6,
      "outputs": [
        {
          "output_type": "stream",
          "name": "stdout",
          "text": [
            "Média:  5.036666666666667\n",
            "Mediana:  5.0\n",
            "Quartil:  2.0\n",
            "Moda:  0    9\n",
            "Name: NMaquinas, dtype: int64\n",
            "Desvio Padrão:  3.167876316516272\n",
            "Variância:  10.035440356744704\n",
            "Amplitude:  10\n",
            "Coeficiente de Variacao:  1.589918975184458\n"
          ]
        }
      ]
    },
    {
      "cell_type": "markdown",
      "source": [
        "Números de Trabalhadores:"
      ],
      "metadata": {
        "id": "LV9N0eZOmCNu"
      }
    },
    {
      "cell_type": "code",
      "source": [
        "media = arqv['NTrabalhadores'].mean()\n",
        "mediana = arqv['NTrabalhadores'].median()\n",
        "quartil = arqv['NTrabalhadores'].quantile(q=0.25)\n",
        "moda = arqv['NTrabalhadores'].mode()\n",
        "desv_pad = arqv['NTrabalhadores'].std()\n",
        "variancia = arqv['NTrabalhadores'].var()\n",
        "amplitude = arqv['NTrabalhadores'].max() - arqv['NTrabalhadores'].min()\n",
        "coef_Variacao = media / desv_pad\n",
        "\n",
        "\n",
        "print('Média: ', media)\n",
        "print('Mediana: ', mediana)\n",
        "print('Quartil: ', quartil)\n",
        "print('Moda: ', moda)\n",
        "print('Desvio Padrão: ', desv_pad)\n",
        "print('Variância: ', variancia)\n",
        "print('Amplitude: ', amplitude)\n",
        "print('Coeficiente de Variacao: ', coef_Variacao)"
      ],
      "metadata": {
        "id": "FXRmekzYmQzy",
        "outputId": "5545045e-429b-43e1-e677-fd2105c0d605",
        "colab": {
          "base_uri": "https://localhost:8080/"
        }
      },
      "execution_count": 7,
      "outputs": [
        {
          "output_type": "stream",
          "name": "stdout",
          "text": [
            "Média:  39.96666666666667\n",
            "Mediana:  41.0\n",
            "Quartil:  26.0\n",
            "Moda:  0    44\n",
            "Name: NTrabalhadores, dtype: int64\n",
            "Desvio Padrão:  16.121784288690225\n",
            "Variância:  259.91192865105904\n",
            "Amplitude:  55\n",
            "Coeficiente de Variacao:  2.4790473530094395\n"
          ]
        }
      ]
    },
    {
      "cell_type": "markdown",
      "source": [
        "Espacamento do plantio:"
      ],
      "metadata": {
        "id": "poTQ2jWvmh6K"
      }
    },
    {
      "cell_type": "code",
      "source": [
        "media = arqv['Espacamen'].mean()\n",
        "mediana = arqv['Espacamen'].median()\n",
        "quartil = arqv['Espacamen'].quantile(q=0.25)\n",
        "moda = arqv['Espacamen'].mode()\n",
        "desv_pad = arqv['Espacamen'].std()\n",
        "variancia = arqv['Espacamen'].var()\n",
        "amplitude = arqv['Espacamen'].max() - arqv['Espacamen'].min()\n",
        "coef_Variacao = media / desv_pad\n",
        "\n",
        "\n",
        "print('Média: ', media)\n",
        "print('Mediana: ', mediana)\n",
        "print('Quartil: ', quartil)\n",
        "print('Moda: ', moda)\n",
        "print('Desvio Padrão: ', desv_pad)\n",
        "print('Variância: ', variancia)\n",
        "print('Amplitude: ', amplitude)\n",
        "print('Coeficiente de Variacao: ', coef_Variacao)"
      ],
      "metadata": {
        "id": "Mmy1k8IrnY40",
        "outputId": "6fcacea7-9f86-4879-b7d9-78aac8abdec3",
        "colab": {
          "base_uri": "https://localhost:8080/"
        }
      },
      "execution_count": 9,
      "outputs": [
        {
          "output_type": "stream",
          "name": "stdout",
          "text": [
            "Média:  7.0\n",
            "Mediana:  5.0\n",
            "Quartil:  1.0\n",
            "Moda:  0     1\n",
            "1     5\n",
            "2    15\n",
            "Name: Espacamen, dtype: int64\n",
            "Desvio Padrão:  5.897678246195885\n",
            "Variância:  34.78260869565217\n",
            "Amplitude:  14\n",
            "Coeficiente de Variacao:  1.186907747046922\n"
          ]
        }
      ]
    },
    {
      "cell_type": "markdown",
      "source": [
        "Peso médio da batata doce (gramas):"
      ],
      "metadata": {
        "id": "rTyk70O6vPkB"
      }
    },
    {
      "cell_type": "code",
      "source": [
        "media = arqv['PsMedBd'].mean()\n",
        "mediana = arqv['PsMedBd'].median()\n",
        "quartil = arqv['PsMedBd'].quantile(q=0.25)\n",
        "moda = arqv['PsMedBd'].mode()\n",
        "desv_pad = arqv['PsMedBd'].std()\n",
        "variancia = arqv['PsMedBd'].var()\n",
        "amplitude = arqv['PsMedBd'].max() - arqv['PsMedBd'].min()\n",
        "coef_Variacao = media / desv_pad\n",
        "\n",
        "\n",
        "print('Média: ', media)\n",
        "print('Mediana: ', mediana)\n",
        "print('Quartil: ', quartil)\n",
        "print('Moda: ', moda)\n",
        "print('Desvio Padrão: ', desv_pad)\n",
        "print('Variância: ', variancia)\n",
        "print('Amplitude: ', amplitude)\n",
        "print('Coeficiente de Variacao: ', coef_Variacao)"
      ],
      "metadata": {
        "id": "soG5chzpvThh",
        "outputId": "9b35f743-df2d-4160-e860-de3b6d54a47a",
        "colab": {
          "base_uri": "https://localhost:8080/"
        }
      },
      "execution_count": 10,
      "outputs": [
        {
          "output_type": "stream",
          "name": "stdout",
          "text": [
            "Média:  118.99\n",
            "Mediana:  117.0\n",
            "Quartil:  67.75\n",
            "Moda:  0    102\n",
            "Name: PsMedBd, dtype: int64\n",
            "Desvio Padrão:  58.34142874229519\n",
            "Variância:  3403.722307692308\n",
            "Amplitude:  200\n",
            "Coeficiente de Variacao:  2.0395455264834306\n"
          ]
        }
      ]
    },
    {
      "cell_type": "markdown",
      "source": [
        "Peso médio da batata inglesa (gramas):"
      ],
      "metadata": {
        "id": "0t1QTpOEvqpd"
      }
    },
    {
      "cell_type": "code",
      "source": [
        "media = arqv['PsMedBi'].mean()\n",
        "mediana = arqv['PsMedBi'].median()\n",
        "quartil = arqv['PsMedBi'].quantile(q=0.25)\n",
        "moda = arqv['PsMedBi'].mode()\n",
        "desv_pad = arqv['PsMedBi'].std()\n",
        "variancia = arqv['PsMedBi'].var()\n",
        "amplitude = arqv['PsMedBi'].max() - arqv['PsMedBi'].min()\n",
        "coef_Variacao = media / desv_pad\n",
        "\n",
        "\n",
        "print('Média: ', media)\n",
        "print('Mediana: ', mediana)\n",
        "print('Quartil: ', quartil)\n",
        "print('Moda: ', moda)\n",
        "print('Desvio Padrão: ', desv_pad)\n",
        "print('Variância: ', variancia)\n",
        "print('Amplitude: ', amplitude)\n",
        "print('Coeficiente de Variacao: ', coef_Variacao)"
      ],
      "metadata": {
        "id": "EnU1IgXQvtyU",
        "outputId": "bce3d024-3030-47f4-b477-1241c9045de5",
        "colab": {
          "base_uri": "https://localhost:8080/"
        }
      },
      "execution_count": 11,
      "outputs": [
        {
          "output_type": "stream",
          "name": "stdout",
          "text": [
            "Média:  52.696666666666665\n",
            "Mediana:  53.0\n",
            "Quartil:  33.5\n",
            "Moda:  0    84\n",
            "Name: PsMedBi, dtype: int64\n",
            "Desvio Padrão:  22.538662187440366\n",
            "Variância:  507.9912931995541\n",
            "Amplitude:  75\n",
            "Coeficiente de Variacao:  2.338056546054974\n"
          ]
        }
      ]
    },
    {
      "cell_type": "markdown",
      "source": [
        "Teor de sólidos solúveis batata doce: a quantidade de açúcares e outros\n",
        "compostos solúveis nos frutos, expressa em graus Brix."
      ],
      "metadata": {
        "id": "9Cta0tsAwKK8"
      }
    },
    {
      "cell_type": "code",
      "source": [
        "media = arqv['BrixBd'].mean()\n",
        "mediana = arqv['BrixBd'].median()\n",
        "quartil = arqv['BrixBd'].quantile(q=0.25)\n",
        "moda = arqv['BrixBd'].mode()\n",
        "desv_pad = arqv['BrixBd'].std()\n",
        "variancia = arqv['BrixBd'].var()\n",
        "amplitude = arqv['BrixBd'].max() - arqv['BrixBd'].min()\n",
        "coef_Variacao = media / desv_pad\n",
        "\n",
        "\n",
        "print('Média: ', media)\n",
        "print('Mediana: ', mediana)\n",
        "print('Quartil: ', quartil)\n",
        "print('Moda: ', moda)\n",
        "print('Desvio Padrão: ', desv_pad)\n",
        "print('Variância: ', variancia)\n",
        "print('Amplitude: ', amplitude)\n",
        "print('Coeficiente de Variacao: ', coef_Variacao)"
      ],
      "metadata": {
        "id": "gaoC0J1IwL9Y",
        "outputId": "aa679106-3d62-40be-f0cb-b38f97a33fc4",
        "colab": {
          "base_uri": "https://localhost:8080/"
        }
      },
      "execution_count": 12,
      "outputs": [
        {
          "output_type": "stream",
          "name": "stdout",
          "text": [
            "Média:  75.65666666666667\n",
            "Mediana:  77.0\n",
            "Quartil:  63.0\n",
            "Moda:  0    75\n",
            "1    81\n",
            "2    85\n",
            "3    87\n",
            "Name: BrixBd, dtype: int64\n",
            "Desvio Padrão:  14.19803046620504\n",
            "Variância:  201.5840691192865\n",
            "Amplitude:  50\n",
            "Coeficiente de Variacao:  5.328673356966585\n"
          ]
        }
      ]
    },
    {
      "cell_type": "markdown",
      "source": [
        "Teor de sólidos solúveis batata inglesa: a quantidade de açúcares e outros\n",
        "compostos solúveis nos frutos, expressa em graus Brix."
      ],
      "metadata": {
        "id": "pubP816KwsyT"
      }
    },
    {
      "cell_type": "code",
      "source": [
        "media = arqv['BrixBi'].mean()\n",
        "mediana = arqv['BrixBi'].median()\n",
        "quartil = arqv['BrixBi'].quantile(q=0.25)\n",
        "moda = arqv['BrixBi'].mode()\n",
        "desv_pad = arqv['BrixBi'].std()\n",
        "variancia = arqv['BrixBi'].var()\n",
        "amplitude = arqv['BrixBi'].max() - arqv['BrixBi'].min()\n",
        "coef_Variacao = media / desv_pad\n",
        "\n",
        "\n",
        "print('Média: ', media)\n",
        "print('Mediana: ', mediana)\n",
        "print('Quartil: ', quartil)\n",
        "print('Moda: ', moda)\n",
        "print('Desvio Padrão: ', desv_pad)\n",
        "print('Variância: ', variancia)\n",
        "print('Amplitude: ', amplitude)\n",
        "print('Coeficiente de Variacao: ', coef_Variacao)"
      ],
      "metadata": {
        "id": "XGpZ25LAxVKp",
        "outputId": "c606b6ce-8191-44d7-f339-0d5318b43117",
        "colab": {
          "base_uri": "https://localhost:8080/"
        }
      },
      "execution_count": 13,
      "outputs": [
        {
          "output_type": "stream",
          "name": "stdout",
          "text": [
            "Média:  50.626666666666665\n",
            "Mediana:  50.0\n",
            "Quartil:  40.0\n",
            "Moda:  0    64\n",
            "Name: BrixBi, dtype: int64\n",
            "Desvio Padrão:  11.937152406701733\n",
            "Variância:  142.49560758082498\n",
            "Amplitude:  40\n",
            "Coeficiente de Variacao:  4.24110080375986\n"
          ]
        }
      ]
    },
    {
      "cell_type": "markdown",
      "source": [
        "Temperatura:"
      ],
      "metadata": {
        "id": "sjRA0k-Rx4Bw"
      }
    },
    {
      "cell_type": "code",
      "source": [
        "media = arqv['temp'].mean()\n",
        "mediana = arqv['temp'].median()\n",
        "quartil = arqv['temp'].quantile(q=0.25)\n",
        "moda = arqv['temp'].mode()\n",
        "desv_pad = arqv['temp'].std()\n",
        "variancia = arqv['temp'].var()\n",
        "amplitude = arqv['temp'].max() - arqv['temp'].min()\n",
        "coef_Variacao = media / desv_pad\n",
        "\n",
        "\n",
        "print('Média: ', media)\n",
        "print('Mediana: ', mediana)\n",
        "print('Quartil: ', quartil)\n",
        "print('Moda: ', moda)\n",
        "print('Desvio Padrão: ', desv_pad)\n",
        "print('Variância: ', variancia)\n",
        "print('Amplitude: ', amplitude)\n",
        "print('Coeficiente de Variacao: ', coef_Variacao)"
      ],
      "metadata": {
        "id": "Ow6xFfaex58L",
        "outputId": "1e319443-500b-4f97-eaff-a7365587e7d0",
        "colab": {
          "base_uri": "https://localhost:8080/"
        }
      },
      "execution_count": 14,
      "outputs": [
        {
          "output_type": "stream",
          "name": "stdout",
          "text": [
            "Média:  27.266666666666666\n",
            "Mediana:  27.0\n",
            "Quartil:  25.0\n",
            "Moda:  0    30\n",
            "Name: temp, dtype: int64\n",
            "Desvio Padrão:  4.031094304677026\n",
            "Variância:  16.249721293199556\n",
            "Amplitude:  54\n",
            "Coeficiente de Variacao:  6.764085532563914\n"
          ]
        }
      ]
    },
    {
      "cell_type": "markdown",
      "source": [
        "Umidade"
      ],
      "metadata": {
        "id": "EkcGSYDazL0s"
      }
    },
    {
      "cell_type": "code",
      "source": [
        "media = arqv['umidade'].mean()\n",
        "mediana = arqv['umidade'].median()\n",
        "quartil = arqv['umidade'].quantile(q=0.25)\n",
        "moda = arqv['umidade'].mode()\n",
        "desv_pad = arqv['umidade'].std()\n",
        "variancia = arqv['umidade'].var()\n",
        "amplitude = arqv['umidade'].max() - arqv['umidade'].min()\n",
        "coef_Variacao = media / desv_pad\n",
        "\n",
        "\n",
        "print('Média: ', media)\n",
        "print('Mediana: ', mediana)\n",
        "print('Quartil: ', quartil)\n",
        "print('Moda: ', moda)\n",
        "print('Desvio Padrão: ', desv_pad)\n",
        "print('Variância: ', variancia)\n",
        "print('Amplitude: ', amplitude)\n",
        "print('Coeficiente de Variacao: ', coef_Variacao)"
      ],
      "metadata": {
        "id": "AKrJB6ruzP0k",
        "outputId": "e87a6b99-4167-4b8b-e9b8-a90c43346c76",
        "colab": {
          "base_uri": "https://localhost:8080/"
        }
      },
      "execution_count": 15,
      "outputs": [
        {
          "output_type": "stream",
          "name": "stdout",
          "text": [
            "Média:  86.90333333333334\n",
            "Mediana:  86.5\n",
            "Quartil:  83.0\n",
            "Moda:  0    84\n",
            "Name: umidade, dtype: int64\n",
            "Desvio Padrão:  5.5259184580398255\n",
            "Variância:  30.53577480490524\n",
            "Amplitude:  46\n",
            "Coeficiente de Variacao:  15.726495784043838\n"
          ]
        }
      ]
    },
    {
      "cell_type": "markdown",
      "source": [
        "Precipitação (trimeste/mm)"
      ],
      "metadata": {
        "id": "qNKHBw6azhwS"
      }
    },
    {
      "cell_type": "code",
      "source": [
        "media = arqv['prec'].mean()\n",
        "mediana = arqv['prec'].median()\n",
        "quartil = arqv['prec'].quantile(q=0.25)\n",
        "moda = arqv['prec'].mode()\n",
        "desv_pad = arqv['prec'].std()\n",
        "variancia = arqv['prec'].var()\n",
        "amplitude = arqv['prec'].max() - arqv['prec'].min()\n",
        "coef_Variacao = media / desv_pad\n",
        "\n",
        "\n",
        "print('Média: ', media)\n",
        "print('Mediana: ', mediana)\n",
        "print('Quartil: ', quartil)\n",
        "print('Moda: ', moda)\n",
        "print('Desvio Padrão: ', desv_pad)\n",
        "print('Variância: ', variancia)\n",
        "print('Amplitude: ', amplitude)\n",
        "print('Coeficiente de Variacao: ', coef_Variacao)"
      ],
      "metadata": {
        "id": "tJ8-IOUSzm24",
        "outputId": "0529011e-963b-4cac-e0fc-828c2dd66191",
        "colab": {
          "base_uri": "https://localhost:8080/"
        }
      },
      "execution_count": 16,
      "outputs": [
        {
          "output_type": "stream",
          "name": "stdout",
          "text": [
            "Média:  403.56333333333333\n",
            "Mediana:  402.5\n",
            "Quartil:  326.0\n",
            "Moda:  0    546\n",
            "Name: prec, dtype: int64\n",
            "Desvio Padrão:  89.71832168724966\n",
            "Variância:  8049.377246376812\n",
            "Amplitude:  589\n",
            "Coeficiente de Variacao:  4.498115053245427\n"
          ]
        }
      ]
    },
    {
      "cell_type": "markdown",
      "source": [
        "Producao total batata doce mensal (kg)"
      ],
      "metadata": {
        "id": "sE5midl0z8EH"
      }
    },
    {
      "cell_type": "code",
      "source": [
        "media = arqv['ProdBd'].mean()\n",
        "mediana = arqv['ProdBd'].median()\n",
        "quartil = arqv['ProdBd'].quantile(q=0.25)\n",
        "moda = arqv['ProdBd'].mode()\n",
        "desv_pad = arqv['ProdBd'].std()\n",
        "variancia = arqv['ProdBd'].var()\n",
        "amplitude = arqv['ProdBd'].max() - arqv['ProdBd'].min()\n",
        "coef_Variacao = media / desv_pad\n",
        "\n",
        "\n",
        "print('Média: ', media)\n",
        "print('Mediana: ', mediana)\n",
        "print('Quartil: ', quartil)\n",
        "print('Moda: ', moda)\n",
        "print('Desvio Padrão: ', desv_pad)\n",
        "print('Variância: ', variancia)\n",
        "print('Amplitude: ', amplitude)\n",
        "print('Coeficiente de Variacao: ', coef_Variacao)"
      ],
      "metadata": {
        "id": "Su7psvabz9Vr",
        "outputId": "8679ba02-b50d-4d4f-9923-dd20acd83052",
        "colab": {
          "base_uri": "https://localhost:8080/"
        }
      },
      "execution_count": 17,
      "outputs": [
        {
          "output_type": "stream",
          "name": "stdout",
          "text": [
            "Média:  50168.81333333333\n",
            "Mediana:  49103.5\n",
            "Quartil:  24779.0\n",
            "Moda:  0        1056\n",
            "1        1285\n",
            "2        1793\n",
            "3        2000\n",
            "4        2046\n",
            "        ...  \n",
            "295     98858\n",
            "296     99414\n",
            "297     99842\n",
            "298     99899\n",
            "299    125000\n",
            "Name: ProdBd, Length: 300, dtype: int64\n",
            "Desvio Padrão:  29206.053556176383\n",
            "Variância:  852993564.326243\n",
            "Amplitude:  123944\n",
            "Coeficiente de Variacao:  1.7177539319660606\n"
          ]
        }
      ]
    },
    {
      "cell_type": "markdown",
      "source": [
        "Producao total batata inglesamensal (Kg)"
      ],
      "metadata": {
        "id": "G1_PXcrI0WTg"
      }
    },
    {
      "cell_type": "code",
      "source": [
        "media = arqv['ProdBi'].mean()\n",
        "mediana = arqv['ProdBi'].median()\n",
        "quartil = arqv['ProdBi'].quantile(q=0.25)\n",
        "moda = arqv['ProdBi'].mode()\n",
        "desv_pad = arqv['ProdBi'].std()\n",
        "variancia = arqv['ProdBi'].var()\n",
        "amplitude = arqv['ProdBi'].max() - arqv['ProdBi'].min()\n",
        "coef_Variacao = media / desv_pad\n",
        "\n",
        "\n",
        "print('Média: ', media)\n",
        "print('Mediana: ', mediana)\n",
        "print('Quartil: ', quartil)\n",
        "print('Moda: ', moda)\n",
        "print('Desvio Padrão: ', desv_pad)\n",
        "print('Variância: ', variancia)\n",
        "print('Amplitude: ', amplitude)\n",
        "print('Coeficiente de Variacao: ', coef_Variacao)"
      ],
      "metadata": {
        "id": "dAyStSd00xiL",
        "outputId": "28a07f9b-b0d2-42e5-85c5-d2e6a39b5615",
        "colab": {
          "base_uri": "https://localhost:8080/"
        }
      },
      "execution_count": 18,
      "outputs": [
        {
          "output_type": "stream",
          "name": "stdout",
          "text": [
            "Média:  5518.31\n",
            "Mediana:  5574.5\n",
            "Quartil:  3340.5\n",
            "Moda:  0    1425\n",
            "1    6433\n",
            "2    7028\n",
            "3    8000\n",
            "Name: ProdBi, dtype: int64\n",
            "Desvio Padrão:  2633.811305670852\n",
            "Variância:  6936961.993879599\n",
            "Amplitude:  8982\n",
            "Coeficiente de Variacao:  2.095180466466425\n"
          ]
        }
      ]
    },
    {
      "cell_type": "markdown",
      "source": [
        "Q2) Visualize cada variável com gráficos descritivos para visualizar os dados. Utilize histogramas, boxplots, entre outros. Os gráficos podem fornecer insights visuais sobre a distribuição, forma e\n",
        "tendências dos dados"
      ],
      "metadata": {
        "id": "HbOAMjM4g8cY"
      }
    },
    {
      "cell_type": "markdown",
      "source": [
        "Número de Máquinas no campo:"
      ],
      "metadata": {
        "id": "3pd_a7cS1siY"
      }
    },
    {
      "cell_type": "code",
      "source": [
        "arqv['NMaquinas'].plot(kind = 'box')"
      ],
      "metadata": {
        "colab": {
          "base_uri": "https://localhost:8080/",
          "height": 447
        },
        "id": "YmxoBRjpfUkf",
        "outputId": "db4fd7cb-a1d4-4089-8a82-b69821b30643"
      },
      "execution_count": 24,
      "outputs": [
        {
          "output_type": "execute_result",
          "data": {
            "text/plain": [
              "<Axes: >"
            ]
          },
          "metadata": {},
          "execution_count": 24
        },
        {
          "output_type": "display_data",
          "data": {
            "text/plain": [
              "<Figure size 640x480 with 1 Axes>"
            ],
            "image/png": "[encoded data removed]"
          },
          "metadata": {}
        }
      ]
    },
    {
      "cell_type": "code",
      "source": [
        "arqv['NMaquinas'].hist();"
      ],
      "metadata": {
        "colab": {
          "base_uri": "https://localhost:8080/",
          "height": 430
        },
        "id": "41-S0jyyJfSQ",
        "outputId": "e688f2cd-2e88-4af0-e8d4-2b9a51704199"
      },
      "execution_count": 25,
      "outputs": [
        {
          "output_type": "display_data",
          "data": {
            "text/plain": [
              "<Figure size 640x480 with 1 Axes>"
            ],
            "image/png": "[encoded data removed]"
          },
          "metadata": {}
        }
      ]
    },
    {
      "cell_type": "markdown",
      "source": [
        "Número de trabalhadores no campo"
      ],
      "metadata": {
        "id": "k-jSEKhV19yX"
      }
    },
    {
      "cell_type": "code",
      "source": [
        "arqv['NTrabalhadores'].plot(kind = 'box')"
      ],
      "metadata": {
        "colab": {
          "base_uri": "https://localhost:8080/",
          "height": 447
        },
        "id": "r9o6Pm2hXudG",
        "outputId": "d880d06e-0ddc-4b43-a66d-84a9dd5b4c79"
      },
      "execution_count": 26,
      "outputs": [
        {
          "output_type": "execute_result",
          "data": {
            "text/plain": [
              "<Axes: >"
            ]
          },
          "metadata": {},
          "execution_count": 26
        },
        {
          "output_type": "display_data",
          "data": {
            "text/plain": [
              "<Figure size 640x480 with 1 Axes>"
            ],
            "image/png": "[encoded data removed]"
          },
          "metadata": {}
        }
      ]
    },
    {
      "cell_type": "code",
      "source": [
        "arqv['NTrabalhadores'].hist();"
      ],
      "metadata": {
        "colab": {
          "base_uri": "https://localhost:8080/",
          "height": 430
        },
        "id": "gYzzUF0QJjHc",
        "outputId": "6d04a48d-85dd-475f-92c7-a4f607afbfca"
      },
      "execution_count": 27,
      "outputs": [
        {
          "output_type": "display_data",
          "data": {
            "text/plain": [
              "<Figure size 640x480 with 1 Axes>"
            ],
            "image/png": "[encoded data removed]"
          },
          "metadata": {}
        }
      ]
    },
    {
      "cell_type": "markdown",
      "source": [
        "Espacamento do plantio"
      ],
      "metadata": {
        "id": "sm_nuUqz2Dma"
      }
    },
    {
      "cell_type": "code",
      "source": [
        "arqv['Espacamen'].plot(kind = 'box')"
      ],
      "metadata": {
        "id": "QH7wO4GOZbuI",
        "colab": {
          "base_uri": "https://localhost:8080/",
          "height": 447
        },
        "outputId": "f11b14b2-5713-4ef9-e968-255568125d5c"
      },
      "execution_count": 28,
      "outputs": [
        {
          "output_type": "execute_result",
          "data": {
            "text/plain": [
              "<Axes: >"
            ]
          },
          "metadata": {},
          "execution_count": 28
        },
        {
          "output_type": "display_data",
          "data": {
            "text/plain": [
              "<Figure size 640x480 with 1 Axes>"
            ],
            "image/png": "[encoded data removed]"
          },
          "metadata": {}
        }
      ]
    },
    {
      "cell_type": "code",
      "source": [
        "arqv['Espacamen'].hist();"
      ],
      "metadata": {
        "colab": {
          "base_uri": "https://localhost:8080/",
          "height": 430
        },
        "id": "jSAI79XpJt7t",
        "outputId": "6979141a-f858-4d4e-dbb4-08eba296a942"
      },
      "execution_count": 29,
      "outputs": [
        {
          "output_type": "display_data",
          "data": {
            "text/plain": [
              "<Figure size 640x480 with 1 Axes>"
            ],
            "image/png": "[encoded data removed]"
          },
          "metadata": {}
        }
      ]
    },
    {
      "cell_type": "markdown",
      "source": [
        "Peso médio da batata doce (gramas)"
      ],
      "metadata": {
        "id": "_29tAy2z2Hhg"
      }
    },
    {
      "cell_type": "code",
      "source": [
        "arqv['PsMedBd'].plot(kind = 'box')"
      ],
      "metadata": {
        "colab": {
          "base_uri": "https://localhost:8080/",
          "height": 447
        },
        "id": "QkURqyloZfVq",
        "outputId": "11dc2002-332d-41a2-976b-895e348d5773"
      },
      "execution_count": 30,
      "outputs": [
        {
          "output_type": "execute_result",
          "data": {
            "text/plain": [
              "<Axes: >"
            ]
          },
          "metadata": {},
          "execution_count": 30
        },
        {
          "output_type": "display_data",
          "data": {
            "text/plain": [
              "<Figure size 640x480 with 1 Axes>"
            ],
            "image/png": "[encoded data removed]"
          },
          "metadata": {}
        }
      ]
    },
    {
      "cell_type": "code",
      "source": [
        "arqv['PsMedBd'].hist();"
      ],
      "metadata": {
        "colab": {
          "base_uri": "https://localhost:8080/",
          "height": 430
        },
        "id": "NDUzsXkyJ4DZ",
        "outputId": "ff91f0ce-7150-4b1c-cb35-7e63d90a3450"
      },
      "execution_count": 31,
      "outputs": [
        {
          "output_type": "display_data",
          "data": {
            "text/plain": [
              "<Figure size 640x480 with 1 Axes>"
            ],
            "image/png": "[encoded data removed]"
          },
          "metadata": {}
        }
      ]
    },
    {
      "cell_type": "markdown",
      "source": [
        "Peso médio da batata inglesa (gramas)"
      ],
      "metadata": {
        "id": "jwfYlRpo2UOr"
      }
    },
    {
      "cell_type": "code",
      "source": [
        "arqv['PsMedBi'].plot(kind = 'box')"
      ],
      "metadata": {
        "colab": {
          "base_uri": "https://localhost:8080/",
          "height": 447
        },
        "id": "YF77mR16ZmE2",
        "outputId": "002679a0-81e4-4367-c975-b142fbb74875"
      },
      "execution_count": 32,
      "outputs": [
        {
          "output_type": "execute_result",
          "data": {
            "text/plain": [
              "<Axes: >"
            ]
          },
          "metadata": {},
          "execution_count": 32
        },
        {
          "output_type": "display_data",
          "data": {
            "text/plain": [
              "<Figure size 640x480 with 1 Axes>"
            ],
            "image/png": "[encoded data removed]"
          },
          "metadata": {}
        }
      ]
    },
    {
      "cell_type": "code",
      "source": [
        "arqv['PsMedBi'].hist();"
      ],
      "metadata": {
        "colab": {
          "base_uri": "https://localhost:8080/",
          "height": 430
        },
        "id": "1kbP1BaaKElb",
        "outputId": "7ddb5c83-8b6b-4ef7-bf6d-15f1ce06b90e"
      },
      "execution_count": 33,
      "outputs": [
        {
          "output_type": "display_data",
          "data": {
            "text/plain": [
              "<Figure size 640x480 with 1 Axes>"
            ],
            "image/png": "[encoded data removed]"
          },
          "metadata": {}
        }
      ]
    },
    {
      "cell_type": "markdown",
      "source": [
        "Teor de sólidos solúveis batata doce: a quantidade de açúcares e outros\n",
        "compostos solúveis nos frutos, expressa em graus Brix"
      ],
      "metadata": {
        "id": "tnLXvkuc2W_6"
      }
    },
    {
      "cell_type": "code",
      "source": [
        "arqv['BrixBd'].plot(kind = 'box')"
      ],
      "metadata": {
        "colab": {
          "base_uri": "https://localhost:8080/",
          "height": 447
        },
        "id": "TVT4gTpWaWQt",
        "outputId": "af87bc5a-6d00-4f89-a110-87d24fc69fe7"
      },
      "execution_count": 34,
      "outputs": [
        {
          "output_type": "execute_result",
          "data": {
            "text/plain": [
              "<Axes: >"
            ]
          },
          "metadata": {},
          "execution_count": 34
        },
        {
          "output_type": "display_data",
          "data": {
            "text/plain": [
              "<Figure size 640x480 with 1 Axes>"
            ],
            "image/png": "[encoded data removed]"
          },
          "metadata": {}
        }
      ]
    },
    {
      "cell_type": "code",
      "source": [
        "arqv['BrixBd'].hist();"
      ],
      "metadata": {
        "colab": {
          "base_uri": "https://localhost:8080/",
          "height": 430
        },
        "id": "9pxERIDTKOZO",
        "outputId": "608a5261-9516-43aa-cee1-63f4df5e40a7"
      },
      "execution_count": 35,
      "outputs": [
        {
          "output_type": "display_data",
          "data": {
            "text/plain": [
              "<Figure size 640x480 with 1 Axes>"
            ],
            "image/png": "[encoded data removed]"
          },
          "metadata": {}
        }
      ]
    },
    {
      "cell_type": "markdown",
      "source": [
        "Teor de sólidos solúveis batata inglesa: a quantidade de açúcares e outros compostos solúveis nos frutos, expressa em graus Brix."
      ],
      "metadata": {
        "id": "peeDUlD9ZzUf"
      }
    },
    {
      "cell_type": "code",
      "source": [
        "arqv['BrixBi'].plot(kind = 'box')"
      ],
      "metadata": {
        "colab": {
          "base_uri": "https://localhost:8080/",
          "height": 447
        },
        "id": "wlZPCM3yKaH6",
        "outputId": "ca970888-129c-48e8-ea89-2cf2b93d9681"
      },
      "execution_count": 36,
      "outputs": [
        {
          "output_type": "execute_result",
          "data": {
            "text/plain": [
              "<Axes: >"
            ]
          },
          "metadata": {},
          "execution_count": 36
        },
        {
          "output_type": "display_data",
          "data": {
            "text/plain": [
              "<Figure size 640x480 with 1 Axes>"
            ],
            "image/png": "[encoded data removed]"
          },
          "metadata": {}
        }
      ]
    },
    {
      "cell_type": "code",
      "source": [
        "arqv['BrixBi'].hist();"
      ],
      "metadata": {
        "colab": {
          "base_uri": "https://localhost:8080/",
          "height": 430
        },
        "id": "nzH_A2dHaaZ1",
        "outputId": "2d4da9f1-9169-4c0f-f356-a2cf2f1c3d0b"
      },
      "execution_count": 37,
      "outputs": [
        {
          "output_type": "display_data",
          "data": {
            "text/plain": [
              "<Figure size 640x480 with 1 Axes>"
            ],
            "image/png": "[encoded data removed]"
          },
          "metadata": {}
        }
      ]
    },
    {
      "cell_type": "markdown",
      "source": [
        "temperatura"
      ],
      "metadata": {
        "id": "3imUiLuHZ4ou"
      }
    },
    {
      "cell_type": "code",
      "source": [
        "arqv['temp'].plot(kind = 'box')"
      ],
      "metadata": {
        "colab": {
          "base_uri": "https://localhost:8080/",
          "height": 447
        },
        "id": "IL8qr0dgKele",
        "outputId": "565e6df3-9f59-4b5e-830e-ed7bc9d33779"
      },
      "execution_count": 38,
      "outputs": [
        {
          "output_type": "execute_result",
          "data": {
            "text/plain": [
              "<Axes: >"
            ]
          },
          "metadata": {},
          "execution_count": 38
        },
        {
          "output_type": "display_data",
          "data": {
            "text/plain": [
              "<Figure size 640x480 with 1 Axes>"
            ],
            "image/png": "[encoded data removed]"
          },
          "metadata": {}
        }
      ]
    },
    {
      "cell_type": "code",
      "source": [
        "arqv['temp'].hist();"
      ],
      "metadata": {
        "colab": {
          "base_uri": "https://localhost:8080/",
          "height": 434
        },
        "id": "WQ67lLTtaiG3",
        "outputId": "e79350cf-650f-408c-f9b0-5ca82ba6f847"
      },
      "execution_count": 39,
      "outputs": [
        {
          "output_type": "display_data",
          "data": {
            "text/plain": [
              "<Figure size 640x480 with 1 Axes>"
            ],
            "image/png": "[encoded data removed]"
          },
          "metadata": {}
        }
      ]
    },
    {
      "cell_type": "markdown",
      "source": [
        "umidade"
      ],
      "metadata": {
        "id": "c-4GMSmxaDiI"
      }
    },
    {
      "cell_type": "code",
      "source": [
        "arqv['umidade'].plot(kind = 'box')"
      ],
      "metadata": {
        "colab": {
          "base_uri": "https://localhost:8080/",
          "height": 447
        },
        "id": "YYZE6uAyKpqJ",
        "outputId": "f158597f-79f0-4279-aafb-888813741719"
      },
      "execution_count": 40,
      "outputs": [
        {
          "output_type": "execute_result",
          "data": {
            "text/plain": [
              "<Axes: >"
            ]
          },
          "metadata": {},
          "execution_count": 40
        },
        {
          "output_type": "display_data",
          "data": {
            "text/plain": [
              "<Figure size 640x480 with 1 Axes>"
            ],
            "image/png": "[encoded data removed]"
          },
          "metadata": {}
        }
      ]
    },
    {
      "cell_type": "code",
      "source": [
        "arqv['umidade'].hist();"
      ],
      "metadata": {
        "colab": {
          "base_uri": "https://localhost:8080/",
          "height": 430
        },
        "id": "Nb-CwD4mam3j",
        "outputId": "56d9d766-1bc7-4dc1-9f32-41cdd735736e"
      },
      "execution_count": 41,
      "outputs": [
        {
          "output_type": "display_data",
          "data": {
            "text/plain": [
              "<Figure size 640x480 with 1 Axes>"
            ],
            "image/png": "[encoded data removed]"
          },
          "metadata": {}
        }
      ]
    },
    {
      "cell_type": "markdown",
      "source": [
        "precipitação (trimeste/mm)"
      ],
      "metadata": {
        "id": "1Nmz52C3aGAX"
      }
    },
    {
      "cell_type": "code",
      "source": [
        "arqv['prec'].plot(kind = 'box')"
      ],
      "metadata": {
        "colab": {
          "base_uri": "https://localhost:8080/",
          "height": 447
        },
        "id": "ZssayzXHKzxf",
        "outputId": "c4b0c535-2b8c-44f8-d7a8-c65dd5abb14f"
      },
      "execution_count": 42,
      "outputs": [
        {
          "output_type": "execute_result",
          "data": {
            "text/plain": [
              "<Axes: >"
            ]
          },
          "metadata": {},
          "execution_count": 42
        },
        {
          "output_type": "display_data",
          "data": {
            "text/plain": [
              "<Figure size 640x480 with 1 Axes>"
            ],
            "image/png": "[encoded data removed]"
          },
          "metadata": {}
        }
      ]
    },
    {
      "cell_type": "code",
      "source": [
        "arqv['prec'].hist();"
      ],
      "metadata": {
        "colab": {
          "base_uri": "https://localhost:8080/",
          "height": 430
        },
        "id": "POCKCHajapon",
        "outputId": "1e92a8fd-54aa-4668-af70-984d5a88f313"
      },
      "execution_count": 43,
      "outputs": [
        {
          "output_type": "display_data",
          "data": {
            "text/plain": [
              "<Figure size 640x480 with 1 Axes>"
            ],
            "image/png": "[encoded data removed]"
          },
          "metadata": {}
        }
      ]
    },
    {
      "cell_type": "markdown",
      "source": [
        "Producao total batata doce mensal (kg)"
      ],
      "metadata": {
        "id": "SKqzuA-VaJE2"
      }
    },
    {
      "cell_type": "code",
      "source": [
        "arqv['ProdBd'].plot(kind = 'box')"
      ],
      "metadata": {
        "colab": {
          "base_uri": "https://localhost:8080/",
          "height": 447
        },
        "id": "aj541d5KLBqc",
        "outputId": "908d4583-d369-4957-a257-d830a9d029dc"
      },
      "execution_count": 44,
      "outputs": [
        {
          "output_type": "execute_result",
          "data": {
            "text/plain": [
              "<Axes: >"
            ]
          },
          "metadata": {},
          "execution_count": 44
        },
        {
          "output_type": "display_data",
          "data": {
            "text/plain": [
              "<Figure size 640x480 with 1 Axes>"
            ],
            "image/png": "[encoded data removed]"
          },
          "metadata": {}
        }
      ]
    },
    {
      "cell_type": "code",
      "source": [
        "arqv['ProdBd'].hist();"
      ],
      "metadata": {
        "colab": {
          "base_uri": "https://localhost:8080/",
          "height": 430
        },
        "id": "tYze_hqCasQH",
        "outputId": "99bee8e2-9816-4fab-8f2a-707948619b84"
      },
      "execution_count": 45,
      "outputs": [
        {
          "output_type": "display_data",
          "data": {
            "text/plain": [
              "<Figure size 640x480 with 1 Axes>"
            ],
            "image/png": "[encoded data removed]"
          },
          "metadata": {}
        }
      ]
    },
    {
      "cell_type": "markdown",
      "source": [
        "Producao total batata inglesamensal (Kg)"
      ],
      "metadata": {
        "id": "25XJrgVaaMyA"
      }
    },
    {
      "cell_type": "code",
      "source": [
        "arqv['ProdBi'].plot(kind = 'box')"
      ],
      "metadata": {
        "colab": {
          "base_uri": "https://localhost:8080/",
          "height": 447
        },
        "id": "jKRVPpaFLGb7",
        "outputId": "2699630c-d64a-40b1-98cd-9401af1c4c4c"
      },
      "execution_count": 46,
      "outputs": [
        {
          "output_type": "execute_result",
          "data": {
            "text/plain": [
              "<Axes: >"
            ]
          },
          "metadata": {},
          "execution_count": 46
        },
        {
          "output_type": "display_data",
          "data": {
            "text/plain": [
              "<Figure size 640x480 with 1 Axes>"
            ],
            "image/png": "[encoded data removed]"
          },
          "metadata": {}
        }
      ]
    },
    {
      "cell_type": "code",
      "source": [
        "arqv['ProdBi'].hist();"
      ],
      "metadata": {
        "colab": {
          "base_uri": "https://localhost:8080/",
          "height": 430
        },
        "id": "1ZPcrL7bawdS",
        "outputId": "431dce96-8ca2-4a76-c265-f932132042dc"
      },
      "execution_count": 47,
      "outputs": [
        {
          "output_type": "display_data",
          "data": {
            "text/plain": [
              "<Figure size 640x480 with 1 Axes>"
            ],
            "image/png": "[encoded data removed]"
          },
          "metadata": {}
        }
      ]
    },
    {
      "cell_type": "markdown",
      "source": [
        "Q3) Identifique e analise valores atípicos ou discrepantes nos dados. Valores atípicos podemafetar\n",
        "as medidas de tendência central e a interpretação dos resultados. Estes valores atípicos devemser os valores que estão fora do Intervalo de Confiança para média."
      ],
      "metadata": {
        "id": "RENaK_jQayP2"
      }
    },
    {
      "cell_type": "markdown",
      "source": [
        "#Resposta: Analise do boxPlot de tempo e umidade\n"
      ],
      "metadata": {
        "id": "p5dm1ijfNHkB"
      }
    },
    {
      "cell_type": "markdown",
      "source": [
        "Q4)Visualize o cruzamento de variáveis mostrando o comportamento por UF das variaveis\n",
        "agricolas e climáticas. Represente com gráficos descritivos para visualizar os dados. Utilize\n",
        "gráficos de barras entre outros. (-qual a produção total e a media por UF, -qual a produção total\n",
        "por tipo de cultivo, - qual a temperatura, umidade e precipitação total e media por UF"
      ],
      "metadata": {
        "id": "ARloC22La8vt"
      }
    },
    {
      "cell_type": "code",
      "source": [
        "arqv['UF'].hist();"
      ],
      "metadata": {
        "colab": {
          "base_uri": "https://localhost:8080/",
          "height": 430
        },
        "id": "pqqXFzN7PWcj",
        "outputId": "f62515e7-6dcd-4dec-f46c-7dba0ad5839f"
      },
      "execution_count": 48,
      "outputs": [
        {
          "output_type": "display_data",
          "data": {
            "text/plain": [
              "<Figure size 640x480 with 1 Axes>"
            ],
            "image/png": "[encoded data removed]"
          },
          "metadata": {}
        }
      ]
    },
    {
      "cell_type": "code",
      "source": [
        "producao_total_por_uf = arqv.groupby('UF')['ProdBd', 'ProdBi'].sum().sum(axis=1)\n",
        "\n",
        "num_empresas_por_uf = arqv.groupby('UF').size()\n",
        "\n",
        "# Calculando a média de produção por UF\n",
        "producao_media_por_uf = producao_total_por_uf / num_empresas_por_uf\n",
        "producao_total_por_cultivo = arqv.groupby('MetdCult')['ProdBd', 'ProdBi'].sum().sum(axis=1)\n",
        "dados_por_uf = arqv.groupby('UF')['temp', 'umidade', 'prec'].agg(['sum', 'mean'])\n",
        "\n",
        "print(dados_por_uf)"
      ],
      "metadata": {
        "id": "xV-iUT17Psmr",
        "colab": {
          "base_uri": "https://localhost:8080/"
        },
        "outputId": "a0339e0d-f906-48a5-84c6-ca7d72885cbe"
      },
      "execution_count": 49,
      "outputs": [
        {
          "output_type": "stream",
          "name": "stdout",
          "text": [
            "    temp        umidade          prec        \n",
            "     sum   mean     sum   mean    sum    mean\n",
            "UF                                           \n",
            "CE  2732  27.32    8712  87.12  39504  395.04\n",
            "PB  2712  27.12    8651  86.51  41558  415.58\n",
            "RN  2736  27.36    8708  87.08  40007  400.07\n"
          ]
        },
        {
          "output_type": "stream",
          "name": "stderr",
          "text": [
            "<ipython-input-49-2b2b99aefea6>:1: FutureWarning: Indexing with multiple keys (implicitly converted to a tuple of keys) will be deprecated, use a list instead.\n",
            "  producao_total_por_uf = arqv.groupby('UF')['ProdBd', 'ProdBi'].sum().sum(axis=1)\n",
            "<ipython-input-49-2b2b99aefea6>:7: FutureWarning: Indexing with multiple keys (implicitly converted to a tuple of keys) will be deprecated, use a list instead.\n",
            "  producao_total_por_cultivo = arqv.groupby('MetdCult')['ProdBd', 'ProdBi'].sum().sum(axis=1)\n",
            "<ipython-input-49-2b2b99aefea6>:8: FutureWarning: Indexing with multiple keys (implicitly converted to a tuple of keys) will be deprecated, use a list instead.\n",
            "  dados_por_uf = arqv.groupby('UF')['temp', 'umidade', 'prec'].agg(['sum', 'mean'])\n"
          ]
        }
      ]
    },
    {
      "cell_type": "markdown",
      "source": [
        "Q5) Identifique as correlacoes de Pearson entre todas as variáveis dependentes (producoes\n",
        "agricolas) com as independentes."
      ],
      "metadata": {
        "id": "jNczN06TbKQY"
      }
    },
    {
      "cell_type": "code",
      "source": [
        "correlation = arqv.corr()\n",
        "\n",
        "plot = sn.heatmap(correlation, annot = True, fmt=\".1f\", linewidths=.6)\n",
        "plot\n",
        "\n",
        "arqv.corr()"
      ],
      "metadata": {
        "colab": {
          "base_uri": "https://localhost:8080/",
          "height": 1000
        },
        "id": "Sw8M51gpQ-O-",
        "outputId": "65d91e6c-839d-44b6-b0a3-93b1780e7e54"
      },
      "execution_count": 50,
      "outputs": [
        {
          "output_type": "stream",
          "name": "stderr",
          "text": [
            "<ipython-input-50-1a01074d84af>:1: FutureWarning: The default value of numeric_only in DataFrame.corr is deprecated. In a future version, it will default to False. Select only valid columns or specify the value of numeric_only to silence this warning.\n",
            "  correlation = arqv.corr()\n",
            "<ipython-input-50-1a01074d84af>:6: FutureWarning: The default value of numeric_only in DataFrame.corr is deprecated. In a future version, it will default to False. Select only valid columns or specify the value of numeric_only to silence this warning.\n",
            "  arqv.corr()\n"
          ]
        },
        {
          "output_type": "execute_result",
          "data": {
            "text/plain": [
              "                NMaquinas  NTrabalhadores  Espacamen   PsMedBd   PsMedBi  \\\n",
              "NMaquinas        1.000000        0.001465  -0.033296  0.042600  0.038848   \n",
              "NTrabalhadores   0.001465        1.000000  -0.015547 -0.002244 -0.003526   \n",
              "Espacamen       -0.033296       -0.015547   1.000000  0.006532  0.005485   \n",
              "PsMedBd          0.042600       -0.002244   0.006532  1.000000  0.998249   \n",
              "PsMedBi          0.038848       -0.003526   0.005485  0.998249  1.000000   \n",
              "BrixBd           0.047796       -0.007180   0.005112  0.994849  0.994287   \n",
              "BrixBi           0.041224       -0.007486   0.006366  0.997350  0.998457   \n",
              "temp            -0.011506       -0.038563  -0.035169  0.004548  0.004280   \n",
              "umidade         -0.116340        0.004506  -0.040228  0.017156  0.014560   \n",
              "prec            -0.074678        0.014372   0.090260 -0.020190 -0.024243   \n",
              "ProdBd           0.027546        0.008084   0.020072  0.985425  0.984321   \n",
              "ProdBi           0.030776       -0.001610   0.012536  0.996271  0.995978   \n",
              "\n",
              "                  BrixBd    BrixBi      temp   umidade      prec    ProdBd  \\\n",
              "NMaquinas       0.047796  0.041224 -0.011506 -0.116340 -0.074678  0.027546   \n",
              "NTrabalhadores -0.007180 -0.007486 -0.038563  0.004506  0.014372  0.008084   \n",
              "Espacamen       0.005112  0.006366 -0.035169 -0.040228  0.090260  0.020072   \n",
              "PsMedBd         0.994849  0.997350  0.004548  0.017156 -0.020190  0.985425   \n",
              "PsMedBi         0.994287  0.998457  0.004280  0.014560 -0.024243  0.984321   \n",
              "BrixBd          1.000000  0.996306 -0.001960  0.012876 -0.015656  0.983662   \n",
              "BrixBi          0.996306  1.000000  0.005899  0.012329 -0.024114  0.984454   \n",
              "temp           -0.001960  0.005899  1.000000 -0.223601 -0.113893 -0.050894   \n",
              "umidade         0.012876  0.012329 -0.223601  1.000000  0.048829  0.047266   \n",
              "prec           -0.015656 -0.024114 -0.113893  0.048829  1.000000  0.016329   \n",
              "ProdBd          0.983662  0.984454 -0.050894  0.047266  0.016329  1.000000   \n",
              "ProdBi          0.993640  0.995261 -0.030453  0.036653 -0.002953  0.994994   \n",
              "\n",
              "                  ProdBi  \n",
              "NMaquinas       0.030776  \n",
              "NTrabalhadores -0.001610  \n",
              "Espacamen       0.012536  \n",
              "PsMedBd         0.996271  \n",
              "PsMedBi         0.995978  \n",
              "BrixBd          0.993640  \n",
              "BrixBi          0.995261  \n",
              "temp           -0.030453  \n",
              "umidade         0.036653  \n",
              "prec           -0.002953  \n",
              "ProdBd          0.994994  \n",
              "ProdBi          1.000000  "
            ],
            "text/html": [
              "\n",
              "  <div id=\"df-b1c18160-4516-41c7-bea6-eb3258d23076\">\n",
              "    <div class=\"colab-df-container\">\n",
              "      <div>\n",
              "<style scoped>\n",
              "    .dataframe tbody tr th:only-of-type {\n",
              "        vertical-align: middle;\n",
              "    }\n",
              "\n",
              "    .dataframe tbody tr th {\n",
              "        vertical-align: top;\n",
              "    }\n",
              "\n",
              "    .dataframe thead th {\n",
              "        text-align: right;\n",
              "    }\n",
              "</style>\n",
              "<table border=\"1\" class=\"dataframe\">\n",
              "  <thead>\n",
              "    <tr style=\"text-align: right;\">\n",
              "      <th></th>\n",
              "      <th>NMaquinas</th>\n",
              "      <th>NTrabalhadores</th>\n",
              "      <th>Espacamen</th>\n",
              "      <th>PsMedBd</th>\n",
              "      <th>PsMedBi</th>\n",
              "      <th>BrixBd</th>\n",
              "      <th>BrixBi</th>\n",
              "      <th>temp</th>\n",
              "      <th>umidade</th>\n",
              "      <th>prec</th>\n",
              "      <th>ProdBd</th>\n",
              "      <th>ProdBi</th>\n",
              "    </tr>\n",
              "  </thead>\n",
              "  <tbody>\n",
              "    <tr>\n",
              "      <th>NMaquinas</th>\n",
              "      <td>1.000000</td>\n",
              "      <td>0.001465</td>\n",
              "      <td>-0.033296</td>\n",
              "      <td>0.042600</td>\n",
              "      <td>0.038848</td>\n",
              "      <td>0.047796</td>\n",
              "      <td>0.041224</td>\n",
              "      <td>-0.011506</td>\n",
              "      <td>-0.116340</td>\n",
              "      <td>-0.074678</td>\n",
              "      <td>0.027546</td>\n",
              "      <td>0.030776</td>\n",
              "    </tr>\n",
              "    <tr>\n",
              "      <th>NTrabalhadores</th>\n",
              "      <td>0.001465</td>\n",
              "      <td>1.000000</td>\n",
              "      <td>-0.015547</td>\n",
              "      <td>-0.002244</td>\n",
              "      <td>-0.003526</td>\n",
              "      <td>-0.007180</td>\n",
              "      <td>-0.007486</td>\n",
              "      <td>-0.038563</td>\n",
              "      <td>0.004506</td>\n",
              "      <td>0.014372</td>\n",
              "      <td>0.008084</td>\n",
              "      <td>-0.001610</td>\n",
              "    </tr>\n",
              "    <tr>\n",
              "      <th>Espacamen</th>\n",
              "      <td>-0.033296</td>\n",
              "      <td>-0.015547</td>\n",
              "      <td>1.000000</td>\n",
              "      <td>0.006532</td>\n",
              "      <td>0.005485</td>\n",
              "      <td>0.005112</td>\n",
              "      <td>0.006366</td>\n",
              "      <td>-0.035169</td>\n",
              "      <td>-0.040228</td>\n",
              "      <td>0.090260</td>\n",
              "      <td>0.020072</td>\n",
              "      <td>0.012536</td>\n",
              "    </tr>\n",
              "    <tr>\n",
              "      <th>PsMedBd</th>\n",
              "      <td>0.042600</td>\n",
              "      <td>-0.002244</td>\n",
              "      <td>0.006532</td>\n",
              "      <td>1.000000</td>\n",
              "      <td>0.998249</td>\n",
              "      <td>0.994849</td>\n",
              "      <td>0.997350</td>\n",
              "      <td>0.004548</td>\n",
              "      <td>0.017156</td>\n",
              "      <td>-0.020190</td>\n",
              "      <td>0.985425</td>\n",
              "      <td>0.996271</td>\n",
              "    </tr>\n",
              "    <tr>\n",
              "      <th>PsMedBi</th>\n",
              "      <td>0.038848</td>\n",
              "      <td>-0.003526</td>\n",
              "      <td>0.005485</td>\n",
              "      <td>0.998249</td>\n",
              "      <td>1.000000</td>\n",
              "      <td>0.994287</td>\n",
              "      <td>0.998457</td>\n",
              "      <td>0.004280</td>\n",
              "      <td>0.014560</td>\n",
              "      <td>-0.024243</td>\n",
              "      <td>0.984321</td>\n",
              "      <td>0.995978</td>\n",
              "    </tr>\n",
              "    <tr>\n",
              "      <th>BrixBd</th>\n",
              "      <td>0.047796</td>\n",
              "      <td>-0.007180</td>\n",
              "      <td>0.005112</td>\n",
              "      <td>0.994849</td>\n",
              "      <td>0.994287</td>\n",
              "      <td>1.000000</td>\n",
              "      <td>0.996306</td>\n",
              "      <td>-0.001960</td>\n",
              "      <td>0.012876</td>\n",
              "      <td>-0.015656</td>\n",
              "      <td>0.983662</td>\n",
              "      <td>0.993640</td>\n",
              "    </tr>\n",
              "    <tr>\n",
              "      <th>BrixBi</th>\n",
              "      <td>0.041224</td>\n",
              "      <td>-0.007486</td>\n",
              "      <td>0.006366</td>\n",
              "      <td>0.997350</td>\n",
              "      <td>0.998457</td>\n",
              "      <td>0.996306</td>\n",
              "      <td>1.000000</td>\n",
              "      <td>0.005899</td>\n",
              "      <td>0.012329</td>\n",
              "      <td>-0.024114</td>\n",
              "      <td>0.984454</td>\n",
              "      <td>0.995261</td>\n",
              "    </tr>\n",
              "    <tr>\n",
              "      <th>temp</th>\n",
              "      <td>-0.011506</td>\n",
              "      <td>-0.038563</td>\n",
              "      <td>-0.035169</td>\n",
              "      <td>0.004548</td>\n",
              "      <td>0.004280</td>\n",
              "      <td>-0.001960</td>\n",
              "      <td>0.005899</td>\n",
              "      <td>1.000000</td>\n",
              "      <td>-0.223601</td>\n",
              "      <td>-0.113893</td>\n",
              "      <td>-0.050894</td>\n",
              "      <td>-0.030453</td>\n",
              "    </tr>\n",
              "    <tr>\n",
              "      <th>umidade</th>\n",
              "      <td>-0.116340</td>\n",
              "      <td>0.004506</td>\n",
              "      <td>-0.040228</td>\n",
              "      <td>0.017156</td>\n",
              "      <td>0.014560</td>\n",
              "      <td>0.012876</td>\n",
              "      <td>0.012329</td>\n",
              "      <td>-0.223601</td>\n",
              "      <td>1.000000</td>\n",
              "      <td>0.048829</td>\n",
              "      <td>0.047266</td>\n",
              "      <td>0.036653</td>\n",
              "    </tr>\n",
              "    <tr>\n",
              "      <th>prec</th>\n",
              "      <td>-0.074678</td>\n",
              "      <td>0.014372</td>\n",
              "      <td>0.090260</td>\n",
              "      <td>-0.020190</td>\n",
              "      <td>-0.024243</td>\n",
              "      <td>-0.015656</td>\n",
              "      <td>-0.024114</td>\n",
              "      <td>-0.113893</td>\n",
              "      <td>0.048829</td>\n",
              "      <td>1.000000</td>\n",
              "      <td>0.016329</td>\n",
              "      <td>-0.002953</td>\n",
              "    </tr>\n",
              "    <tr>\n",
              "      <th>ProdBd</th>\n",
              "      <td>0.027546</td>\n",
              "      <td>0.008084</td>\n",
              "      <td>0.020072</td>\n",
              "      <td>0.985425</td>\n",
              "      <td>0.984321</td>\n",
              "      <td>0.983662</td>\n",
              "      <td>0.984454</td>\n",
              "      <td>-0.050894</td>\n",
              "      <td>0.047266</td>\n",
              "      <td>0.016329</td>\n",
              "      <td>1.000000</td>\n",
              "      <td>0.994994</td>\n",
              "    </tr>\n",
              "    <tr>\n",
              "      <th>ProdBi</th>\n",
              "      <td>0.030776</td>\n",
              "      <td>-0.001610</td>\n",
              "      <td>0.012536</td>\n",
              "      <td>0.996271</td>\n",
              "      <td>0.995978</td>\n",
              "      <td>0.993640</td>\n",
              "      <td>0.995261</td>\n",
              "      <td>-0.030453</td>\n",
              "      <td>0.036653</td>\n",
              "      <td>-0.002953</td>\n",
              "      <td>0.994994</td>\n",
              "      <td>1.000000</td>\n",
              "    </tr>\n",
              "  </tbody>\n",
              "</table>\n",
              "</div>\n",
              "      <button class=\"colab-df-convert\" onclick=\"convertToInteractive('df-b1c18160-4516-41c7-bea6-eb3258d23076')\"\n",
              "              title=\"Convert this dataframe to an interactive table.\"\n",
              "              style=\"display:none;\">\n",
              "        \n",
              "  <svg xmlns=\"http://www.w3.org/2000/svg\" height=\"24px\"viewBox=\"0 0 24 24\"\n",
              "       width=\"24px\">\n",
              "    <path d=\"M0 0h24v24H0V0z\" fill=\"none\"/>\n",
              "    <path d=\"M18.56 5.44l.94 2.06.94-2.06 2.06-.94-2.06-.94-.94-2.06-.94 2.06-2.06.94zm-11 1L8.5 8.5l.94-2.06 2.06-.94-2.06-.94L8.5 2.5l-.94 2.06-2.06.94zm10 10l.94 2.06.94-2.06 2.06-.94-2.06-.94-.94-2.06-.94 2.06-2.06.94z\"/><path d=\"M17.41 7.96l-1.37-1.37c-.4-.4-.92-.59-1.43-.59-.52 0-1.04.2-1.43.59L10.3 9.45l-7.72 7.72c-.78.78-.78 2.05 0 2.83L4 21.41c.39.39.9.59 1.41.59.51 0 1.02-.2 1.41-.59l7.78-7.78 2.81-2.81c.8-.78.8-2.07 0-2.86zM5.41 20L4 18.59l7.72-7.72 1.47 1.35L5.41 20z\"/>\n",
              "  </svg>\n",
              "      </button>\n",
              "      \n",
              "  <style>\n",
              "    .colab-df-container {\n",
              "      display:flex;\n",
              "      flex-wrap:wrap;\n",
              "      gap: 12px;\n",
              "    }\n",
              "\n",
              "    .colab-df-convert {\n",
              "      background-color: #E8F0FE;\n",
              "      border: none;\n",
              "      border-radius: 50%;\n",
              "      cursor: pointer;\n",
              "      display: none;\n",
              "      fill: #1967D2;\n",
              "      height: 32px;\n",
              "      padding: 0 0 0 0;\n",
              "      width: 32px;\n",
              "    }\n",
              "\n",
              "    .colab-df-convert:hover {\n",
              "      background-color: #E2EBFA;\n",
              "      box-shadow: 0px 1px 2px rgba(60, 64, 67, 0.3), 0px 1px 3px 1px rgba(60, 64, 67, 0.15);\n",
              "      fill: #174EA6;\n",
              "    }\n",
              "\n",
              "    [theme=dark] .colab-df-convert {\n",
              "      background-color: #3B4455;\n",
              "      fill: #D2E3FC;\n",
              "    }\n",
              "\n",
              "    [theme=dark] .colab-df-convert:hover {\n",
              "      background-color: #434B5C;\n",
              "      box-shadow: 0px 1px 3px 1px rgba(0, 0, 0, 0.15);\n",
              "      filter: drop-shadow(0px 1px 2px rgba(0, 0, 0, 0.3));\n",
              "      fill: #FFFFFF;\n",
              "    }\n",
              "  </style>\n",
              "\n",
              "      <script>\n",
              "        const buttonEl =\n",
              "          document.querySelector('#df-b1c18160-4516-41c7-bea6-eb3258d23076 button.colab-df-convert');\n",
              "        buttonEl.style.display =\n",
              "          google.colab.kernel.accessAllowed ? 'block' : 'none';\n",
              "\n",
              "        async function convertToInteractive(key) {\n",
              "          const element = document.querySelector('#df-b1c18160-4516-41c7-bea6-eb3258d23076');\n",
              "          const dataTable =\n",
              "            await google.colab.kernel.invokeFunction('convertToInteractive',\n",
              "                                                     [key], {});\n",
              "          if (!dataTable) return;\n",
              "\n",
              "          const docLinkHtml = 'Like what you see? Visit the ' +\n",
              "            '<a target=\"_blank\" href=https://colab.research.google.com/notebooks/data_table.ipynb>data table notebook</a>'\n",
              "            + ' to learn more about interactive tables.';\n",
              "          element.innerHTML = '';\n",
              "          dataTable['output_type'] = 'display_data';\n",
              "          await google.colab.output.renderOutput(dataTable, element);\n",
              "          const docLink = document.createElement('div');\n",
              "          docLink.innerHTML = docLinkHtml;\n",
              "          element.appendChild(docLink);\n",
              "        }\n",
              "      </script>\n",
              "    </div>\n",
              "  </div>\n",
              "  "
            ]
          },
          "metadata": {},
          "execution_count": 50
        },
        {
          "output_type": "display_data",
          "data": {
            "text/plain": [
              "<Figure size 640x480 with 2 Axes>"
            ],
            "image/png": "[encoded data removed]"
          },
          "metadata": {}
        }
      ]
    },
    {
      "cell_type": "markdown",
      "source": [
        "Q6) Aplique a regressão Multipla pra identificar a relacao das produções agricolas e as variáveis\n",
        "climáticas. O método estatístico utilizado para modelar a relação entre uma variável dependente\n",
        "e duas ou mais variáveis independentes. No Python, você pode realizar regressão múltipla\n",
        "utilizando bibliotecas como o NumPy, o pandas e o scikit-learn"
      ],
      "metadata": {
        "id": "F1QuvQC9Sg26"
      }
    },
    {
      "cell_type": "code",
      "source": [
        "#Variáveis independentes\n",
        "X = arqv[['temp', 'umidade', 'prec', 'NTrabalhadores']]\n",
        "\n",
        "# Variável dependente 'ProdBd'\n",
        "y_prodbd = arqv['ProdBd']\n",
        "modelo_prodbd = LinearRegression()\n",
        "modelo_prodbd.fit(X, y_prodbd)\n",
        "\n",
        "# Variável dependente 'ProdBi'\n",
        "y_prodbi = arqv['ProdBi']\n",
        "modelo_prodbi = LinearRegression()\n",
        "modelo_prodbi.fit(X, y_prodbi)\n",
        "\n",
        "# Coeficientes e termo independente para 'ProdBd'\n",
        "coeficientes_prodbd = modelo_prodbd.coef_\n",
        "termo_ind_prodbd = modelo_prodbd.intercept_\n",
        "\n",
        "# Coeficientes e termo independente para 'ProdBi'\n",
        "coeficientes_prodbi = modelo_prodbi.coef_\n",
        "termo_ind_prodbi = modelo_prodbi.intercept_\n",
        "\n",
        "# Imprimir coeficientes para cada variável independente\n",
        "for i, column in enumerate(X.columns):\n",
        "    print(f'Coeficiente para {column} em ProdBd: {coeficientes_prodbd[i]}')\n",
        "    print(f'Coeficiente para {column} em ProdBi: {coeficientes_prodbi[i]}')\n",
        "\n",
        "# Imprimir termo independente\n",
        "print(f'Termo independente em ProdBd: {termo_ind_prodbd}')\n",
        "print(f'Termo independente em ProdBi: {termo_ind_prodbi}')"
      ],
      "metadata": {
        "id": "OrBOP6QzSmW8",
        "colab": {
          "base_uri": "https://localhost:8080/"
        },
        "outputId": "aaff8d34-4206-4406-bb83-7e44c3277616"
      },
      "execution_count": 62,
      "outputs": [
        {
          "output_type": "stream",
          "name": "stdout",
          "text": [
            "Coeficiente para temp em ProdBd: -298.13721260358125\n",
            "Coeficiente para temp em ProdBi: -15.88663346907935\n",
            "Coeficiente para umidade em ProdBd: 198.52701191945806\n",
            "Coeficiente para umidade em ProdBi: 15.052144468209825\n",
            "Coeficiente para prec em ProdBd: 3.1639239551535923\n",
            "Coeficiente para prec em ProdBi: -0.2121714613813186\n",
            "Coeficiente para NTrabalhadores em ProdBd: 11.209924446903788\n",
            "Coeficiente para NTrabalhadores em ProdBi: -0.4225030742694813\n",
            "Termo independente em ProdBd: 39320.495226334126\n",
            "Termo independente em ProdBi: 4745.914672882789\n"
          ]
        }
      ]
    },
    {
      "cell_type": "markdown",
      "source": [
        "Q7) Aplique os dois tipos de estatística de teste para realizar um teste de comparação de médias. Você pode utilizar diferentes métodos estatísticos, dependendo das características dos seus dados e do objetivo da comparação. Os dois métodos comuns: o teste t de Student (2 var independentes) e a análise de variância- ANOVA (mais de um var independentes). Escolha umadas variáveis independentes e aplique o teste"
      ],
      "metadata": {
        "id": "7L58h2n2lSik"
      }
    },
    {
      "cell_type": "code",
      "source": [
        "# Dados das amostras independentes\n",
        "X = arqv[arqv['temp'] < 25]['ProdBd']\n",
        "Y = arqv[arqv['temp'] >= 25]['ProdBd']\n",
        "\n",
        "# Teste t de Student\n",
        "t_statistic, p_value = stats.ttest_ind(X, Y)\n",
        "\n",
        "# Imprimir os resultados\n",
        "print(\"Teste t de Student:\")\n",
        "print(\"Estatística t:\", t_statistic)\n",
        "print(\"Valor de p:\", p_value)"
      ],
      "metadata": {
        "colab": {
          "base_uri": "https://localhost:8080/"
        },
        "id": "avtOxB4Wx66z",
        "outputId": "e1c1864f-cbf4-44d6-8ebb-cf49b3a19b68"
      },
      "execution_count": 53,
      "outputs": [
        {
          "output_type": "stream",
          "name": "stdout",
          "text": [
            "Teste t de Student:\n",
            "Estatística t: -0.265155664660419\n",
            "Valor de p: 0.7910728687379285\n"
          ]
        }
      ]
    },
    {
      "cell_type": "code",
      "source": [
        "# Dados das variáveis independentes e dependente\n",
        "VI1 = arqv['temp']\n",
        "VI2 = arqv['umidade']\n",
        "VI3 = arqv['prec']\n",
        "VD = arqv['ProdBd']\n",
        "\n",
        "# Teste ANOVA\n",
        "f_statistic, p_value = stats.f_oneway(VI1, VI2, VI3, VD)\n",
        "\n",
        "# Imprimir os resultados\n",
        "print(\"Teste ANOVA:\")\n",
        "print(\"Estatística F:\", f_statistic)\n",
        "print(\"Valor de p:\", p_value)\n"
      ],
      "metadata": {
        "colab": {
          "base_uri": "https://localhost:8080/"
        },
        "id": "d_KZJiI1ySfm",
        "outputId": "716bd858-76b8-4f9c-89b5-83bc40a84b98"
      },
      "execution_count": 52,
      "outputs": [
        {
          "output_type": "stream",
          "name": "stdout",
          "text": [
            "Teste ANOVA:\n",
            "Estatística F: 879.1539683411796\n",
            "Valor de p: 7.174246656045777e-302\n"
          ]
        }
      ]
    },
    {
      "cell_type": "code",
      "source": [
        "def regressao_multipla(dados):\n",
        "    # Carregar os dados do banco de dados para um DataFrame do pandas\n",
        "\n",
        "    # Separar as variáveis independentes (climáticas) da variável dependente (produção agrícola)\n",
        "    X = arqv.iloc[:, 4:-2].values  # A partir da quarta coluna até a antepenúltima são as variáveis independentes\n",
        "    y = arqv.iloc[:, -2:].values   # As duas últimas colunas são as variáveis dependentes\n",
        "\n",
        "\n",
        "    # Criar o objeto de regressão linear\n",
        "    regressor = LinearRegression()\n",
        "\n",
        "    # Treinar o modelo de regressão múltipla\n",
        "    regressor.fit(X, y)\n",
        "\n",
        "    # Imprimir os coeficientes de regressão\n",
        "    coeficientes = regressor.coef_\n",
        "    print(\"Coeficientes de regressão:\")\n",
        "    for i, coef in enumerate(coeficientes):\n",
        "        print(f\"Variável {i+1}: {coef}\")\n",
        "\n",
        "    # Imprimir o coeficiente de intercepção\n",
        "    intercepto = regressor.intercept_\n",
        "    print(f\"Coeficiente de intercepção: {intercepto}\")\n",
        "\n",
        "    # Realizar previsões\n",
        "    previsoes = regressor.predict(X)\n",
        "    print(\"Previsões:\")\n",
        "    for i, prev in enumerate(previsoes):\n",
        "        print(f\"Previsão {i+1}: {prev}\")\n",
        "\n",
        "# Exemplo de uso da função\n",
        "regressao_multipla(\"arqv.csv\")  # Substitua \"dados.csv\" pelo caminho ou nome do arquivo do banco de dados\n"
      ],
      "metadata": {
        "id": "Ac1HMHLOzoKr",
        "colab": {
          "base_uri": "https://localhost:8080/"
        },
        "outputId": "0d1506cc-77a8-4ee8-b288-8bef19fd83aa"
      },
      "execution_count": 54,
      "outputs": [
        {
          "output_type": "stream",
          "name": "stdout",
          "text": [
            "Coeficientes de regressão:\n",
            "Variável 1: [-104.66084555   18.82670689   51.32920905  293.71331865  -46.86191618\n",
            "  450.0838798   534.81461874 -333.84553807  103.59504423    9.06829397]\n",
            "Variável 2: [ -7.53041509   0.1142065    2.12490569  20.02136559  44.36170744\n",
            "  36.16037961  -4.33302621 -19.01032818   6.31898488   0.37297969]\n",
            "Coeficiente de intercepção: [-47582.52916182  -1880.97760912]\n",
            "Previsões:\n",
            "Previsão 1: [6836.9411735  1557.82171824]\n",
            "Previsão 2: [-438.33613532 1532.38675427]\n",
            "Previsão 3: [13933.82734522  2153.77341321]\n",
            "Previsão 4: [23418.44461119  3248.26054335]\n",
            "Previsão 5: [9934.57428744 1814.90922823]\n",
            "Previsão 6: [22313.86406697  2980.58209597]\n",
            "Previsão 7: [12205.683639    2095.26229215]\n",
            "Previsão 8: [28341.91815077  3540.87177319]\n",
            "Previsão 9: [5710.49933231 1395.55179998]\n",
            "Previsão 10: [15449.5087522   2491.38540132]\n",
            "Previsão 11: [55561.62621602  5493.25463981]\n",
            "Previsão 12: [61415.66121106  6603.40402858]\n",
            "Previsão 13: [40552.20641289  4514.40173816]\n",
            "Previsão 14: [52074.84422312  5752.74167679]\n",
            "Previsão 15: [63334.68603624  6615.67074053]\n",
            "Previsão 16: [69000.27211426  7640.01362325]\n",
            "Previsão 17: [87035.28442808  8791.91461196]\n",
            "Previsão 18: [94504.98767549  9547.38814577]\n",
            "Previsão 19: [5795.31228465 1541.57815948]\n",
            "Previsão 20: [33622.05917016  3968.45396478]\n",
            "Previsão 21: [1524.84101114 1194.81186901]\n",
            "Previsão 22: [15130.1683049   2366.88558928]\n",
            "Previsão 23: [33933.36258327  4047.25665675]\n",
            "Previsão 24: [47983.08528605  5316.34989264]\n",
            "Previsão 25: [57288.15116185  6252.9382628 ]\n",
            "Previsão 26: [67314.39083171  7073.11427373]\n",
            "Previsão 27: [75397.80988547  7790.16046343]\n",
            "Previsão 28: [82041.23223992  8491.95078921]\n",
            "Previsão 29: [87761.82601924  9066.52908558]\n",
            "Previsão 30: [9524.81339694 1717.34393395]\n",
            "Previsão 31: [20148.53035345  2779.96939677]\n",
            "Previsão 32: [43209.04387349  4720.05502306]\n",
            "Previsão 33: [50316.9683367   5491.60596798]\n",
            "Previsão 34: [63652.24103781  6688.12370224]\n",
            "Previsão 35: [68744.59472185  7214.59434115]\n",
            "Previsão 36: [76975.13355701  7937.89665144]\n",
            "Previsão 37: [86090.03066459  8850.01619204]\n",
            "Previsão 38: [90299.66641418  9195.61102354]\n",
            "Previsão 39: [8459.21796479 1790.39141226]\n",
            "Previsão 40: [21776.18864259  2971.3926984 ]\n",
            "Previsão 41: [38807.17979847  4309.21082287]\n",
            "Previsão 42: [46792.35449718  5117.18620541]\n",
            "Previsão 43: [67848.43405008  7052.68460401]\n",
            "Previsão 44: [56884.49988736  6072.55038087]\n",
            "Previsão 45: [81880.57272262  8412.75002921]\n",
            "Previsão 46: [95461.84001192  9711.44401989]\n",
            "Previsão 47: [37000.67160417  4224.75904425]\n",
            "Previsão 48: [48433.33947722  5524.69943151]\n",
            "Previsão 49: [68871.08828788  7309.25312595]\n",
            "Previsão 50: [76675.87357132  7969.18540593]\n",
            "Previsão 51: [87738.02816776  9012.00676699]\n",
            "Previsão 52: [93820.0622155   9478.65279484]\n",
            "Previsão 53: [5856.04394495 1372.62617056]\n",
            "Previsão 54: [16291.74738737  2415.7689725 ]\n",
            "Previsão 55: [35313.51889655  4053.65078003]\n",
            "Previsão 56: [49751.98109034  5333.46182292]\n",
            "Previsão 57: [59079.2459826   6378.90969197]\n",
            "Previsão 58: [67684.62399845  7045.79195545]\n",
            "Previsão 59: [84370.32895753  8670.83658449]\n",
            "Previsão 60: [45705.01748717  5022.25653736]\n",
            "Previsão 61: [62324.8151075   6731.39486643]\n",
            "Previsão 62: [24962.60219445  3391.84472893]\n",
            "Previsão 63: [42802.6759796   4725.18800916]\n",
            "Previsão 64: [60726.33450949  6520.09660215]\n",
            "Previsão 65: [86385.69118625  8838.86363981]\n",
            "Previsão 66: [12247.23548746  1988.0071236 ]\n",
            "Previsão 67: [22206.37146773  3014.75571447]\n",
            "Previsão 68: [55568.24070768  6105.94762138]\n",
            "Previsão 69: [87092.76838488  8792.75413905]\n",
            "Previsão 70: [99739.69516042 10003.86950101]\n",
            "Previsão 71: [41690.01133205  4661.83151101]\n",
            "Previsão 72: [62543.62031827  6690.12872692]\n",
            "Previsão 73: [12376.88724201  2050.50278728]\n",
            "Previsão 74: [24211.58312271  3224.07557068]\n",
            "Previsão 75: [56474.20263721  6026.78975825]\n",
            "Previsão 76: [79424.83381131  8209.16146778]\n",
            "Previsão 77: [95658.34284617  9649.79220881]\n",
            "Previsão 78: [29161.22073867  3609.5858931 ]\n",
            "Previsão 79: [49576.91233466  5484.73143323]\n",
            "Previsão 80: [69031.66364645  7258.38807253]\n",
            "Previsão 81: [76991.59645737  7904.48265159]\n",
            "Previsão 82: [90570.85622327  9251.7513853 ]\n",
            "Previsão 83: [-569.87267308  986.94009432]\n",
            "Previsão 84: [15817.9689363   2358.51206344]\n",
            "Previsão 85: [5206.59108265 1526.72488803]\n",
            "Previsão 86: [22421.54277423  2943.93472858]\n",
            "Previsão 87: [38749.2979337   4340.56626599]\n",
            "Previsão 88: [28297.88347099  3600.4310782 ]\n",
            "Previsão 89: [38878.52869448  4398.80019384]\n",
            "Previsão 90: [49798.22764561  5618.1352123 ]\n",
            "Previsão 91: [65286.40574555  6873.95266019]\n",
            "Previsão 92: [73052.14475406  7577.76706696]\n",
            "Previsão 93: [73384.12322425  7621.66757724]\n",
            "Previsão 94: [76892.04238668  8047.84118281]\n",
            "Previsão 95: [87182.8645905   8949.11724196]\n",
            "Previsão 96: [94242.1264588   9511.03461913]\n",
            "Previsão 97: [42539.79553212  4863.55199995]\n",
            "Previsão 98: [61188.83320796  6528.89352607]\n",
            "Previsão 99: [86293.02843564  8768.31896504]\n",
            "Previsão 100: [34871.43783676  4036.59855698]\n",
            "Previsão 101: [63251.87622526  6582.08456422]\n",
            "Previsão 102: [84016.05784142  8638.21748359]\n",
            "Previsão 103: [8621.21043623 1819.63682949]\n",
            "Previsão 104: [26474.43325149  3327.21970087]\n",
            "Previsão 105: [42163.77047191  4722.31089207]\n",
            "Previsão 106: [63531.63713947  6731.3673515 ]\n",
            "Previsão 107: [51384.21819191  5600.4850249 ]\n",
            "Previsão 108: [68116.94502216  7203.01403468]\n",
            "Previsão 109: [76529.87630703  7864.38022315]\n",
            "Previsão 110: [90860.62442148  9217.6510105 ]\n",
            "Previsão 111: [49900.23880615  5673.03768525]\n",
            "Previsão 112: [82167.35925957  8331.05411073]\n",
            "Previsão 113: [96769.41802084  9737.37651394]\n",
            "Previsão 114: [34018.90762091  3961.36283897]\n",
            "Previsão 115: [49409.95331741  5611.46691991]\n",
            "Previsão 116: [62058.00579498  6644.24091451]\n",
            "Previsão 117: [72144.9454478   7471.38526172]\n",
            "Previsão 118: [77867.45904006  8069.25150079]\n",
            "Previsão 119: [88192.22797382  9038.49072046]\n",
            "Previsão 120: [94571.86894124  9473.33554137]\n",
            "Previsão 121: [44315.15496616  4898.41737959]\n",
            "Previsão 122: [59380.53481776  6441.99901081]\n",
            "Previsão 123: [84440.47102567  8651.07937692]\n",
            "Previsão 124: [40900.44579165  4481.60680154]\n",
            "Previsão 125: [57268.51626057  6139.48945958]\n",
            "Previsão 126: [83849.41571918  8493.33946588]\n",
            "Previsão 127: [97246.7033115   9763.78263528]\n",
            "Previsão 128: [47361.76292569  5268.33450423]\n",
            "Previsão 129: [65567.57023495  6957.68630872]\n",
            "Previsão 130: [36590.98171902  4181.95575668]\n",
            "Previsão 131: [51646.78107049  5625.8863259 ]\n",
            "Previsão 132: [71459.76166962  7445.98335187]\n",
            "Previsão 133: [76752.79213451  7953.17562777]\n",
            "Previsão 134: [93906.27615776  9393.85214745]\n",
            "Previsão 135: [4964.91507675 1361.01095635]\n",
            "Previsão 136: [19827.11920909  2702.71963149]\n",
            "Previsão 137: [41183.70321185  4665.99992001]\n",
            "Previsão 138: [62730.57975469  6634.53203822]\n",
            "Previsão 139: [86982.6560438   8982.32051575]\n",
            "Previsão 140: [30572.36957563  3641.53589367]\n",
            "Previsão 141: [54707.8022481   6043.68261107]\n",
            "Previsão 142: [82964.72908972  8466.1322861 ]\n",
            "Previsão 143: [97296.32750085  9808.67013166]\n",
            "Previsão 144: [46061.70509889  5213.76261659]\n",
            "Previsão 145: [69858.04756324  7245.84517793]\n",
            "Previsão 146: [31942.19460837  3778.28435184]\n",
            "Previsão 147: [ 826.05781162 1121.81258218]\n",
            "Previsão 148: [15409.82227771  2363.33585547]\n",
            "Previsão 149: [13559.13069951  2211.73474678]\n",
            "Previsão 150: [3545.20418589 1448.78116285]\n",
            "Previsão 151: [22222.38255601  2870.71009432]\n",
            "Previsão 152: [43626.78471824  4902.98589997]\n",
            "Previsão 153: [62005.88670389  6681.10846618]\n",
            "Previsão 154: [35958.21431545  4165.94909859]\n",
            "Previsão 155: [59957.38367708  6459.96289155]\n",
            "Previsão 156: [82255.81014179  8565.80065418]\n",
            "Previsão 157: [14430.10847586  2128.25018195]\n",
            "Previsão 158: [24425.6801187   3213.54620494]\n",
            "Previsão 159: [52039.00509286  5729.89095357]\n",
            "Previsão 160: [73247.23924594  7578.95510694]\n",
            "Previsão 161: [73231.70826999  7667.72504949]\n",
            "Previsão 162: [77660.70243475  8104.71430465]\n",
            "Previsão 163: [88681.21456132  9119.05838554]\n",
            "Previsão 164: [92009.03646002  9447.69811637]\n",
            "Previsão 165: [50512.19473226  5578.66924835]\n",
            "Previsão 166: [72606.05096082  7492.12044525]\n",
            "Previsão 167: [77309.06340129  8017.11603776]\n",
            "Previsão 168: [88190.4002652   9049.28288937]\n",
            "Previsão 169: [91112.12325941  9249.02656528]\n",
            "Previsão 170: [46869.68927563  5076.83112644]\n",
            "Previsão 171: [65895.6072751   6992.16632755]\n",
            "Previsão 172: [1447.43072187 1181.22224238]\n",
            "Previsão 173: [15509.69546319  2467.30678829]\n",
            "Previsão 174: [8452.93132322 1791.4215359 ]\n",
            "Previsão 175: [21320.19058106  2933.13963009]\n",
            "Previsão 176: [33117.23895292  3904.98314977]\n",
            "Previsão 177: [60932.0373385  6304.7644252]\n",
            "Previsão 178: [83047.49885856  8462.86047684]\n",
            "Previsão 179: [95316.06169448  9713.72152774]\n",
            "Previsão 180: [39606.32372367  4407.72147457]\n",
            "Previsão 181: [56120.42764726  5957.92569018]\n",
            "Previsão 182: [78688.70815599  8202.30204537]\n",
            "Previsão 183: [96556.08845736  9746.22119966]\n",
            "Previsão 184: [41753.94184928  4616.96338056]\n",
            "Previsão 185: [62046.10390905  6618.74347919]\n",
            "Previsão 186: [83906.63976193  8754.20093446]\n",
            "Previsão 187: [11259.07450565  1948.06897753]\n",
            "Previsão 188: [25706.08340641  3272.81677617]\n",
            "Previsão 189: [6641.96184053 1643.56117263]\n",
            "Previsão 190: [21273.70592901  2886.04029213]\n",
            "Previsão 191: [13775.14271576  2191.18502152]\n",
            "Previsão 192: [28667.71298943  3519.7290767 ]\n",
            "Previsão 193: [37807.0989241  4269.1790638]\n",
            "Previsão 194: [48157.98696141  5280.92633368]\n",
            "Previsão 195: [59338.20945993  6411.97364193]\n",
            "Previsão 196: [67982.94149963  7095.98802273]\n",
            "Previsão 197: [82459.27709706  8564.6317412 ]\n",
            "Previsão 198: [6792.29764445 1592.55090331]\n",
            "Previsão 199: [16938.10972875  2604.46238599]\n",
            "Previsão 200: [34143.07768012  4026.40654321]\n",
            "Previsão 201: [55413.12544449  5912.41052446]\n",
            "Previsão 202: [81581.65098726  8350.03212561]\n",
            "Previsão 203: [97755.4919509   9715.13302752]\n",
            "Previsão 204: [11391.50251308  1992.43671377]\n",
            "Previsão 205: [21994.37644764  3015.12171641]\n",
            "Previsão 206: [42309.83270827  4733.06304942]\n",
            "Previsão 207: [48156.61798737  5401.45781226]\n",
            "Previsão 208: [60544.23169511  6553.31180609]\n",
            "Previsão 209: [69111.14621686  7267.7729986 ]\n",
            "Previsão 210: [78777.14930989  8053.41230951]\n",
            "Previsão 211: [87081.24523508  8896.91834088]\n",
            "Previsão 212: [90832.67970152  9275.48410759]\n",
            "Previsão 213: [12789.51222491  2165.92586876]\n",
            "Previsão 214: [11588.56778106  1937.50584351]\n",
            "Previsão 215: [20677.30720439  2856.70976255]\n",
            "Previsão 216: [3222.02554757 1283.38554828]\n",
            "Previsão 217: [17919.17288237  2563.02061627]\n",
            "Previsão 218: [33320.54807442  3941.56950624]\n",
            "Previsão 219: [59999.45406098  6388.94935493]\n",
            "Previsão 220: [83552.78047629  8554.57538582]\n",
            "Previsão 221: [102615.58231125  10128.15703455]\n",
            "Previsão 222: [ 382.40706058 1072.68743144]\n",
            "Previsão 223: [13337.18557861  2212.17770651]\n",
            "Previsão 224: [29041.71911992  3630.78375011]\n",
            "Previsão 225: [47708.383568    5176.52434408]\n",
            "Previsão 226: [55741.8288399   6027.72204188]\n",
            "Previsão 227: [66285.65254273  6975.47477416]\n",
            "Previsão 228: [83601.7140237   8514.64745823]\n",
            "Previsão 229: [96332.10042578  9739.18213036]\n",
            "Previsão 230: [46275.26524055  5235.83785873]\n",
            "Previsão 231: [67880.20371247  7091.77248873]\n",
            "Previsão 232: [49746.45422224  5635.49436433]\n",
            "Previsão 233: [74740.12312675  7655.84713818]\n",
            "Previsão 234: [73241.63397175  7593.70625271]\n",
            "Previsão 235: [77096.6614351   8044.03920962]\n",
            "Previsão 236: [89775.07965216  9157.06274093]\n",
            "Previsão 237: [94034.16153052  9523.37036708]\n",
            "Previsão 238: [31242.96189274  3770.46281652]\n",
            "Previsão 239: [38771.63419781  4478.78006291]\n",
            "Previsão 240: [49050.58115909  5366.75854956]\n",
            "Previsão 241: [60522.9797481   6477.39207019]\n",
            "Previsão 242: [67237.33125415  7173.27134426]\n",
            "Previsão 243: [75644.0350997   7835.62549995]\n",
            "Previsão 244: [83601.5403698   8658.36118639]\n",
            "Previsão 245: [89618.66367555  9148.54770377]\n",
            "Previsão 246: [38384.23579344  4320.78473575]\n",
            "Previsão 247: [60042.98839031  6466.37734786]\n",
            "Previsão 248: [84754.90145625  8694.69586915]\n",
            "Previsão 249: [10475.71566076  1832.03403126]\n",
            "Previsão 250: [20569.70772745  2809.51937682]\n",
            "Previsão 251: [11502.64264083  2006.1012531 ]\n",
            "Previsão 252: [25690.49580621  3349.08857186]\n",
            "Previsão 253: [34966.24913221  4072.32333122]\n",
            "Previsão 254: [52298.84734819  5821.2494388 ]\n",
            "Previsão 255: [78616.42154244  8190.01888001]\n",
            "Previsão 256: [96689.21274982  9645.90535457]\n",
            "Previsão 257: [4110.06176004 1356.74410364]\n",
            "Previsão 258: [18579.51647836  2555.12410782]\n",
            "Previsão 259: [43976.49484877  4861.54789451]\n",
            "Previsão 260: [62145.00900405  6663.7918269 ]\n",
            "Previsão 261: [2977.00657047 1155.23757363]\n",
            "Previsão 262: [16042.81976749  2392.61296707]\n",
            "Previsão 263: [45483.15895235  5111.23541374]\n",
            "Previsão 264: [66373.20978683  6982.08350805]\n",
            "Previsão 265: [12425.13485982  2063.24397582]\n",
            "Previsão 266: [26596.17481204  3385.69708314]\n",
            "Previsão 267: [5332.33468961 1494.91164988]\n",
            "Previsão 268: [18554.07937052  2700.88058231]\n",
            "Previsão 269: [27454.63264272  3555.18606264]\n",
            "Previsão 270: [47085.6754322   5325.18234794]\n",
            "Previsão 271: [70065.47155046  7224.03950354]\n",
            "Previsão 272: [74155.17068182  7742.42137498]\n",
            "Previsão 273: [89651.56485583  9155.44926776]\n",
            "Previsão 274: [31964.48030518  3781.17958036]\n",
            "Previsão 275: [1296.38815802 1140.35825706]\n",
            "Previsão 276: [14160.42864181  2351.03126936]\n",
            "Previsão 277: [47963.99086796  5143.088528  ]\n",
            "Previsão 278: [64839.43953614  6809.53822301]\n",
            "Previsão 279: [39824.0508787   4501.03095068]\n",
            "Previsão 280: [36160.28698523  4151.15708352]\n",
            "Previsão 281: [55970.00584285  6168.35356449]\n",
            "Previsão 282: [82205.7795492   8487.57078307]\n",
            "Previsão 283: [99173.63638528 10002.5076334 ]\n",
            "Previsão 284: [16463.47627444  2314.27685036]\n",
            "Previsão 285: [51764.33363612  5725.92330131]\n",
            "Previsão 286: [78909.15658317  8156.58299316]\n",
            "Previsão 287: [96170.16884108  9620.29255331]\n",
            "Previsão 288: [9597.56568995 1809.63744345]\n",
            "Previsão 289: [24585.83116808  3084.09713388]\n",
            "Previsão 290: [40352.99550104  4386.85390879]\n",
            "Previsão 291: [13843.67753217  2107.64294498]\n",
            "Previsão 292: [26392.70382738  3346.49577836]\n",
            "Previsão 293: [20506.45343827  2783.44791324]\n",
            "Previsão 294: [4325.09148345 1318.15247339]\n",
            "Previsão 295: [15503.76992622  2449.06958598]\n",
            "Previsão 296: [10735.62857735  1919.2251106 ]\n",
            "Previsão 297: [23861.04761892  3118.11852253]\n",
            "Previsão 298: [5840.02677918 1514.41044158]\n",
            "Previsão 299: [20049.54761676  2804.43527644]\n",
            "Previsão 300: [25717.20753124  3405.40792974]\n"
          ]
        }
      ]
    },
    {
      "cell_type": "code",
      "source": [
        "arqv['temp'].plot(kind = 'box')"
      ],
      "metadata": {
        "colab": {
          "base_uri": "https://localhost:8080/",
          "height": 447
        },
        "id": "n5-KAGPPccFL",
        "outputId": "7787f1fc-778b-4d20-9878-5148786be66b"
      },
      "execution_count": 55,
      "outputs": [
        {
          "output_type": "execute_result",
          "data": {
            "text/plain": [
              "<Axes: >"
            ]
          },
          "metadata": {},
          "execution_count": 55
        },
        {
          "output_type": "display_data",
          "data": {
            "text/plain": [
              "<Figure size 640x480 with 1 Axes>"
            ],
            "image/png": "[encoded data removed]"
          },
          "metadata": {}
        }
      ]
    },
    {
      "cell_type": "code",
      "source": [
        "arqv['temp'].hist();"
      ],
      "metadata": {
        "colab": {
          "base_uri": "https://localhost:8080/",
          "height": 434
        },
        "id": "RGhPkyb1diZa",
        "outputId": "dcaa3e53-f8f4-49aa-e3fd-32e4b8e1ac9e"
      },
      "execution_count": 56,
      "outputs": [
        {
          "output_type": "display_data",
          "data": {
            "text/plain": [
              "<Figure size 640x480 with 1 Axes>"
            ],
            "image/png": "[encoded data removed]"
          },
          "metadata": {}
        }
      ]
    },
    {
      "cell_type": "code",
      "source": [
        "X = arqv[['temp', 'umidade', 'prec', 'NTrabalhadores']]\n",
        "\n",
        "y_prodbd = arqv['ProdBd']\n",
        "modelo_prodbd = LinearRegression()\n",
        "modelo_prodbd.fit(X, y_prodbd)\n",
        "\n",
        "y_prodbi = arqv['ProdBi']\n",
        "modelo_prodbi = LinearRegression()\n",
        "modelo_prodbi.fit(X, y_prodbi)\n",
        "\n",
        "coeficientes_prodbd = modelo_prodbd.coef_\n",
        "termo_ind_prodbd = modelo_prodbd.intercept_\n",
        "\n",
        "coeficientes_prodbi = modelo_prodbi.coef_\n",
        "termo_ind_prodbi = modelo_prodbi.intercept_\n",
        "\n",
        "for i, column in enumerate(X.columns):\n",
        "\tprint(f'Coeficiente para {column} em ProdBd: {coeficientes_prodbd[i]}')\n",
        "\n",
        "\tprint(f'Coeficiente para {column} em ProdBi: {coeficientes_prodbi[i]}')\n",
        "\n",
        "print(f'Termo independente em ProdBd: {termo_ind_prodbd}')\n",
        "\n",
        "print(f'Termo independente em ProdBi: {termo_ind_prodbi}')"
      ],
      "metadata": {
        "colab": {
          "base_uri": "https://localhost:8080/"
        },
        "id": "W7GcKZNCi1W3",
        "outputId": "2554bfd6-a0e1-4972-98f3-6cf2d6a03f1c"
      },
      "execution_count": 57,
      "outputs": [
        {
          "output_type": "stream",
          "name": "stdout",
          "text": [
            "Coeficiente para temp em ProdBd: -298.13721260358125\n",
            "Coeficiente para temp em ProdBi: -15.88663346907935\n",
            "Coeficiente para umidade em ProdBd: 198.52701191945806\n",
            "Coeficiente para umidade em ProdBi: 15.052144468209825\n",
            "Coeficiente para prec em ProdBd: 3.1639239551535923\n",
            "Coeficiente para prec em ProdBi: -0.2121714613813186\n",
            "Coeficiente para NTrabalhadores em ProdBd: 11.209924446903788\n",
            "Coeficiente para NTrabalhadores em ProdBi: -0.4225030742694813\n",
            "Termo independente em ProdBd: 39320.495226334126\n",
            "Termo independente em ProdBi: 4745.914672882789\n"
          ]
        }
      ]
    },
    {
      "cell_type": "code",
      "source": [
        "# Dados das amostras independentes\n",
        "X = arqv[arqv['temp'] < 25]['ProdBd']\n",
        "Y = arqv[arqv['temp'] >= 25]['ProdBd']\n",
        "\n",
        "# Teste t de Student\n",
        "t_statistic, p_value = stats.ttest_ind(X, Y)\n",
        "\n",
        "# Imprimir os resultados\n",
        "print(\"Teste t de Student:\")\n",
        "print(\"Estatística t:\", t_statistic)\n",
        "print(\"Valor de p:\", p_value)\n"
      ],
      "metadata": {
        "colab": {
          "base_uri": "https://localhost:8080/"
        },
        "id": "zRbSSifsoQOg",
        "outputId": "31f3cb82-8626-4d50-d03f-78d194ea3f14"
      },
      "execution_count": 58,
      "outputs": [
        {
          "output_type": "stream",
          "name": "stdout",
          "text": [
            "Teste t de Student:\n",
            "Estatística t: -0.265155664660419\n",
            "Valor de p: 0.7910728687379285\n"
          ]
        }
      ]
    },
    {
      "cell_type": "code",
      "source": [
        "# Dados das variáveis independentes e dependente\n",
        "VI1 = arqv['temp']\n",
        "VI2 = arqv['umidade']\n",
        "VI3 = arqv['prec']\n",
        "VD = arqv['ProdBd']\n",
        "\n",
        "# Teste ANOVA\n",
        "f_statistic, p_value = stats.f_oneway(VI1, VI2, VI3, VD)\n",
        "\n",
        "# Imprimir os resultados\n",
        "print(\"Teste ANOVA:\")\n",
        "print(\"Estatística F:\", f_statistic)\n",
        "print(\"Valor de p:\", p_value)\n"
      ],
      "metadata": {
        "id": "u1AuahD0pGt6",
        "outputId": "22b8d001-e8a5-4e74-92b5-b9d1fff83fa8",
        "colab": {
          "base_uri": "https://localhost:8080/"
        }
      },
      "execution_count": 59,
      "outputs": [
        {
          "output_type": "stream",
          "name": "stdout",
          "text": [
            "Teste ANOVA:\n",
            "Estatística F: 879.1539683411796\n",
            "Valor de p: 7.174246656045777e-302\n"
          ]
        }
      ]
    }
  ]
}